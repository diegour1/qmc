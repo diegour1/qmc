{
  "nbformat": 4,
  "nbformat_minor": 0,
  "metadata": {
    "language_info": {
      "codemirror_mode": {
        "name": "ipython",
        "version": 3
      },
      "file_extension": ".py",
      "mimetype": "text/x-python",
      "name": "python",
      "nbconvert_exporter": "python",
      "pygments_lexer": "ipython3",
      "version": "3.8.8"
    },
    "orig_nbformat": 2,
    "kernelspec": {
      "name": "python388jvsc74a57bd06f5c4f860b8b5392c9fe536844a7572c0d9b36e44085495c747ab5a91e5f3cc1",
      "display_name": "Python 3.8.8 64-bit ('tf_x86': conda)"
    },
    "metadata": {
      "interpreter": {
        "hash": "6f5c4f860b8b5392c9fe536844a7572c0d9b36e44085495c747ab5a91e5f3cc1"
      }
    },
    "colab": {
      "name": "GPU-QM-DM-mnist.ipynb",
      "provenance": [],
      "include_colab_link": true
    },
    "accelerator": "GPU"
  },
  "cells": [
    {
      "cell_type": "markdown",
      "metadata": {
        "id": "view-in-github",
        "colab_type": "text"
      },
      "source": [
        "<a href=\"https://colab.research.google.com/github/fagonzalezo/qmc/blob/master/examples/GPU_QM_DM_mnist.ipynb\" target=\"_parent\"><img src=\"https://colab.research.google.com/assets/colab-badge.svg\" alt=\"Open In Colab\"/></a>"
      ]
    },
    {
      "cell_type": "code",
      "metadata": {
        "id": "dLf3P_V29LhR",
        "colab": {
          "base_uri": "https://localhost:8080/"
        },
        "outputId": "3395e4f0-171d-4616-ed3a-7804162229c9"
      },
      "source": [
        "# Install qmc if running in Google Colab\n",
        "\n",
        "try:\n",
        "  import google.colab\n",
        "  IN_COLAB = True\n",
        "except:\n",
        "  IN_COLAB = False\n",
        "\n",
        "if IN_COLAB:\n",
        "    !pip install --upgrade  git+https://github.com/fagonzalezo/qmc.git\n",
        "else:\n",
        "    import sys\n",
        "    sys.path.insert(0, \"../\")"
      ],
      "execution_count": 1,
      "outputs": []
    },
    {
      "cell_type": "code",
      "metadata": {
        "id": "kmwZ_WBj9lq_"
      },
      "source": [
        "import tensorflow as tf\n",
        "import numpy as np\n",
        "import qmc.tf.layers as layers\n",
        "import qmc.tf.models as models"
      ],
      "execution_count": 2,
      "outputs": []
    },
    {
      "cell_type": "code",
      "metadata": {
        "colab": {
          "base_uri": "https://localhost:8080/"
        },
        "id": "PyLwyfpqxN7M",
        "outputId": "8178e742-560b-41da-fbf2-dda968d76172"
      },
      "source": [
        "from tensorflow.keras.datasets import mnist\n",
        "from sklearn.preprocessing import MinMaxScaler, OneHotEncoder\n",
        "\n",
        "(X_train, y_train), (X_test, y_test) = mnist.load_data()\n",
        "\n",
        "X_train = X_train.reshape((60000,784))\n",
        "X_test = X_test.reshape((10000,784))\n",
        "\n",
        "X_train = X_train.astype('float32')\n",
        "X_test = X_test.astype('float32')\n",
        "\n",
        "scaler = MinMaxScaler()\n",
        "scaler.fit(X_train)\n",
        "X_train = scaler.transform(X_train)\n",
        "X_test = scaler.transform(X_test)\n",
        "\n",
        "transformer = OneHotEncoder(sparse=False)\n",
        "y_train_bin = transformer.fit_transform(y_train[:, np.newaxis])\n",
        "\n",
        "print(\"shape X_train : \", X_train.shape)\n",
        "print(\"shape y_train : \", y_train.shape)\n",
        "print(\"shape X_test : \", X_test.shape)\n",
        "print(\"shape y_test : \", y_test.shape)"
      ],
      "execution_count": 3,
      "outputs": [
        {
          "output_type": "stream",
          "name": "stdout",
          "text": [
            "shape X_train :  (60000, 784)\nshape y_train :  (60000,)\nshape X_test :  (10000, 784)\nshape y_test :  (10000,)\n"
          ]
        }
      ]
    },
    {
      "source": [
        "## Baseline"
      ],
      "cell_type": "markdown",
      "metadata": {}
    },
    {
      "cell_type": "code",
      "metadata": {
        "id": "CsNNXRvi92TV",
        "colab": {
          "base_uri": "https://localhost:8080/"
        },
        "outputId": "c8a67bbc-2f1c-4857-92c8-78f1c3fc11f5"
      },
      "source": [
        "BATCH_SIZE = 256\n",
        "\n",
        "model = tf.keras.models.Sequential([\n",
        "tf.keras.layers.Flatten(input_shape=(28, 28)),\n",
        "tf.keras.layers.Dense(128,activation='relu'),\n",
        "tf.keras.layers.Dense(10),\n",
        "tf.keras.layers.Softmax()\n",
        "])\n",
        "model.compile(\n",
        "    optimizer=tf.keras.optimizers.Adam(0.001),\n",
        "    loss=tf.keras.losses.CategoricalCrossentropy(),\n",
        "    metrics=[tf.keras.metrics.CategoricalAccuracy()],\n",
        ")\n",
        "EPOCHS = 10\n",
        "  \n",
        "history = model.fit(X_train, y_train_bin, batch_size=BATCH_SIZE,\n",
        "                    epochs=EPOCHS, validation_split=0.2)"
      ],
      "execution_count": 7,
      "outputs": [
        {
          "output_type": "stream",
          "name": "stdout",
          "text": [
            "Epoch 1/10\n",
            "WARNING:tensorflow:Model was constructed with shape (None, 28, 28) for input KerasTensor(type_spec=TensorSpec(shape=(None, 28, 28), dtype=tf.float32, name='flatten_input'), name='flatten_input', description=\"created by layer 'flatten_input'\"), but it was called on an input with incompatible shape (None, 784).\n",
            "WARNING:tensorflow:Model was constructed with shape (None, 28, 28) for input KerasTensor(type_spec=TensorSpec(shape=(None, 28, 28), dtype=tf.float32, name='flatten_input'), name='flatten_input', description=\"created by layer 'flatten_input'\"), but it was called on an input with incompatible shape (None, 784).\n",
            "163/188 [=========================>....] - ETA: 0s - loss: 0.8942 - categorical_accuracy: 0.7586WARNING:tensorflow:Model was constructed with shape (None, 28, 28) for input KerasTensor(type_spec=TensorSpec(shape=(None, 28, 28), dtype=tf.float32, name='flatten_input'), name='flatten_input', description=\"created by layer 'flatten_input'\"), but it was called on an input with incompatible shape (None, 784).\n",
            "188/188 [==============================] - 1s 3ms/step - loss: 0.8394 - categorical_accuracy: 0.7736 - val_loss: 0.2391 - val_categorical_accuracy: 0.9353\n",
            "Epoch 2/10\n",
            "188/188 [==============================] - 0s 2ms/step - loss: 0.2306 - categorical_accuracy: 0.9348 - val_loss: 0.1806 - val_categorical_accuracy: 0.9508\n",
            "Epoch 3/10\n",
            "188/188 [==============================] - 0s 2ms/step - loss: 0.1758 - categorical_accuracy: 0.9490 - val_loss: 0.1545 - val_categorical_accuracy: 0.9574\n",
            "Epoch 4/10\n",
            "188/188 [==============================] - 0s 2ms/step - loss: 0.1393 - categorical_accuracy: 0.9612 - val_loss: 0.1345 - val_categorical_accuracy: 0.9613\n",
            "Epoch 5/10\n",
            "188/188 [==============================] - 0s 2ms/step - loss: 0.1132 - categorical_accuracy: 0.9675 - val_loss: 0.1216 - val_categorical_accuracy: 0.9658\n",
            "Epoch 6/10\n",
            "188/188 [==============================] - 0s 2ms/step - loss: 0.0950 - categorical_accuracy: 0.9746 - val_loss: 0.1127 - val_categorical_accuracy: 0.9684\n",
            "Epoch 7/10\n",
            "188/188 [==============================] - 0s 2ms/step - loss: 0.0815 - categorical_accuracy: 0.9776 - val_loss: 0.1067 - val_categorical_accuracy: 0.9691\n",
            "Epoch 8/10\n",
            "188/188 [==============================] - 0s 2ms/step - loss: 0.0680 - categorical_accuracy: 0.9822 - val_loss: 0.1037 - val_categorical_accuracy: 0.9702\n",
            "Epoch 9/10\n",
            "188/188 [==============================] - 0s 2ms/step - loss: 0.0614 - categorical_accuracy: 0.9830 - val_loss: 0.0981 - val_categorical_accuracy: 0.9705\n",
            "Epoch 10/10\n",
            "188/188 [==============================] - 0s 2ms/step - loss: 0.0561 - categorical_accuracy: 0.9846 - val_loss: 0.0960 - val_categorical_accuracy: 0.9723\n"
          ]
        }
      ]
    },
    {
      "source": [
        "## Full training"
      ],
      "cell_type": "markdown",
      "metadata": {}
    },
    {
      "cell_type": "code",
      "metadata": {
        "id": "TWmn69C0JKL-",
        "colab": {
          "base_uri": "https://localhost:8080/"
        },
        "outputId": "8d82d510-4c0a-4515-f95a-e712fff80a62"
      },
      "source": [
        "BATCH_SIZE = 256\n",
        "input_dim = 784\n",
        "component_dim = 512\n",
        "gamma = 2**-5\n",
        "n_comp = 80\n",
        "random_state = 0\n",
        "dim_h = 30\n",
        "\n",
        "inputs = tf.keras.Input(shape=(784,))\n",
        "fm_x1 = layers.QFeatureMapRFF(784, dim=component_dim , gamma=gamma, random_state=random_state)\n",
        "psi_x = fm_x1(inputs)\n",
        "ones = tf.ones_like(inputs[:, 0:1])\n",
        "rho_x = tf.keras.layers.concatenate((ones, psi_x), axis=1)\n",
        "rho_x = tf.expand_dims(rho_x, axis=-1)\n",
        "qmdmc1 = layers.QMClassifSDecompFDMatrix(dim_x=component_dim, dim_y=dim_h, n_comp=n_comp)\n",
        "rho_h = qmdmc1(rho_x)\n",
        "qmdmc2 = layers.QMClassifSDecompFDMatrix(dim_x=dim_h, dim_y=10, n_comp=n_comp)\n",
        "rho_y = qmdmc2(rho_h)\n",
        "y_w = rho_y[:, 0, :] # shape (b, d_in)\n",
        "y_v = rho_y[:, 1:, :] # shape (b, dim_x, d_in)\n",
        "probs = tf.einsum('...j,...ij,...ij->...i', y_w, y_v, tf.math.conj(y_v))\n",
        "qmdmclf2 = tf.keras.Model(inputs=inputs, outputs=probs)\n",
        "opt = tf.keras.optimizers.Adam(learning_rate=0.001)\n",
        "qmdmclf2.compile(loss=tf.keras.losses.CategoricalCrossentropy(), optimizer=opt, metrics=['accuracy'])\n",
        "\n",
        "# fm_x1.trainable = False\n",
        "\n",
        "EPOCHS = 10\n",
        "  \n",
        "history = qmdmclf2.fit(X_train, y_train_bin, batch_size=BATCH_SIZE,\n",
        "                    epochs=EPOCHS, validation_split=0.2)"
      ],
      "execution_count": 45,
      "outputs": [
        {
          "output_type": "stream",
          "name": "stdout",
          "text": [
            "Epoch 1/10\n",
            "188/188 [==============================] - 14s 72ms/step - loss: 1.3676 - accuracy: 0.6204 - val_loss: 0.4025 - val_accuracy: 0.9316\n",
            "Epoch 2/10\n",
            "188/188 [==============================] - 13s 70ms/step - loss: 0.3497 - accuracy: 0.9428 - val_loss: 0.3187 - val_accuracy: 0.9455\n",
            "Epoch 3/10\n",
            "188/188 [==============================] - 14s 72ms/step - loss: 0.2756 - accuracy: 0.9571 - val_loss: 0.3494 - val_accuracy: 0.9398\n",
            "Epoch 4/10\n",
            "188/188 [==============================] - 13s 71ms/step - loss: 0.2759 - accuracy: 0.9571 - val_loss: 0.3264 - val_accuracy: 0.9461\n",
            "Epoch 5/10\n",
            "188/188 [==============================] - 13s 70ms/step - loss: 0.2513 - accuracy: 0.9622 - val_loss: 0.2629 - val_accuracy: 0.9561\n",
            "Epoch 6/10\n",
            "188/188 [==============================] - 13s 70ms/step - loss: 0.2041 - accuracy: 0.9714 - val_loss: 0.2457 - val_accuracy: 0.9589\n",
            "Epoch 7/10\n",
            "188/188 [==============================] - 13s 70ms/step - loss: 0.1885 - accuracy: 0.9745 - val_loss: 0.2371 - val_accuracy: 0.9618\n",
            "Epoch 8/10\n",
            "188/188 [==============================] - 13s 70ms/step - loss: 0.1778 - accuracy: 0.9767 - val_loss: 0.2294 - val_accuracy: 0.9632\n",
            "Epoch 9/10\n",
            "188/188 [==============================] - 13s 70ms/step - loss: 0.1640 - accuracy: 0.9796 - val_loss: 0.2219 - val_accuracy: 0.9644\n",
            "Epoch 10/10\n",
            "188/188 [==============================] - 13s 70ms/step - loss: 0.1563 - accuracy: 0.9816 - val_loss: 0.2158 - val_accuracy: 0.9653\n"
          ]
        }
      ]
    },
    {
      "source": [
        "## Layerwise training"
      ],
      "cell_type": "markdown",
      "metadata": {}
    },
    {
      "cell_type": "code",
      "metadata": {
        "id": "oOte8WRc999W",
        "colab": {
          "base_uri": "https://localhost:8080/"
        },
        "outputId": "68e2a6cd-a94c-43bd-daf8-a12849f616d6"
      },
      "source": [
        "BATCH_SIZE = 256\n",
        "input_dim = 784\n",
        "component_dim = 512\n",
        "gamma = 2**-5\n",
        "n_comp = 80\n",
        "random_state = 0\n",
        "\n",
        "inputs = tf.keras.Input(shape=(784,))\n",
        "fm_x = layers.QFeatureMapRFF(784, dim=component_dim , gamma=gamma, random_state=random_state)\n",
        "psi_x = fm_x(inputs)\n",
        "ones = tf.ones_like(inputs[:, 0:1])\n",
        "rho_x = tf.keras.layers.concatenate((ones, psi_x), axis=1)\n",
        "rho_x = tf.expand_dims(rho_x, axis=-1)\n",
        "#qmdmc = layers.QMeasureDMClassifEig(dim_x=component_dim , dim_y=10, eig_out=num_eig, num_eig=num_eig)\n",
        "qmdmc = layers.QMClassifSDecompFDMatrix(dim_x=component_dim, dim_y=10, n_comp=n_comp)\n",
        "rho_y = qmdmc(rho_x)\n",
        "y_w = rho_y[:, 0, :] # shape (b, d_in)\n",
        "y_v = rho_y[:, 1:, :] # shape (b, dim_x, d_in)\n",
        "probs = tf.einsum('...j,...ij,...ij->...i', y_w, y_v, tf.math.conj(y_v))\n",
        "qmdmclf = tf.keras.Model(inputs=inputs, outputs=probs)\n",
        "opt = tf.keras.optimizers.Adam(learning_rate=0.001)\n",
        "qmdmclf.compile(loss=tf.keras.losses.CategoricalCrossentropy(), optimizer=opt, metrics=['accuracy'])\n",
        "\n",
        "EPOCHS = 10\n",
        "  \n",
        "history = qmdmclf.fit(X_train, y_train_bin, batch_size=BATCH_SIZE,\n",
        "                    epochs=EPOCHS, validation_split=0.2)"
      ],
      "execution_count": 46,
      "outputs": [
        {
          "output_type": "stream",
          "name": "stdout",
          "text": [
            "Epoch 1/10\n",
            "188/188 [==============================] - 12s 59ms/step - loss: 1.2762 - accuracy: 0.6820 - val_loss: 0.3678 - val_accuracy: 0.9387\n",
            "Epoch 2/10\n",
            "188/188 [==============================] - 10s 54ms/step - loss: 0.3325 - accuracy: 0.9466 - val_loss: 0.2920 - val_accuracy: 0.9494\n",
            "Epoch 3/10\n",
            "188/188 [==============================] - 10s 54ms/step - loss: 0.2429 - accuracy: 0.9633 - val_loss: 0.2647 - val_accuracy: 0.9548\n",
            "Epoch 4/10\n",
            "188/188 [==============================] - 10s 54ms/step - loss: 0.2071 - accuracy: 0.9717 - val_loss: 0.9818 - val_accuracy: 0.7632\n",
            "Epoch 5/10\n",
            "188/188 [==============================] - 10s 54ms/step - loss: 0.6166 - accuracy: 0.8691 - val_loss: 0.3194 - val_accuracy: 0.9459\n",
            "Epoch 6/10\n",
            "188/188 [==============================] - 10s 54ms/step - loss: 0.2694 - accuracy: 0.9602 - val_loss: 0.2970 - val_accuracy: 0.9493\n",
            "Epoch 7/10\n",
            "188/188 [==============================] - 10s 54ms/step - loss: 0.3212 - accuracy: 0.9506 - val_loss: 0.2907 - val_accuracy: 0.9507\n",
            "Epoch 8/10\n",
            "188/188 [==============================] - 10s 54ms/step - loss: 0.2283 - accuracy: 0.9684 - val_loss: 0.2700 - val_accuracy: 0.9542\n",
            "Epoch 9/10\n",
            "188/188 [==============================] - 10s 54ms/step - loss: 0.2039 - accuracy: 0.9730 - val_loss: 0.2521 - val_accuracy: 0.9563\n",
            "Epoch 10/10\n",
            "188/188 [==============================] - 10s 54ms/step - loss: 0.1915 - accuracy: 0.9751 - val_loss: 0.2453 - val_accuracy: 0.9579\n"
          ]
        }
      ]
    },
    {
      "cell_type": "code",
      "metadata": {
        "id": "vrZ2k0KLHxus",
        "colab": {
          "base_uri": "https://localhost:8080/"
        },
        "outputId": "04074a5e-daed-405a-b18c-dec6652fe284"
      },
      "source": [
        "inputs = tf.keras.Input(shape=(784,))\n",
        "fm_x1 = layers.QFeatureMapRFF(784, dim=component_dim , gamma=gamma, random_state=random_state)\n",
        "psi_x = fm_x1(inputs)\n",
        "ones = tf.ones_like(inputs[:, 0:1])\n",
        "rho_x = tf.keras.layers.concatenate((ones, psi_x), axis=1)\n",
        "rho_x = tf.expand_dims(rho_x, axis=-1)\n",
        "qmdmc1 = layers.QMClassifSDecompFDMatrix(dim_x=component_dim, dim_y=10, n_comp=n_comp)\n",
        "rho_h = qmdmc1(rho_x)\n",
        "qmdmc2 = layers.QMClassifSDecompFDMatrix(dim_x=10, dim_y=10, n_comp=n_comp)\n",
        "rho_y = qmdmc2(rho_h)\n",
        "y_w = rho_y[:, 0, :] # shape (b, d_in)\n",
        "y_v = rho_y[:, 1:, :] # shape (b, dim_x, d_in)\n",
        "probs = tf.einsum('...j,...ij,...ij->...i', y_w, y_v, tf.math.conj(y_v))\n",
        "qmdmclf2 = tf.keras.Model(inputs=inputs, outputs=probs)\n",
        "opt = tf.keras.optimizers.Adam(learning_rate=0.001)\n",
        "qmdmclf2.compile(loss=tf.keras.losses.CategoricalCrossentropy(), optimizer=opt, metrics=['accuracy'])\n",
        "\n",
        "fm_x1.set_weights(fm_x.get_weights())\n",
        "fm_x1.trainable = False\n",
        "qmdmc1.set_weights(qmdmc.get_weights())\n",
        "qmdmc1.trainable = False\n",
        "EPOCHS = 5\n",
        "  \n",
        "history = qmdmclf2.fit(X_train, y_train_bin, batch_size=BATCH_SIZE,\n",
        "                    epochs=EPOCHS, validation_split=0.2)"
      ],
      "execution_count": 47,
      "outputs": [
        {
          "output_type": "stream",
          "name": "stdout",
          "text": [
            "Epoch 1/5\n",
            "188/188 [==============================] - 13s 66ms/step - loss: 1.0803 - accuracy: 0.8844 - val_loss: 0.2337 - val_accuracy: 0.9626\n",
            "Epoch 2/5\n",
            "188/188 [==============================] - 12s 66ms/step - loss: 0.1579 - accuracy: 0.9830 - val_loss: 0.2100 - val_accuracy: 0.9642\n",
            "Epoch 3/5\n",
            "188/188 [==============================] - 12s 64ms/step - loss: 0.1356 - accuracy: 0.9867 - val_loss: 0.2037 - val_accuracy: 0.9656\n",
            "Epoch 4/5\n",
            "188/188 [==============================] - 12s 64ms/step - loss: 0.1219 - accuracy: 0.9890 - val_loss: 0.1886 - val_accuracy: 0.9679\n",
            "Epoch 5/5\n",
            "188/188 [==============================] - 12s 65ms/step - loss: 0.1105 - accuracy: 0.9910 - val_loss: 0.1837 - val_accuracy: 0.9690\n"
          ]
        }
      ]
    },
    {
      "cell_type": "code",
      "execution_count": 48,
      "metadata": {},
      "outputs": [
        {
          "output_type": "stream",
          "name": "stdout",
          "text": [
            "Epoch 1/10\n",
            "188/188 [==============================] - 12s 65ms/step - loss: 0.1018 - accuracy: 0.9922 - val_loss: 0.1816 - val_accuracy: 0.9688\n",
            "Epoch 2/10\n",
            "188/188 [==============================] - 12s 65ms/step - loss: 0.0982 - accuracy: 0.9931 - val_loss: 0.1789 - val_accuracy: 0.9691\n",
            "Epoch 3/10\n",
            "188/188 [==============================] - 12s 65ms/step - loss: 0.0950 - accuracy: 0.9933 - val_loss: 0.1780 - val_accuracy: 0.9696\n",
            "Epoch 4/10\n",
            "188/188 [==============================] - 12s 65ms/step - loss: 0.0919 - accuracy: 0.9941 - val_loss: 0.1762 - val_accuracy: 0.9703\n",
            "Epoch 5/10\n",
            "188/188 [==============================] - 12s 65ms/step - loss: 0.0890 - accuracy: 0.9943 - val_loss: 0.1740 - val_accuracy: 0.9709\n",
            "Epoch 6/10\n",
            "188/188 [==============================] - 12s 65ms/step - loss: 0.0860 - accuracy: 0.9946 - val_loss: 0.1734 - val_accuracy: 0.9707\n",
            "Epoch 7/10\n",
            "188/188 [==============================] - 12s 65ms/step - loss: 0.0834 - accuracy: 0.9951 - val_loss: 0.1718 - val_accuracy: 0.9712\n",
            "Epoch 8/10\n",
            "188/188 [==============================] - 12s 65ms/step - loss: 0.0808 - accuracy: 0.9958 - val_loss: 0.1696 - val_accuracy: 0.9708\n",
            "Epoch 9/10\n",
            "188/188 [==============================] - 12s 65ms/step - loss: 0.0783 - accuracy: 0.9958 - val_loss: 0.1694 - val_accuracy: 0.9714\n",
            "Epoch 10/10\n",
            "188/188 [==============================] - 12s 65ms/step - loss: 0.0760 - accuracy: 0.9960 - val_loss: 0.1694 - val_accuracy: 0.9715\n"
          ]
        }
      ],
      "source": [
        "fm_x1.trainable = True\n",
        "qmdmc1.trainable = True\n",
        "opt.learning_rate = 0.0005\n",
        "EPOCHS = 10\n",
        "history = qmdmclf2.fit(X_train, y_train_bin, batch_size=BATCH_SIZE,\n",
        "                    epochs=EPOCHS, validation_split=0.2)"
      ]
    },
    {
      "cell_type": "code",
      "metadata": {
        "id": "diEm3hzi31v1"
      },
      "source": [],
      "execution_count": null,
      "outputs": []
    }
  ]
}