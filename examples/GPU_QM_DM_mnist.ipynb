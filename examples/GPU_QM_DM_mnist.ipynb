{
  "nbformat": 4,
  "nbformat_minor": 0,
  "metadata": {
    "language_info": {
      "codemirror_mode": {
        "name": "ipython",
        "version": 3
      },
      "file_extension": ".py",
      "mimetype": "text/x-python",
      "name": "python",
      "nbconvert_exporter": "python",
      "pygments_lexer": "ipython3",
      "version": "3.8.8"
    },
    "orig_nbformat": 2,
    "kernelspec": {
      "name": "python388jvsc74a57bd06f5c4f860b8b5392c9fe536844a7572c0d9b36e44085495c747ab5a91e5f3cc1",
      "display_name": "Python 3.8.8 64-bit ('tf_x86': conda)"
    },
    "metadata": {
      "interpreter": {
        "hash": "6f5c4f860b8b5392c9fe536844a7572c0d9b36e44085495c747ab5a91e5f3cc1"
      }
    },
    "colab": {
      "name": "GPU-QM-DM-mnist.ipynb",
      "provenance": [],
      "include_colab_link": true
    },
    "accelerator": "GPU"
  },
  "cells": [
    {
      "cell_type": "markdown",
      "metadata": {
        "id": "view-in-github",
        "colab_type": "text"
      },
      "source": [
        "<a href=\"https://colab.research.google.com/github/fagonzalezo/qmc/blob/master/examples/GPU_QM_DM_mnist.ipynb\" target=\"_parent\"><img src=\"https://colab.research.google.com/assets/colab-badge.svg\" alt=\"Open In Colab\"/></a>"
      ]
    },
    {
      "cell_type": "code",
      "metadata": {
        "id": "dLf3P_V29LhR",
        "colab": {
          "base_uri": "https://localhost:8080/"
        },
        "outputId": "3395e4f0-171d-4616-ed3a-7804162229c9"
      },
      "source": [
        "# Install qmc if running in Google Colab\n",
        "\n",
        "try:\n",
        "  import google.colab\n",
        "  IN_COLAB = True\n",
        "except:\n",
        "  IN_COLAB = False\n",
        "\n",
        "if IN_COLAB:\n",
        "    !pip install --upgrade  git+https://github.com/fagonzalezo/qmc.git\n",
        "else:\n",
        "    import sys\n",
        "    sys.path.insert(0, \"../\")"
      ],
      "execution_count": 1,
      "outputs": [
        {
          "output_type": "stream",
          "text": [
            "Collecting git+https://github.com/fagonzalezo/qmc.git\n",
            "  Cloning https://github.com/fagonzalezo/qmc.git to /tmp/pip-req-build-oh3159r7\n",
            "  Running command git clone -q https://github.com/fagonzalezo/qmc.git /tmp/pip-req-build-oh3159r7\n",
            "Requirement already satisfied, skipping upgrade: scipy in /usr/local/lib/python3.7/dist-packages (from qmc==0.0.1) (1.4.1)\n",
            "Requirement already satisfied, skipping upgrade: numpy>=1.19.2 in /usr/local/lib/python3.7/dist-packages (from qmc==0.0.1) (1.19.5)\n",
            "Requirement already satisfied, skipping upgrade: scikit-learn in /usr/local/lib/python3.7/dist-packages (from qmc==0.0.1) (0.22.2.post1)\n",
            "Requirement already satisfied, skipping upgrade: tensorflow>=2.2.0 in /usr/local/lib/python3.7/dist-packages (from qmc==0.0.1) (2.4.1)\n",
            "Requirement already satisfied, skipping upgrade: typeguard in /usr/local/lib/python3.7/dist-packages (from qmc==0.0.1) (2.7.1)\n",
            "Requirement already satisfied, skipping upgrade: joblib>=0.11 in /usr/local/lib/python3.7/dist-packages (from scikit-learn->qmc==0.0.1) (1.0.1)\n",
            "Requirement already satisfied, skipping upgrade: typing-extensions~=3.7.4 in /usr/local/lib/python3.7/dist-packages (from tensorflow>=2.2.0->qmc==0.0.1) (3.7.4.3)\n",
            "Requirement already satisfied, skipping upgrade: gast==0.3.3 in /usr/local/lib/python3.7/dist-packages (from tensorflow>=2.2.0->qmc==0.0.1) (0.3.3)\n",
            "Requirement already satisfied, skipping upgrade: h5py~=2.10.0 in /usr/local/lib/python3.7/dist-packages (from tensorflow>=2.2.0->qmc==0.0.1) (2.10.0)\n",
            "Requirement already satisfied, skipping upgrade: astunparse~=1.6.3 in /usr/local/lib/python3.7/dist-packages (from tensorflow>=2.2.0->qmc==0.0.1) (1.6.3)\n",
            "Requirement already satisfied, skipping upgrade: six~=1.15.0 in /usr/local/lib/python3.7/dist-packages (from tensorflow>=2.2.0->qmc==0.0.1) (1.15.0)\n",
            "Requirement already satisfied, skipping upgrade: wrapt~=1.12.1 in /usr/local/lib/python3.7/dist-packages (from tensorflow>=2.2.0->qmc==0.0.1) (1.12.1)\n",
            "Requirement already satisfied, skipping upgrade: tensorflow-estimator<2.5.0,>=2.4.0 in /usr/local/lib/python3.7/dist-packages (from tensorflow>=2.2.0->qmc==0.0.1) (2.4.0)\n",
            "Requirement already satisfied, skipping upgrade: absl-py~=0.10 in /usr/local/lib/python3.7/dist-packages (from tensorflow>=2.2.0->qmc==0.0.1) (0.12.0)\n",
            "Requirement already satisfied, skipping upgrade: opt-einsum~=3.3.0 in /usr/local/lib/python3.7/dist-packages (from tensorflow>=2.2.0->qmc==0.0.1) (3.3.0)\n",
            "Requirement already satisfied, skipping upgrade: grpcio~=1.32.0 in /usr/local/lib/python3.7/dist-packages (from tensorflow>=2.2.0->qmc==0.0.1) (1.32.0)\n",
            "Requirement already satisfied, skipping upgrade: tensorboard~=2.4 in /usr/local/lib/python3.7/dist-packages (from tensorflow>=2.2.0->qmc==0.0.1) (2.4.1)\n",
            "Requirement already satisfied, skipping upgrade: flatbuffers~=1.12.0 in /usr/local/lib/python3.7/dist-packages (from tensorflow>=2.2.0->qmc==0.0.1) (1.12)\n",
            "Requirement already satisfied, skipping upgrade: google-pasta~=0.2 in /usr/local/lib/python3.7/dist-packages (from tensorflow>=2.2.0->qmc==0.0.1) (0.2.0)\n",
            "Requirement already satisfied, skipping upgrade: keras-preprocessing~=1.1.2 in /usr/local/lib/python3.7/dist-packages (from tensorflow>=2.2.0->qmc==0.0.1) (1.1.2)\n",
            "Requirement already satisfied, skipping upgrade: protobuf>=3.9.2 in /usr/local/lib/python3.7/dist-packages (from tensorflow>=2.2.0->qmc==0.0.1) (3.12.4)\n",
            "Requirement already satisfied, skipping upgrade: termcolor~=1.1.0 in /usr/local/lib/python3.7/dist-packages (from tensorflow>=2.2.0->qmc==0.0.1) (1.1.0)\n",
            "Requirement already satisfied, skipping upgrade: wheel~=0.35 in /usr/local/lib/python3.7/dist-packages (from tensorflow>=2.2.0->qmc==0.0.1) (0.36.2)\n",
            "Requirement already satisfied, skipping upgrade: requests<3,>=2.21.0 in /usr/local/lib/python3.7/dist-packages (from tensorboard~=2.4->tensorflow>=2.2.0->qmc==0.0.1) (2.23.0)\n",
            "Requirement already satisfied, skipping upgrade: google-auth<2,>=1.6.3 in /usr/local/lib/python3.7/dist-packages (from tensorboard~=2.4->tensorflow>=2.2.0->qmc==0.0.1) (1.28.1)\n",
            "Requirement already satisfied, skipping upgrade: tensorboard-plugin-wit>=1.6.0 in /usr/local/lib/python3.7/dist-packages (from tensorboard~=2.4->tensorflow>=2.2.0->qmc==0.0.1) (1.8.0)\n",
            "Requirement already satisfied, skipping upgrade: setuptools>=41.0.0 in /usr/local/lib/python3.7/dist-packages (from tensorboard~=2.4->tensorflow>=2.2.0->qmc==0.0.1) (56.1.0)\n",
            "Requirement already satisfied, skipping upgrade: werkzeug>=0.11.15 in /usr/local/lib/python3.7/dist-packages (from tensorboard~=2.4->tensorflow>=2.2.0->qmc==0.0.1) (1.0.1)\n",
            "Requirement already satisfied, skipping upgrade: markdown>=2.6.8 in /usr/local/lib/python3.7/dist-packages (from tensorboard~=2.4->tensorflow>=2.2.0->qmc==0.0.1) (3.3.4)\n",
            "Requirement already satisfied, skipping upgrade: google-auth-oauthlib<0.5,>=0.4.1 in /usr/local/lib/python3.7/dist-packages (from tensorboard~=2.4->tensorflow>=2.2.0->qmc==0.0.1) (0.4.4)\n",
            "Requirement already satisfied, skipping upgrade: chardet<4,>=3.0.2 in /usr/local/lib/python3.7/dist-packages (from requests<3,>=2.21.0->tensorboard~=2.4->tensorflow>=2.2.0->qmc==0.0.1) (3.0.4)\n",
            "Requirement already satisfied, skipping upgrade: urllib3!=1.25.0,!=1.25.1,<1.26,>=1.21.1 in /usr/local/lib/python3.7/dist-packages (from requests<3,>=2.21.0->tensorboard~=2.4->tensorflow>=2.2.0->qmc==0.0.1) (1.24.3)\n",
            "Requirement already satisfied, skipping upgrade: idna<3,>=2.5 in /usr/local/lib/python3.7/dist-packages (from requests<3,>=2.21.0->tensorboard~=2.4->tensorflow>=2.2.0->qmc==0.0.1) (2.10)\n",
            "Requirement already satisfied, skipping upgrade: certifi>=2017.4.17 in /usr/local/lib/python3.7/dist-packages (from requests<3,>=2.21.0->tensorboard~=2.4->tensorflow>=2.2.0->qmc==0.0.1) (2020.12.5)\n",
            "Requirement already satisfied, skipping upgrade: cachetools<5.0,>=2.0.0 in /usr/local/lib/python3.7/dist-packages (from google-auth<2,>=1.6.3->tensorboard~=2.4->tensorflow>=2.2.0->qmc==0.0.1) (4.2.1)\n",
            "Requirement already satisfied, skipping upgrade: rsa<5,>=3.1.4; python_version >= \"3.6\" in /usr/local/lib/python3.7/dist-packages (from google-auth<2,>=1.6.3->tensorboard~=2.4->tensorflow>=2.2.0->qmc==0.0.1) (4.7.2)\n",
            "Requirement already satisfied, skipping upgrade: pyasn1-modules>=0.2.1 in /usr/local/lib/python3.7/dist-packages (from google-auth<2,>=1.6.3->tensorboard~=2.4->tensorflow>=2.2.0->qmc==0.0.1) (0.2.8)\n",
            "Requirement already satisfied, skipping upgrade: importlib-metadata; python_version < \"3.8\" in /usr/local/lib/python3.7/dist-packages (from markdown>=2.6.8->tensorboard~=2.4->tensorflow>=2.2.0->qmc==0.0.1) (3.10.1)\n",
            "Requirement already satisfied, skipping upgrade: requests-oauthlib>=0.7.0 in /usr/local/lib/python3.7/dist-packages (from google-auth-oauthlib<0.5,>=0.4.1->tensorboard~=2.4->tensorflow>=2.2.0->qmc==0.0.1) (1.3.0)\n",
            "Requirement already satisfied, skipping upgrade: pyasn1>=0.1.3 in /usr/local/lib/python3.7/dist-packages (from rsa<5,>=3.1.4; python_version >= \"3.6\"->google-auth<2,>=1.6.3->tensorboard~=2.4->tensorflow>=2.2.0->qmc==0.0.1) (0.4.8)\n",
            "Requirement already satisfied, skipping upgrade: zipp>=0.5 in /usr/local/lib/python3.7/dist-packages (from importlib-metadata; python_version < \"3.8\"->markdown>=2.6.8->tensorboard~=2.4->tensorflow>=2.2.0->qmc==0.0.1) (3.4.1)\n",
            "Requirement already satisfied, skipping upgrade: oauthlib>=3.0.0 in /usr/local/lib/python3.7/dist-packages (from requests-oauthlib>=0.7.0->google-auth-oauthlib<0.5,>=0.4.1->tensorboard~=2.4->tensorflow>=2.2.0->qmc==0.0.1) (3.1.0)\n",
            "Building wheels for collected packages: qmc\n",
            "  Building wheel for qmc (setup.py) ... \u001b[?25l\u001b[?25hdone\n",
            "  Created wheel for qmc: filename=qmc-0.0.1-cp37-none-any.whl size=11811 sha256=37fb70fd8efb1f5f93a6c56c4b514e62b97dd04ba358e104e9c3d4ada094e844\n",
            "  Stored in directory: /tmp/pip-ephem-wheel-cache-b71i5z5e/wheels/ff/c2/53/58cb50bb85949fb1dcda723a7c1f48a590515dee0aa40a4cc2\n",
            "Successfully built qmc\n",
            "Installing collected packages: qmc\n",
            "Successfully installed qmc-0.0.1\n"
          ],
          "name": "stdout"
        }
      ]
    },
    {
      "cell_type": "code",
      "metadata": {
        "id": "kmwZ_WBj9lq_"
      },
      "source": [
        "import tensorflow as tf\n",
        "import tensorflow_datasets as tfds\n",
        "import numpy as np\n",
        "import qmc.tf.layers as layers\n",
        "import qmc.tf.models as models"
      ],
      "execution_count": 2,
      "outputs": []
    },
    {
      "cell_type": "code",
      "metadata": {
        "colab": {
          "base_uri": "https://localhost:8080/"
        },
        "id": "PyLwyfpqxN7M",
        "outputId": "8178e742-560b-41da-fbf2-dda968d76172"
      },
      "source": [
        "from keras.datasets import mnist\n",
        "from sklearn.preprocessing import MinMaxScaler, OneHotEncoder\n",
        "\n",
        "(X_train, y_train), (X_test, y_test) = mnist.load_data()\n",
        "\n",
        "X_train = X_train.reshape((60000,784))\n",
        "X_test = X_test.reshape((10000,784))\n",
        "\n",
        "X_train = X_train.astype('float32')\n",
        "X_test = X_test.astype('float32')\n",
        "\n",
        "scaler = MinMaxScaler()\n",
        "scaler.fit(X_train)\n",
        "X_train = scaler.transform(X_train)\n",
        "X_test = scaler.transform(X_test)\n",
        "\n",
        "transformer = OneHotEncoder(sparse=False)\n",
        "y_train_bin = transformer.fit_transform(y_train[:, np.newaxis])\n",
        "\n",
        "print(\"shape X_train : \", X_train.shape)\n",
        "print(\"shape y_train : \", y_train.shape)\n",
        "print(\"shape X_test : \", X_test.shape)\n",
        "print(\"shape y_test : \", y_test.shape)"
      ],
      "execution_count": 3,
      "outputs": [
        {
          "output_type": "stream",
          "text": [
            "Downloading data from https://storage.googleapis.com/tensorflow/tf-keras-datasets/mnist.npz\n",
            "11493376/11490434 [==============================] - 0s 0us/step\n",
            "shape X_train :  (60000, 784)\n",
            "shape y_train :  (60000,)\n",
            "shape X_test :  (10000, 784)\n",
            "shape y_test :  (10000,)\n"
          ],
          "name": "stdout"
        }
      ]
    },
    {
      "cell_type": "code",
      "metadata": {
        "id": "CsNNXRvi92TV",
        "colab": {
          "base_uri": "https://localhost:8080/"
        },
        "outputId": "c8a67bbc-2f1c-4857-92c8-78f1c3fc11f5"
      },
      "source": [
        "BATCH_SIZE = 256\n",
        "\n",
        "model = tf.keras.models.Sequential([\n",
        "tf.keras.layers.Flatten(input_shape=(28, 28)),\n",
        "tf.keras.layers.Dense(128,activation='relu'),\n",
        "tf.keras.layers.Dense(10),\n",
        "tf.keras.layers.Softmax()\n",
        "])\n",
        "model.compile(\n",
        "    optimizer=tf.keras.optimizers.Adam(0.001),\n",
        "    loss=tf.keras.losses.CategoricalCrossentropy(),\n",
        "    metrics=[tf.keras.metrics.CategoricalAccuracy()],\n",
        ")\n",
        "EPOCHS = 10\n",
        "  \n",
        "history = model.fit(X_train, y_train_bin, batch_size=BATCH_SIZE,\n",
        "                    epochs=EPOCHS, validation_split=0.2)"
      ],
      "execution_count": 4,
      "outputs": [
        {
          "output_type": "stream",
          "text": [
            "Epoch 1/10\n",
            "WARNING:tensorflow:Model was constructed with shape (None, 28, 28) for input KerasTensor(type_spec=TensorSpec(shape=(None, 28, 28), dtype=tf.float32, name='flatten_input'), name='flatten_input', description=\"created by layer 'flatten_input'\"), but it was called on an input with incompatible shape (None, 784).\n",
            "WARNING:tensorflow:Model was constructed with shape (None, 28, 28) for input KerasTensor(type_spec=TensorSpec(shape=(None, 28, 28), dtype=tf.float32, name='flatten_input'), name='flatten_input', description=\"created by layer 'flatten_input'\"), but it was called on an input with incompatible shape (None, 784).\n",
            "188/188 [==============================] - ETA: 0s - loss: 0.8511 - categorical_accuracy: 0.7719WARNING:tensorflow:Model was constructed with shape (None, 28, 28) for input KerasTensor(type_spec=TensorSpec(shape=(None, 28, 28), dtype=tf.float32, name='flatten_input'), name='flatten_input', description=\"created by layer 'flatten_input'\"), but it was called on an input with incompatible shape (None, 784).\n",
            "188/188 [==============================] - 4s 6ms/step - loss: 0.8492 - categorical_accuracy: 0.7724 - val_loss: 0.2571 - val_categorical_accuracy: 0.9277\n",
            "Epoch 2/10\n",
            "188/188 [==============================] - 1s 3ms/step - loss: 0.2401 - categorical_accuracy: 0.9329 - val_loss: 0.1862 - val_categorical_accuracy: 0.9502\n",
            "Epoch 3/10\n",
            "188/188 [==============================] - 1s 3ms/step - loss: 0.1768 - categorical_accuracy: 0.9501 - val_loss: 0.1597 - val_categorical_accuracy: 0.9538\n",
            "Epoch 4/10\n",
            "188/188 [==============================] - 1s 3ms/step - loss: 0.1409 - categorical_accuracy: 0.9591 - val_loss: 0.1381 - val_categorical_accuracy: 0.9599\n",
            "Epoch 5/10\n",
            "188/188 [==============================] - 1s 3ms/step - loss: 0.1168 - categorical_accuracy: 0.9675 - val_loss: 0.1219 - val_categorical_accuracy: 0.9657\n",
            "Epoch 6/10\n",
            "188/188 [==============================] - 1s 3ms/step - loss: 0.1018 - categorical_accuracy: 0.9708 - val_loss: 0.1122 - val_categorical_accuracy: 0.9682\n",
            "Epoch 7/10\n",
            "188/188 [==============================] - 1s 3ms/step - loss: 0.0854 - categorical_accuracy: 0.9764 - val_loss: 0.1081 - val_categorical_accuracy: 0.9685\n",
            "Epoch 8/10\n",
            "188/188 [==============================] - 1s 4ms/step - loss: 0.0769 - categorical_accuracy: 0.9794 - val_loss: 0.1106 - val_categorical_accuracy: 0.9669\n",
            "Epoch 9/10\n",
            "188/188 [==============================] - 1s 3ms/step - loss: 0.0627 - categorical_accuracy: 0.9826 - val_loss: 0.0989 - val_categorical_accuracy: 0.9701\n",
            "Epoch 10/10\n",
            "188/188 [==============================] - 1s 3ms/step - loss: 0.0582 - categorical_accuracy: 0.9846 - val_loss: 0.1000 - val_categorical_accuracy: 0.9694\n"
          ],
          "name": "stdout"
        }
      ]
    },
    {
      "cell_type": "code",
      "metadata": {
        "id": "oOte8WRc999W",
        "colab": {
          "base_uri": "https://localhost:8080/"
        },
        "outputId": "68e2a6cd-a94c-43bd-daf8-a12849f616d6"
      },
      "source": [
        "BATCH_SIZE = 256\n",
        "input_dim = 784\n",
        "component_dim = 128\n",
        "gamma = 2**-5\n",
        "num_eig = 128\n",
        "random_state = 0\n",
        "\n",
        "inputs = tf.keras.Input(shape=(784,))\n",
        "fm_x = layers.QFeatureMapRFF(784, dim=component_dim , gamma=gamma, random_state=random_state)\n",
        "psi_x = fm_x(inputs)\n",
        "ones = tf.ones_like(inputs[:, 0:1])\n",
        "rho_x = tf.keras.layers.concatenate((ones, psi_x), axis=1)\n",
        "rho_x = tf.expand_dims(rho_x, axis=-1)\n",
        "qmdmc = layers.QMeasureDMClassifEig(dim_x=component_dim , dim_y=10, eig_out=num_eig, num_eig=num_eig)\n",
        "rho_y = qmdmc(rho_x)\n",
        "y_w = rho_y[:, 0, :] # shape (b, d_in)\n",
        "y_v = rho_y[:, 1:, :] # shape (b, dim_x, d_in)\n",
        "probs = tf.einsum('...j,...ij,...ij->...i', y_w, y_v, tf.math.conj(y_v))\n",
        "qmdmclf = tf.keras.Model(inputs=inputs, outputs=probs)\n",
        "opt = tf.keras.optimizers.Adam(learning_rate=0.001, decay=1e-6)\n",
        "qmdmclf.compile(loss=tf.keras.losses.CategoricalCrossentropy(), optimizer=opt, metrics=['accuracy'])\n",
        "\n",
        "EPOCHS = 10\n",
        "  \n",
        "history = qmdmclf.fit(X_train, y_train_bin, batch_size=BATCH_SIZE,\n",
        "                    epochs=EPOCHS, validation_split=0.2)"
      ],
      "execution_count": 5,
      "outputs": [
        {
          "output_type": "stream",
          "text": [
            "Epoch 1/10\n",
            "188/188 [==============================] - 10s 44ms/step - loss: 1.9797 - accuracy: 0.3813 - val_loss: 1.2974 - val_accuracy: 0.7262\n",
            "Epoch 2/10\n",
            "188/188 [==============================] - 8s 43ms/step - loss: 1.2429 - accuracy: 0.7439 - val_loss: 1.1097 - val_accuracy: 0.7938\n",
            "Epoch 3/10\n",
            "188/188 [==============================] - 8s 43ms/step - loss: 1.0917 - accuracy: 0.7941 - val_loss: 1.0360 - val_accuracy: 0.7533\n",
            "Epoch 4/10\n",
            "188/188 [==============================] - 8s 43ms/step - loss: 1.0412 - accuracy: 0.7414 - val_loss: 1.0055 - val_accuracy: 0.7355\n",
            "Epoch 5/10\n",
            "188/188 [==============================] - 8s 43ms/step - loss: 1.0095 - accuracy: 0.7322 - val_loss: 0.9952 - val_accuracy: 0.7232\n",
            "Epoch 6/10\n",
            "188/188 [==============================] - 8s 43ms/step - loss: 0.9977 - accuracy: 0.7278 - val_loss: 0.9866 - val_accuracy: 0.7174\n",
            "Epoch 7/10\n",
            "188/188 [==============================] - 8s 43ms/step - loss: 0.9831 - accuracy: 0.7287 - val_loss: 0.9781 - val_accuracy: 0.7500\n",
            "Epoch 8/10\n",
            "188/188 [==============================] - 8s 43ms/step - loss: 0.9794 - accuracy: 0.7337 - val_loss: 0.9853 - val_accuracy: 0.7468\n",
            "Epoch 9/10\n",
            "188/188 [==============================] - 8s 42ms/step - loss: 0.9795 - accuracy: 0.7526 - val_loss: 0.9809 - val_accuracy: 0.7711\n",
            "Epoch 10/10\n",
            "188/188 [==============================] - 8s 43ms/step - loss: 0.9768 - accuracy: 0.7557 - val_loss: 0.9912 - val_accuracy: 0.7141\n"
          ],
          "name": "stdout"
        }
      ]
    },
    {
      "cell_type": "code",
      "metadata": {
        "id": "vrZ2k0KLHxus",
        "colab": {
          "base_uri": "https://localhost:8080/"
        },
        "outputId": "04074a5e-daed-405a-b18c-dec6652fe284"
      },
      "source": [
        "BATCH_SIZE = 128\n",
        "input_dim = 784\n",
        "component_dim = 128\n",
        "gamma = 2**-5\n",
        "num_eig = 128\n",
        "random_state = 0\n",
        "inputs = tf.keras.Input(shape=(784,))\n",
        "fm_x1 = layers.QFeatureMapRFF(784, dim=component_dim , gamma=gamma, random_state=random_state)\n",
        "psi_x = fm_x1(inputs)\n",
        "ones = tf.ones_like(inputs[:, 0:1])\n",
        "rho_x = tf.keras.layers.concatenate((ones, psi_x), axis=1)\n",
        "rho_x = tf.expand_dims(rho_x, axis=-1)\n",
        "qmdmc1 = layers.QMeasureDMClassifEig(dim_x=component_dim , dim_y=10, eig_out=num_eig, num_eig=num_eig)\n",
        "rho_h = qmdmc1(rho_x)\n",
        "qmdmc2 = layers.QMeasureDMClassifEig(dim_x=10 , dim_y=10, eig_out=20, num_eig=10)\n",
        "rho_y = qmdmc2(rho_h)\n",
        "y_w = rho_y[:, 0, :] # shape (b, d_in)\n",
        "y_v = rho_y[:, 1:, :] # shape (b, dim_x, d_in)\n",
        "probs = tf.einsum('...j,...ij,...ij->...i', y_w, y_v, tf.math.conj(y_v))\n",
        "qmdmclf2 = tf.keras.Model(inputs=inputs, outputs=probs)\n",
        "opt = tf.keras.optimizers.Adam(learning_rate=0.0001, decay=1e-6)\n",
        "qmdmclf2.compile(loss=tf.keras.losses.CategoricalCrossentropy(), optimizer=opt, metrics=['accuracy'])\n",
        "\n",
        "fm_x1.set_weights(fm_x.get_weights())\n",
        "fm_x1.trainable = False\n",
        "qmdmc1.set_rho(qmdmc.get_rho())\n",
        "qmdmc1.trainable = False\n",
        "EPOCHS = 10\n",
        "  \n",
        "history = qmdmclf2.fit(X_train, y_train_bin, batch_size=BATCH_SIZE,\n",
        "                    epochs=EPOCHS, validation_split=0.2)"
      ],
      "execution_count": 6,
      "outputs": [
        {
          "output_type": "stream",
          "text": [
            "Epoch 1/10\n",
            "375/375 [==============================] - 11s 24ms/step - loss: 2.2522 - accuracy: 0.2541 - val_loss: 1.7966 - val_accuracy: 0.4552\n",
            "Epoch 2/10\n",
            "375/375 [==============================] - 8s 22ms/step - loss: 1.7367 - accuracy: 0.5218 - val_loss: 1.6306 - val_accuracy: 0.6287\n",
            "Epoch 3/10\n",
            "375/375 [==============================] - 8s 22ms/step - loss: 1.5913 - accuracy: 0.6378 - val_loss: 1.5654 - val_accuracy: 0.5886\n",
            "Epoch 4/10\n",
            "375/375 [==============================] - 9s 23ms/step - loss: 1.5504 - accuracy: 0.5868 - val_loss: 1.5466 - val_accuracy: 0.5419\n",
            "Epoch 5/10\n",
            "375/375 [==============================] - 9s 23ms/step - loss: 1.5290 - accuracy: 0.5100 - val_loss: 1.5286 - val_accuracy: 0.4252\n",
            "Epoch 6/10\n",
            "375/375 [==============================] - 9s 23ms/step - loss: 1.5296 - accuracy: 0.4173 - val_loss: 1.5346 - val_accuracy: 0.4348\n",
            "Epoch 7/10\n",
            "375/375 [==============================] - 9s 23ms/step - loss: 1.5270 - accuracy: 0.4288 - val_loss: 1.5057 - val_accuracy: 0.4459\n",
            "Epoch 8/10\n",
            "375/375 [==============================] - 9s 23ms/step - loss: 1.4842 - accuracy: 0.4413 - val_loss: 1.4592 - val_accuracy: 0.4934\n",
            "Epoch 9/10\n",
            "375/375 [==============================] - 9s 23ms/step - loss: 1.4400 - accuracy: 0.4759 - val_loss: 1.4314 - val_accuracy: 0.5458\n",
            "Epoch 10/10\n",
            "375/375 [==============================] - 9s 23ms/step - loss: 1.4132 - accuracy: 0.5688 - val_loss: 1.3969 - val_accuracy: 0.6162\n"
          ],
          "name": "stdout"
        }
      ]
    },
    {
      "cell_type": "code",
      "metadata": {
        "id": "TWmn69C0JKL-",
        "colab": {
          "base_uri": "https://localhost:8080/"
        },
        "outputId": "8d82d510-4c0a-4515-f95a-e712fff80a62"
      },
      "source": [
        "qmdmclf2.summary()"
      ],
      "execution_count": null,
      "outputs": [
        {
          "output_type": "stream",
          "text": [
            "Model: \"model_18\"\n",
            "__________________________________________________________________________________________________\n",
            "Layer (type)                    Output Shape         Param #     Connected to                     \n",
            "==================================================================================================\n",
            "input_20 (InputLayer)           [(None, 784)]        0                                            \n",
            "__________________________________________________________________________________________________\n",
            "tf.__operators__.getitem_55 (Sl (None, 1)            0           input_20[0][0]                   \n",
            "__________________________________________________________________________________________________\n",
            "tf.ones_like_19 (TFOpLambda)    (None, 1)            0           tf.__operators__.getitem_55[0][0]\n",
            "__________________________________________________________________________________________________\n",
            "q_feature_map_rff_19 (QFeatureM (None, 128)          100480      input_20[0][0]                   \n",
            "__________________________________________________________________________________________________\n",
            "concatenate_19 (Concatenate)    (None, 129)          0           tf.ones_like_19[0][0]            \n",
            "                                                                 q_feature_map_rff_19[0][0]       \n",
            "__________________________________________________________________________________________________\n",
            "tf.expand_dims_19 (TFOpLambda)  (None, 129, 1)       0           concatenate_19[0][0]             \n",
            "__________________________________________________________________________________________________\n",
            "q_measure_dm_classif_eig_31 (QM (None, 11, None)     163968      tf.expand_dims_19[0][0]          \n",
            "__________________________________________________________________________________________________\n",
            "tf.__operators__.getitem_57 (Sl (None, 10, None)     0           q_measure_dm_classif_eig_31[0][0]\n",
            "__________________________________________________________________________________________________\n",
            "tf.__operators__.getitem_56 (Sl (None, None)         0           q_measure_dm_classif_eig_31[0][0]\n",
            "__________________________________________________________________________________________________\n",
            "tf.math.conj_18 (TFOpLambda)    (None, 10, None)     0           tf.__operators__.getitem_57[0][0]\n",
            "__________________________________________________________________________________________________\n",
            "tf.einsum_18 (TFOpLambda)       (None, 10)           0           tf.__operators__.getitem_56[0][0]\n",
            "                                                                 tf.__operators__.getitem_57[0][0]\n",
            "                                                                 tf.math.conj_18[0][0]            \n",
            "==================================================================================================\n",
            "Total params: 264,448\n",
            "Trainable params: 0\n",
            "Non-trainable params: 264,448\n",
            "__________________________________________________________________________________________________\n"
          ],
          "name": "stdout"
        }
      ]
    },
    {
      "cell_type": "code",
      "metadata": {
        "id": "diEm3hzi31v1"
      },
      "source": [
        ""
      ],
      "execution_count": null,
      "outputs": []
    }
  ]
}