{
  "nbformat": 4,
  "nbformat_minor": 0,
  "metadata": {
    "language_info": {
      "codemirror_mode": {
        "name": "ipython",
        "version": 3
      },
      "file_extension": ".py",
      "mimetype": "text/x-python",
      "name": "python",
      "nbconvert_exporter": "python",
      "pygments_lexer": "ipython3",
      "version": "3.8.8"
    },
    "orig_nbformat": 2,
    "kernelspec": {
      "name": "python388jvsc74a57bd06f5c4f860b8b5392c9fe536844a7572c0d9b36e44085495c747ab5a91e5f3cc1",
      "display_name": "Python 3.8.8 64-bit ('tf_x86': conda)"
    },
    "metadata": {
      "interpreter": {
        "hash": "6f5c4f860b8b5392c9fe536844a7572c0d9b36e44085495c747ab5a91e5f3cc1"
      }
    },
    "colab": {
      "name": "GPU-QM-DM-mnist.ipynb",
      "provenance": [],
      "include_colab_link": true
    },
    "accelerator": "GPU"
  },
  "cells": [
    {
      "cell_type": "markdown",
      "metadata": {
        "id": "view-in-github",
        "colab_type": "text"
      },
      "source": [
        "<a href=\"https://colab.research.google.com/github/fagonzalezo/qmc/blob/master/examples/QMC_Multimodal_Mnist.ipynb\" target=\"_parent\"><img src=\"https://colab.research.google.com/assets/colab-badge.svg\" alt=\"Open In Colab\"/></a>"
      ]
    },
    {
      "cell_type": "code",
      "metadata": {
        "id": "dLf3P_V29LhR",
        "colab": {
          "base_uri": "https://localhost:8080/"
        },
        "outputId": "3395e4f0-171d-4616-ed3a-7804162229c9"
      },
      "source": [
        "# Install qmc if running in Google Colab\n",
        "\n",
        "try:\n",
        "  import google.colab\n",
        "  IN_COLAB = True\n",
        "except:\n",
        "  IN_COLAB = False\n",
        "\n",
        "if IN_COLAB:\n",
        "    !pip install --upgrade  git+https://github.com/fagonzalezo/qmc.git\n",
        "else:\n",
        "    import sys\n",
        "    sys.path.insert(0, \"../\")"
      ],
      "execution_count": 1,
      "outputs": []
    },
    {
      "cell_type": "code",
      "metadata": {
        "id": "kmwZ_WBj9lq_"
      },
      "source": [
        "import tensorflow as tf\n",
        "import numpy as np\n",
        "import qmc.tf.layers as layers\n",
        "import qmc.tf.models as models"
      ],
      "execution_count": 2,
      "outputs": []
    },
    {
      "cell_type": "code",
      "metadata": {
        "colab": {
          "base_uri": "https://localhost:8080/"
        },
        "id": "PyLwyfpqxN7M",
        "outputId": "8178e742-560b-41da-fbf2-dda968d76172"
      },
      "source": [
        "from tensorflow.keras.datasets import mnist\n",
        "from sklearn.preprocessing import MinMaxScaler, OneHotEncoder\n",
        "\n",
        "(X_train, y_train), (X_test, y_test) = mnist.load_data()\n",
        "\n",
        "X_train = X_train.reshape((60000,784))\n",
        "X_test = X_test.reshape((10000,784))\n",
        "\n",
        "X_train = X_train.astype('float32')\n",
        "X_test = X_test.astype('float32')\n",
        "\n",
        "scaler = MinMaxScaler()\n",
        "scaler.fit(X_train)\n",
        "X_train = scaler.transform(X_train)\n",
        "X_test = scaler.transform(X_test)\n",
        "\n",
        "transformer = OneHotEncoder(sparse=False)\n",
        "y_train_bin = transformer.fit_transform(y_train[:, np.newaxis])\n",
        "y_test_bin = transformer.fit_transform(y_test[:, np.newaxis])\n",
        "\n",
        "print(\"shape X_train : \", X_train.shape)\n",
        "print(\"shape y_train : \", y_train.shape)\n",
        "print(\"shape X_test : \", X_test.shape)\n",
        "print(\"shape y_test : \", y_test.shape)"
      ],
      "execution_count": 44,
      "outputs": [
        {
          "output_type": "stream",
          "name": "stdout",
          "text": [
            "shape X_train :  (60000, 784)\nshape y_train :  (60000,)\nshape X_test :  (10000, 784)\nshape y_test :  (10000,)\n"
          ]
        }
      ]
    },
    {
      "source": [
        "## Baseline"
      ],
      "cell_type": "markdown",
      "metadata": {}
    },
    {
      "cell_type": "code",
      "metadata": {
        "id": "CsNNXRvi92TV",
        "colab": {
          "base_uri": "https://localhost:8080/"
        },
        "outputId": "c8a67bbc-2f1c-4857-92c8-78f1c3fc11f5"
      },
      "source": [
        "BATCH_SIZE = 256\n",
        "\n",
        "model = tf.keras.models.Sequential([\n",
        "tf.keras.layers.Dense(128,activation='relu'),\n",
        "tf.keras.layers.Dense(10),\n",
        "tf.keras.layers.Softmax()\n",
        "])\n",
        "model.compile(\n",
        "    optimizer=tf.keras.optimizers.Adam(0.001),\n",
        "    loss=tf.keras.losses.CategoricalCrossentropy(),\n",
        "    metrics=[tf.keras.metrics.CategoricalAccuracy()],\n",
        ")\n",
        "EPOCHS = 10\n",
        "  \n",
        "history = model.fit(X_train, y_train_bin, batch_size=BATCH_SIZE,\n",
        "                    epochs=EPOCHS, validation_split=0.2)"
      ],
      "execution_count": 42,
      "outputs": [
        {
          "output_type": "stream",
          "name": "stdout",
          "text": [
            "Epoch 1/10\n",
            "188/188 [==============================] - 1s 3ms/step - loss: 0.8470 - categorical_accuracy: 0.7691 - val_loss: 0.2471 - val_categorical_accuracy: 0.9310\n",
            "Epoch 2/10\n",
            "188/188 [==============================] - 0s 2ms/step - loss: 0.2399 - categorical_accuracy: 0.9350 - val_loss: 0.1864 - val_categorical_accuracy: 0.9478\n",
            "Epoch 3/10\n",
            "188/188 [==============================] - 0s 2ms/step - loss: 0.1763 - categorical_accuracy: 0.9504 - val_loss: 0.1547 - val_categorical_accuracy: 0.9568\n",
            "Epoch 4/10\n",
            "188/188 [==============================] - 0s 2ms/step - loss: 0.1419 - categorical_accuracy: 0.9597 - val_loss: 0.1356 - val_categorical_accuracy: 0.9609\n",
            "Epoch 5/10\n",
            "188/188 [==============================] - 0s 2ms/step - loss: 0.1147 - categorical_accuracy: 0.9677 - val_loss: 0.1273 - val_categorical_accuracy: 0.9643\n",
            "Epoch 6/10\n",
            "188/188 [==============================] - 0s 2ms/step - loss: 0.0947 - categorical_accuracy: 0.9734 - val_loss: 0.1119 - val_categorical_accuracy: 0.9670\n",
            "Epoch 7/10\n",
            "188/188 [==============================] - 0s 2ms/step - loss: 0.0824 - categorical_accuracy: 0.9770 - val_loss: 0.1076 - val_categorical_accuracy: 0.9687\n",
            "Epoch 8/10\n",
            "188/188 [==============================] - 0s 2ms/step - loss: 0.0694 - categorical_accuracy: 0.9810 - val_loss: 0.0996 - val_categorical_accuracy: 0.9694\n",
            "Epoch 9/10\n",
            "188/188 [==============================] - 0s 2ms/step - loss: 0.0610 - categorical_accuracy: 0.9842 - val_loss: 0.0982 - val_categorical_accuracy: 0.9710\n",
            "Epoch 10/10\n",
            "188/188 [==============================] - 0s 2ms/step - loss: 0.0524 - categorical_accuracy: 0.9859 - val_loss: 0.0931 - val_categorical_accuracy: 0.9728\n"
          ]
        }
      ]
    },
    {
      "source": [
        "## Half model"
      ],
      "cell_type": "markdown",
      "metadata": {}
    },
    {
      "cell_type": "code",
      "metadata": {
        "id": "TWmn69C0JKL-",
        "colab": {
          "base_uri": "https://localhost:8080/"
        },
        "outputId": "8d82d510-4c0a-4515-f95a-e712fff80a62"
      },
      "source": [
        "BATCH_SIZE = 256\n",
        "def create_model(input_dim,\n",
        "               output_dim,\n",
        "               num_rff = 512,\n",
        "               gamma = 2**-5,\n",
        "               n_comp = 80,\n",
        "               random_state = 0):\n",
        "    inputs = tf.keras.Input(shape=(input_dim,))\n",
        "    fm_x1 = layers.QFeatureMapRFF(input_dim, dim=num_rff , gamma=gamma, random_state=random_state)\n",
        "    psi_x = fm_x1(inputs)\n",
        "    ones = tf.ones_like(inputs[:, 0:1])\n",
        "    rho_x = tf.keras.layers.concatenate((ones, psi_x), axis=1)\n",
        "    rho_x = tf.expand_dims(rho_x, axis=-1)\n",
        "    qmdmc = layers.QMClassifSDecompFDMatrix(dim_x=num_rff, dim_y=output_dim, n_comp=n_comp)\n",
        "    rho_y = qmdmc(rho_x)\n",
        "    y_w = rho_y[:, 0, :] # shape (b, d_in)\n",
        "    y_v = rho_y[:, 1:, :] # shape (b, dim_x, d_in)\n",
        "    probs = tf.einsum('...j,...ij,...ij->...i', y_w, y_v, tf.math.conj(y_v), optimize='optimal')\n",
        "    qmdmclf = tf.keras.Model(inputs=inputs, outputs=probs)\n",
        "    return qmdmclf\n",
        "\n",
        "def create_model_rho(input_dim,\n",
        "               output_dim,\n",
        "               num_rff = 512,\n",
        "               gamma = 2**-5,\n",
        "               n_comp = 80,\n",
        "               random_state = 0):\n",
        "    inputs = tf.keras.Input(shape=(input_dim,))\n",
        "    fm_x1 = layers.QFeatureMapRFF(input_dim, dim=num_rff , gamma=gamma, random_state=random_state)\n",
        "    psi_x = fm_x1(inputs)\n",
        "    ones = tf.ones_like(inputs[:, 0:1])\n",
        "    rho_x = tf.keras.layers.concatenate((ones, psi_x), axis=1)\n",
        "    rho_x = tf.expand_dims(rho_x, axis=-1)\n",
        "    qmdmc = layers.QMClassifSDecompFDMatrix(dim_x=num_rff, dim_y=output_dim, n_comp=n_comp)\n",
        "    rho_y = qmdmc(rho_x)\n",
        "    qmdmclf = tf.keras.Model(inputs=inputs, outputs=rho_y)\n",
        "    return qmdmclf\n"
      ],
      "execution_count": 5,
      "outputs": []
    },
    {
      "cell_type": "code",
      "execution_count": 21,
      "metadata": {},
      "outputs": [
        {
          "output_type": "stream",
          "name": "stdout",
          "text": [
            "Epoch 1/10\n",
            "188/188 [==============================] - 2s 7ms/step - loss: 1.5370 - accuracy: 0.5567 - val_loss: 0.6713 - val_accuracy: 0.8056\n",
            "Epoch 2/10\n",
            "188/188 [==============================] - 1s 7ms/step - loss: 0.6127 - accuracy: 0.8122 - val_loss: 0.5294 - val_accuracy: 0.8264\n",
            "Epoch 3/10\n",
            "188/188 [==============================] - 1s 7ms/step - loss: 0.4923 - accuracy: 0.8318 - val_loss: 0.4862 - val_accuracy: 0.8327\n",
            "Epoch 4/10\n",
            "188/188 [==============================] - 1s 8ms/step - loss: 0.4474 - accuracy: 0.8384 - val_loss: 0.4617 - val_accuracy: 0.8410\n",
            "Epoch 5/10\n",
            "188/188 [==============================] - 1s 7ms/step - loss: 0.4214 - accuracy: 0.8502 - val_loss: 0.4387 - val_accuracy: 0.8977\n",
            "Epoch 6/10\n",
            "188/188 [==============================] - 1s 7ms/step - loss: 0.3800 - accuracy: 0.9072 - val_loss: 0.3797 - val_accuracy: 0.9112\n",
            "Epoch 7/10\n",
            "188/188 [==============================] - 1s 7ms/step - loss: 0.3342 - accuracy: 0.9179 - val_loss: 0.3577 - val_accuracy: 0.9163\n",
            "Epoch 8/10\n",
            "188/188 [==============================] - 1s 7ms/step - loss: 0.3024 - accuracy: 0.9262 - val_loss: 0.3385 - val_accuracy: 0.9186\n",
            "Epoch 9/10\n",
            "188/188 [==============================] - 1s 7ms/step - loss: 0.2855 - accuracy: 0.9314 - val_loss: 0.3312 - val_accuracy: 0.9226\n",
            "Epoch 10/10\n",
            "188/188 [==============================] - 1s 7ms/step - loss: 0.2783 - accuracy: 0.9317 - val_loss: 0.3271 - val_accuracy: 0.9233\n"
          ]
        }
      ],
      "source": [
        "opt = tf.keras.optimizers.Adam(learning_rate=0.001)\n",
        "qmdmclf_1 = create_model(784 // 2, 10, num_rff=256, n_comp=20)\n",
        "qmdmclf_1.compile(loss=tf.keras.losses.CategoricalCrossentropy(), optimizer=opt, metrics=['accuracy'])\n",
        "\n",
        "EPOCHS = 10\n",
        "BATCH_SIZE = 256  \n",
        "history = qmdmclf_1.fit(X_train[:, 0:784 // 2], y_train_bin, batch_size=BATCH_SIZE,\n",
        "                    epochs=EPOCHS, validation_split=0.2)"
      ]
    },
    {
      "cell_type": "code",
      "execution_count": 22,
      "metadata": {},
      "outputs": [
        {
          "output_type": "stream",
          "name": "stdout",
          "text": [
            "Epoch 1/10\n",
            "188/188 [==============================] - 2s 8ms/step - loss: 1.0148 - accuracy: 0.7109 - val_loss: 0.4588 - val_accuracy: 0.8604\n",
            "Epoch 2/10\n",
            "188/188 [==============================] - 1s 7ms/step - loss: 0.4336 - accuracy: 0.8659 - val_loss: 0.4206 - val_accuracy: 0.8706\n",
            "Epoch 3/10\n",
            "188/188 [==============================] - 1s 7ms/step - loss: 0.3891 - accuracy: 0.8799 - val_loss: 0.3983 - val_accuracy: 0.8768\n",
            "Epoch 4/10\n",
            "188/188 [==============================] - 1s 7ms/step - loss: 0.3652 - accuracy: 0.8858 - val_loss: 0.3892 - val_accuracy: 0.8789\n",
            "Epoch 5/10\n",
            "188/188 [==============================] - 1s 7ms/step - loss: 0.3505 - accuracy: 0.8901 - val_loss: 0.3747 - val_accuracy: 0.8845\n",
            "Epoch 6/10\n",
            "188/188 [==============================] - 1s 7ms/step - loss: 0.3272 - accuracy: 0.8982 - val_loss: 0.3748 - val_accuracy: 0.8861\n",
            "Epoch 7/10\n",
            "188/188 [==============================] - 1s 7ms/step - loss: 0.3261 - accuracy: 0.8992 - val_loss: 0.3653 - val_accuracy: 0.8869\n",
            "Epoch 8/10\n",
            "188/188 [==============================] - 1s 7ms/step - loss: 0.3124 - accuracy: 0.9027 - val_loss: 0.3647 - val_accuracy: 0.8885\n",
            "Epoch 9/10\n",
            "188/188 [==============================] - 1s 7ms/step - loss: 0.3018 - accuracy: 0.9066 - val_loss: 0.3621 - val_accuracy: 0.8890\n",
            "Epoch 10/10\n",
            "188/188 [==============================] - 1s 7ms/step - loss: 0.2966 - accuracy: 0.9085 - val_loss: 0.3592 - val_accuracy: 0.8907\n"
          ]
        }
      ],
      "source": [
        "qmdmclf_2 = create_model(784 // 2, 10, num_rff=256, n_comp=20)\n",
        "qmdmclf_2.compile(loss=tf.keras.losses.CategoricalCrossentropy(), optimizer=opt, metrics=['accuracy'])\n",
        "\n",
        "history = qmdmclf_2.fit(X_train[:, 784 // 2:], y_train_bin, batch_size=BATCH_SIZE,\n",
        "                    epochs=EPOCHS, validation_split=0.2)"
      ]
    },
    {
      "source": [
        "## Multimodal model"
      ],
      "cell_type": "markdown",
      "metadata": {}
    },
    {
      "cell_type": "code",
      "execution_count": 117,
      "metadata": {},
      "outputs": [],
      "source": [
        "inputs = tf.keras.Input(shape=(784,))\n",
        "clf_1 = create_model_rho(784 // 2, 10, num_rff=256, n_comp=10)\n",
        "clf_2 = create_model_rho(784 // 2, 10, num_rff=256, n_comp=10)\n",
        "rho_1 = clf_1(inputs[:, :784 // 2])\n",
        "rho_2 = clf_2(inputs[:, 784 // 2:])\n",
        "prod = layers.DMCrossProduct()([rho_1, rho_2])\n",
        "qmdmc = layers.QMClassifSDecompFDMatrix(dim_x=100, dim_y=10, n_comp=40)\n",
        "rho_y = qmdmc(prod)\n",
        "y_w = rho_y[:, 0, :] # shape (b, d_in)\n",
        "y_v = rho_y[:, 1:, :] # shape (b, dim_x, d_in)\n",
        "probs = tf.einsum('...j,...ij,...ij->...i', y_w, y_v, tf.math.conj(y_v), optimize='optimal')\n",
        "qm_multim = tf.keras.Model(inputs=inputs, outputs=probs)\n",
        "\n"
      ]
    },
    {
      "cell_type": "code",
      "execution_count": 118,
      "metadata": {},
      "outputs": [
        {
          "output_type": "stream",
          "name": "stdout",
          "text": [
            "Epoch 1/3\n",
            "188/188 [==============================] - 9s 42ms/step - loss: 0.9769 - accuracy: 0.7044 - val_loss: 0.3627 - val_accuracy: 0.8944\n",
            "Epoch 2/3\n",
            "188/188 [==============================] - 8s 41ms/step - loss: 0.2897 - accuracy: 0.9314 - val_loss: 0.2296 - val_accuracy: 0.9445\n",
            "Epoch 3/3\n",
            "188/188 [==============================] - 8s 41ms/step - loss: 0.1859 - accuracy: 0.9599 - val_loss: 0.2147 - val_accuracy: 0.9500\n"
          ]
        }
      ],
      "source": [
        "qm_multim.compile(loss=tf.keras.losses.CategoricalCrossentropy(), optimizer=opt, metrics=['accuracy'])\n",
        "\n",
        "EPOCHS = 3\n",
        "history = qm_multim.fit(X_train, y_train_bin, batch_size=BATCH_SIZE,\n",
        "                    epochs=EPOCHS, validation_split=0.2)"
      ]
    },
    {
      "cell_type": "code",
      "execution_count": 29,
      "metadata": {},
      "outputs": [
        {
          "output_type": "stream",
          "name": "stdout",
          "text": [
            "Model: \"model_23\"\n__________________________________________________________________________________________________\nLayer (type)                    Output Shape         Param #     Connected to                     \n==================================================================================================\ninput_23 (InputLayer)           [(None, 784)]        0                                            \n__________________________________________________________________________________________________\ntf.__operators__.getitem_47 (Sl (None, 392)          0           input_23[0][0]                   \n__________________________________________________________________________________________________\ntf.__operators__.getitem_48 (Sl (None, 392)          0           input_23[0][0]                   \n__________________________________________________________________________________________________\nmodel_21 (Functional)           (None, 11, 10)       103278      tf.__operators__.getitem_47[0][0]\n__________________________________________________________________________________________________\nmodel_22 (Functional)           (None, 11, 10)       103278      tf.__operators__.getitem_48[0][0]\n__________________________________________________________________________________________________\ndm_cross_product_6 (DMCrossProd (None, None, None)   0           model_21[0][0]                   \n                                                                 model_22[0][0]                   \n__________________________________________________________________________________________________\nqm_classif_s_decomp_fd_matrix_2 (None, 11, 40)       4440        dm_cross_product_6[0][0]         \n__________________________________________________________________________________________________\ntf.__operators__.getitem_50 (Sl (None, 10, 40)       0           qm_classif_s_decomp_fd_matrix_23[\n__________________________________________________________________________________________________\ntf.__operators__.getitem_49 (Sl (None, 40)           0           qm_classif_s_decomp_fd_matrix_23[\n__________________________________________________________________________________________________\ntf.math.conj_9 (TFOpLambda)     (None, 10, 40)       0           tf.__operators__.getitem_50[0][0]\n__________________________________________________________________________________________________\ntf.einsum_9 (TFOpLambda)        (None, 10)           0           tf.__operators__.getitem_49[0][0]\n                                                                 tf.__operators__.getitem_50[0][0]\n                                                                 tf.math.conj_9[0][0]             \n==================================================================================================\nTotal params: 210,996\nTrainable params: 210,996\nNon-trainable params: 0\n__________________________________________________________________________________________________\n"
          ]
        }
      ],
      "source": [
        "qm_multim.summary()"
      ]
    },
    {
      "source": [
        "## Noisy dataset"
      ],
      "cell_type": "markdown",
      "metadata": {}
    },
    {
      "cell_type": "code",
      "execution_count": 46,
      "metadata": {},
      "outputs": [
        {
          "output_type": "stream",
          "name": "stdout",
          "text": [
            "313/313 [==============================] - 0s 480us/step - loss: 9.5569 - categorical_accuracy: 0.2349\n"
          ]
        },
        {
          "output_type": "execute_result",
          "data": {
            "text/plain": [
              "[9.556869506835938, 0.23489999771118164]"
            ]
          },
          "metadata": {},
          "execution_count": 46
        }
      ],
      "source": [
        "X_test_noise = np.array(X_test)\n",
        "X_test_noise[:, :784 // 2] =  np.random.uniform(size=X_test.shape)[:, :784 // 2]\n",
        "model.evaluate(X_test_noise, y_test_bin)"
      ]
    },
    {
      "cell_type": "code",
      "execution_count": 51,
      "metadata": {},
      "outputs": [
        {
          "output_type": "stream",
          "name": "stdout",
          "text": [
            "313/313 [==============================] - 1s 3ms/step - loss: 1.4351 - accuracy: 0.4704\n"
          ]
        },
        {
          "output_type": "execute_result",
          "data": {
            "text/plain": [
              "[1.4350522756576538, 0.47040000557899475]"
            ]
          },
          "metadata": {},
          "execution_count": 51
        }
      ],
      "source": [
        "qm_multim.evaluate(X_test_noise, y_test_bin)"
      ]
    },
    {
      "source": [
        "## Partial model"
      ],
      "cell_type": "markdown",
      "metadata": {}
    },
    {
      "cell_type": "code",
      "execution_count": 120,
      "metadata": {},
      "outputs": [],
      "source": [
        "inputs = tf.keras.Input(shape=(784,))\n",
        "clf_1 = create_model_rho(784 // 2, 10, num_rff=256, n_comp=10)\n",
        "clf_2 = layers.QMClassifSDecompFDMatrix()\n",
        "rho_1 = clf_1(inputs[:, :784 // 2])\n",
        "rho_2 = tf.keras.layers.concatenate((tf.ones((1, 10)) / 10., tf.eye(10)), axis = 0)\n",
        "#rho_2 = tf.keras.layers.concatenate((rho_2, tf.zeros((11, 10))), axis=1)\n",
        "rho_2 = tf.broadcast_to(rho_2, shape=tf.shape(rho_1))\n",
        "prod = layers.DMCrossProduct()([rho_1, rho_2])\n",
        "qmdmc = layers.QMClassifSDecompFDMatrix(dim_x=100, dim_y=10, n_comp=40)\n",
        "rho_y = qmdmc(prod)\n",
        "y_w = rho_y[:, 0, :] # shape (b, d_in)\n",
        "y_v = rho_y[:, 1:, :] # shape (b, dim_x, d_in)\n",
        "probs = tf.einsum('...j,...ij,...ij->...i', y_w, y_v, tf.math.conj(y_v), optimize='optimal')\n",
        "qm_partial = tf.keras.Model(inputs=inputs, outputs=probs)\n",
        "qm_partial.compile(loss=tf.keras.losses.CategoricalCrossentropy(), optimizer=opt, metrics=['accuracy'])"
      ]
    },
    {
      "cell_type": "code",
      "execution_count": 121,
      "metadata": {},
      "outputs": [],
      "source": [
        "qm_partial.layers[2].set_weights(qm_multim.layers[3].get_weights())\n",
        "qm_partial.layers[6].set_weights(qm_multim.layers[6].get_weights())"
      ]
    },
    {
      "cell_type": "code",
      "execution_count": 122,
      "metadata": {},
      "outputs": [
        {
          "output_type": "stream",
          "name": "stdout",
          "text": [
            "313/313 [==============================] - 1s 3ms/step - loss: 1.6581 - accuracy: 0.3551\n"
          ]
        },
        {
          "output_type": "execute_result",
          "data": {
            "text/plain": [
              "[1.6514054536819458, 0.35740000009536743]"
            ]
          },
          "metadata": {},
          "execution_count": 122
        }
      ],
      "source": [
        "qm_partial.evaluate(X_test, y_test_bin)"
      ]
    },
    {
      "cell_type": "code",
      "metadata": {
        "id": "oOte8WRc999W",
        "colab": {
          "base_uri": "https://localhost:8080/"
        },
        "outputId": "68e2a6cd-a94c-43bd-daf8-a12849f616d6"
      },
      "source": [
        "BATCH_SIZE = 256\n",
        "input_dim = 784\n",
        "component_dim = 128\n",
        "gamma = 2**-5\n",
        "n_comp = 80\n",
        "random_state = 0\n",
        "\n",
        "inputs = tf.keras.Input(shape=(784,))\n",
        "fm_x = layers.QFeatureMapRFF(784, dim=component_dim , gamma=gamma, random_state=random_state)\n",
        "psi_x = fm_x(inputs)\n",
        "ones = tf.ones_like(inputs[:, 0:1])\n",
        "rho_x = tf.keras.layers.concatenate((ones, psi_x), axis=1)\n",
        "rho_x = tf.expand_dims(rho_x, axis=-1)\n",
        "#qmdmc = layers.QMeasureDMClassifEig(dim_x=component_dim , dim_y=10, eig_out=num_eig, num_eig=num_eig)\n",
        "qmdmc = layers.QMClassifSDecompFDMatrix(dim_x=component_dim, dim_y=10, n_comp=n_comp)\n",
        "rho_y = qmdmc(rho_x)\n",
        "y_w = rho_y[:, 0, :] # shape (b, d_in)\n",
        "y_v = rho_y[:, 1:, :] # shape (b, dim_x, d_in)\n",
        "probs = tf.einsum('...j,...ij,...ij->...i', y_w, y_v, tf.math.conj(y_v))\n",
        "qmdmclf = tf.keras.Model(inputs=inputs, outputs=probs)\n",
        "opt = tf.keras.optimizers.Adam(learning_rate=0.001)\n",
        "qmdmclf.compile(loss=tf.keras.losses.CategoricalCrossentropy(), optimizer=opt, metrics=['accuracy'])\n",
        "\n",
        "EPOCHS = 10\n",
        "  \n",
        "history = qmdmclf.fit(X_train, y_train_bin, batch_size=BATCH_SIZE,\n",
        "                    epochs=EPOCHS, validation_split=0.2)"
      ],
      "execution_count": 6,
      "outputs": [
        {
          "output_type": "stream",
          "name": "stdout",
          "text": [
            "Epoch 1/10\n",
            "188/188 [==============================] - 8s 42ms/step - loss: 1.6390 - accuracy: 0.4964 - val_loss: 0.5697 - val_accuracy: 0.8938\n",
            "Epoch 2/10\n",
            "188/188 [==============================] - 8s 42ms/step - loss: 0.5328 - accuracy: 0.8988 - val_loss: 0.4274 - val_accuracy: 0.9255\n",
            "Epoch 3/10\n",
            "188/188 [==============================] - 8s 42ms/step - loss: 0.3972 - accuracy: 0.9301 - val_loss: 0.3680 - val_accuracy: 0.9365\n",
            "Epoch 4/10\n",
            "188/188 [==============================] - 8s 41ms/step - loss: 0.3344 - accuracy: 0.9439 - val_loss: 0.3350 - val_accuracy: 0.9425\n",
            "Epoch 5/10\n",
            "188/188 [==============================] - 8s 42ms/step - loss: 0.2952 - accuracy: 0.9519 - val_loss: 0.3137 - val_accuracy: 0.9472\n",
            "Epoch 6/10\n",
            "188/188 [==============================] - 8s 42ms/step - loss: 0.2704 - accuracy: 0.9568 - val_loss: 0.2934 - val_accuracy: 0.9497\n",
            "Epoch 7/10\n",
            "188/188 [==============================] - 8s 42ms/step - loss: 0.2484 - accuracy: 0.9624 - val_loss: 0.2777 - val_accuracy: 0.9523\n",
            "Epoch 8/10\n",
            "188/188 [==============================] - 8s 42ms/step - loss: 0.2335 - accuracy: 0.9644 - val_loss: 0.2648 - val_accuracy: 0.9553\n",
            "Epoch 9/10\n",
            "188/188 [==============================] - 8s 42ms/step - loss: 0.2208 - accuracy: 0.9670 - val_loss: 0.2553 - val_accuracy: 0.9565\n",
            "Epoch 10/10\n",
            "188/188 [==============================] - 8s 42ms/step - loss: 0.2115 - accuracy: 0.9691 - val_loss: 0.2505 - val_accuracy: 0.9576\n"
          ]
        }
      ]
    },
    {
      "cell_type": "code",
      "metadata": {
        "id": "vrZ2k0KLHxus",
        "colab": {
          "base_uri": "https://localhost:8080/"
        },
        "outputId": "04074a5e-daed-405a-b18c-dec6652fe284"
      },
      "source": [
        "inputs = tf.keras.Input(shape=(784,))\n",
        "fm_x1 = layers.QFeatureMapRFF(784, dim=component_dim , gamma=gamma, random_state=random_state)\n",
        "psi_x = fm_x1(inputs)\n",
        "ones = tf.ones_like(inputs[:, 0:1])\n",
        "rho_x = tf.keras.layers.concatenate((ones, psi_x), axis=1)\n",
        "rho_x = tf.expand_dims(rho_x, axis=-1)\n",
        "qmdmc1 = layers.QMClassifSDecompFDMatrix(dim_x=component_dim, dim_y=10, n_comp=n_comp)\n",
        "rho_h = qmdmc1(rho_x)\n",
        "qmdmc2 = layers.QMClassifSDecompFDMatrix(dim_x=10, dim_y=10, n_comp=n_comp)\n",
        "rho_y = qmdmc2(rho_h)\n",
        "y_w = rho_y[:, 0, :] # shape (b, d_in)\n",
        "y_v = rho_y[:, 1:, :] # shape (b, dim_x, d_in)\n",
        "probs = tf.einsum('...j,...ij,...ij->...i', y_w, y_v, tf.math.conj(y_v))\n",
        "qmdmclf2 = tf.keras.Model(inputs=inputs, outputs=probs)\n",
        "opt = tf.keras.optimizers.Adam(learning_rate=0.001)\n",
        "qmdmclf2.compile(loss=tf.keras.losses.CategoricalCrossentropy(), optimizer=opt, metrics=['accuracy'])\n",
        "\n",
        "# We freeze the weights of the first layer and train the second\n",
        "fm_x1.set_weights(fm_x.get_weights())\n",
        "fm_x1.trainable = False\n",
        "qmdmc1.set_weights(qmdmc.get_weights())\n",
        "qmdmc1.trainable = False\n",
        "EPOCHS = 5\n",
        "  \n",
        "history = qmdmclf2.fit(X_train, y_train_bin, batch_size=BATCH_SIZE,\n",
        "                    epochs=EPOCHS, validation_split=0.2)"
      ],
      "execution_count": 7,
      "outputs": [
        {
          "output_type": "stream",
          "name": "stdout",
          "text": [
            "Epoch 1/5\n",
            "188/188 [==============================] - 11s 53ms/step - loss: 1.0492 - accuracy: 0.9238 - val_loss: 0.2500 - val_accuracy: 0.9600\n",
            "Epoch 2/5\n",
            "188/188 [==============================] - 10s 55ms/step - loss: 0.1993 - accuracy: 0.9727 - val_loss: 0.2382 - val_accuracy: 0.9615\n",
            "Epoch 3/5\n",
            "188/188 [==============================] - 10s 55ms/step - loss: 0.1867 - accuracy: 0.9752 - val_loss: 0.2278 - val_accuracy: 0.9626\n",
            "Epoch 4/5\n",
            "188/188 [==============================] - 11s 56ms/step - loss: 0.1770 - accuracy: 0.9775 - val_loss: 0.2237 - val_accuracy: 0.9640\n",
            "Epoch 5/5\n",
            "188/188 [==============================] - 10s 52ms/step - loss: 0.1703 - accuracy: 0.9783 - val_loss: 0.2213 - val_accuracy: 0.9646\n"
          ]
        }
      ]
    },
    {
      "cell_type": "code",
      "execution_count": 8,
      "metadata": {},
      "outputs": [
        {
          "output_type": "stream",
          "name": "stdout",
          "text": [
            "Epoch 1/10\n",
            "188/188 [==============================] - 10s 53ms/step - loss: 0.1661 - accuracy: 0.9786 - val_loss: 0.2182 - val_accuracy: 0.9656\n",
            "Epoch 2/10\n",
            "188/188 [==============================] - 10s 52ms/step - loss: 0.1606 - accuracy: 0.9796 - val_loss: 0.2116 - val_accuracy: 0.9663\n",
            "Epoch 3/10\n",
            "188/188 [==============================] - 10s 52ms/step - loss: 0.1562 - accuracy: 0.9804 - val_loss: 0.2100 - val_accuracy: 0.9660\n",
            "Epoch 4/10\n",
            "188/188 [==============================] - 10s 52ms/step - loss: 0.1512 - accuracy: 0.9812 - val_loss: 0.2074 - val_accuracy: 0.9654\n",
            "Epoch 5/10\n",
            "188/188 [==============================] - 10s 52ms/step - loss: 0.1472 - accuracy: 0.9820 - val_loss: 0.2066 - val_accuracy: 0.9663\n",
            "Epoch 6/10\n",
            "188/188 [==============================] - 10s 52ms/step - loss: 0.1433 - accuracy: 0.9826 - val_loss: 0.2030 - val_accuracy: 0.9676\n",
            "Epoch 7/10\n",
            "188/188 [==============================] - 10s 52ms/step - loss: 0.1399 - accuracy: 0.9835 - val_loss: 0.2011 - val_accuracy: 0.9675\n",
            "Epoch 8/10\n",
            "188/188 [==============================] - 10s 52ms/step - loss: 0.1365 - accuracy: 0.9839 - val_loss: 0.1991 - val_accuracy: 0.9674\n",
            "Epoch 9/10\n",
            "188/188 [==============================] - 10s 52ms/step - loss: 0.1336 - accuracy: 0.9848 - val_loss: 0.1957 - val_accuracy: 0.9670\n",
            "Epoch 10/10\n",
            "188/188 [==============================] - 10s 52ms/step - loss: 0.1306 - accuracy: 0.9852 - val_loss: 0.1954 - val_accuracy: 0.9677\n"
          ]
        }
      ],
      "source": [
        "# We free all the weights and fine tune\n",
        "\n",
        "fm_x1.trainable = True\n",
        "qmdmc1.trainable = True\n",
        "EPOCHS = 10\n",
        "history = qmdmclf2.fit(X_train, y_train_bin, batch_size=BATCH_SIZE,\n",
        "                    epochs=EPOCHS, validation_split=0.2)"
      ]
    },
    {
      "cell_type": "code",
      "metadata": {
        "id": "diEm3hzi31v1"
      },
      "source": [],
      "execution_count": null,
      "outputs": []
    }
  ]
}