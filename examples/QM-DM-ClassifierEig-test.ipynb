{
 "metadata": {
  "language_info": {
   "codemirror_mode": {
    "name": "ipython",
    "version": 3
   },
   "file_extension": ".py",
   "mimetype": "text/x-python",
   "name": "python",
   "nbconvert_exporter": "python",
   "pygments_lexer": "ipython3",
   "version": "3.8.8"
  },
  "orig_nbformat": 2,
  "kernelspec": {
   "name": "python388jvsc74a57bd06f5c4f860b8b5392c9fe536844a7572c0d9b36e44085495c747ab5a91e5f3cc1",
   "display_name": "Python 3.8.8 64-bit ('tf_x86': conda)"
  },
  "metadata": {
   "interpreter": {
    "hash": "6f5c4f860b8b5392c9fe536844a7572c0d9b36e44085495c747ab5a91e5f3cc1"
   }
  }
 },
 "nbformat": 4,
 "nbformat_minor": 2,
 "cells": [
  {
   "source": [
    "<a href=\"https://colab.research.google.com/github/fagonzalezo/qmc/blob/master/examples/QM-DM-ClassifierEig-test.ipynb\" target=\"_parent\"><img src=\"https://colab.research.google.com/assets/colab-badge.svg\" alt=\"Open In Colab\"/></a>"
   ],
   "cell_type": "markdown",
   "metadata": {}
  },
  {
   "cell_type": "code",
   "execution_count": 1,
   "metadata": {},
   "outputs": [],
   "source": [
    "# Install qmc if running in Google Colab\n",
    "\n",
    "try:\n",
    "  import google.colab\n",
    "  IN_COLAB = True\n",
    "except:\n",
    "  IN_COLAB = False\n",
    "\n",
    "if IN_COLAB:\n",
    "    !pip install git+https://github.com/fagonzalezo/qmc.git\n",
    "else:\n",
    "    import sys\n",
    "    sys.path.insert(0, \"../\")"
   ]
  },
  {
   "cell_type": "code",
   "execution_count": 2,
   "metadata": {},
   "outputs": [],
   "source": [
    "from sklearn.metrics import accuracy_score\n",
    "from sklearn.datasets import make_blobs, make_moons, make_circles\n",
    "from sklearn.preprocessing import MinMaxScaler, OneHotEncoder\n",
    "from sklearn.model_selection import train_test_split\n",
    "from sklearn.datasets import load_digits\n",
    "import numpy as np\n",
    "import tensorflow as tf\n",
    "import qmc.tf.layers as layers\n",
    "import qmc.tf.models as models\n"
   ]
  },
  {
   "source": [
    "# Digits"
   ],
   "cell_type": "markdown",
   "metadata": {}
  },
  {
   "cell_type": "code",
   "execution_count": 3,
   "metadata": {},
   "outputs": [
    {
     "output_type": "stream",
     "name": "stdout",
     "text": [
      "(1203, 64)\n(1203, 1)\n(1203, 10)\n"
     ]
    }
   ],
   "source": [
    "X,y = load_digits(return_X_y=True)\n",
    "scaler = MinMaxScaler()\n",
    "X = scaler.fit_transform(X)\n",
    "X_train, X_test, y_train, y_test = train_test_split(\n",
    "        X, y, test_size=0.33, stratify=y, random_state=42)\n",
    "\n",
    "print(X_train.shape)\n",
    "y_train = y_train[:, np.newaxis]\n",
    "y_test = y_test[:, np.newaxis]\n",
    "y_train_bin = tf.reshape (tf.keras.backend.one_hot(y_train, 10), (-1,10))\n",
    "y_test_bin = tf.reshape (tf.keras.backend.one_hot(y_test, 10), (-1,10))\n",
    "print(y_train.shape)\n",
    "print(y_train_bin.shape)"
   ]
  },
  {
   "cell_type": "code",
   "execution_count": 4,
   "metadata": {},
   "outputs": [
    {
     "output_type": "stream",
     "name": "stdout",
     "text": [
      "38/38 [==============================] - 3s 77ms/step\n",
      "0.9377104377104377\n"
     ]
    }
   ],
   "source": [
    "fm_x = layers.QFeatureMapRFF(64, dim=150, gamma=0.375, random_state=17)\n",
    "fm_y = layers.QFeatureMapOneHot(num_classes=10)\n",
    "qmc_dig = models.QMClassifier(fm_x=fm_x, fm_y=fm_y, dim_x=150, dim_y=10)\n",
    "qmc_dig.compile()\n",
    "qmc_dig.fit(X_train, y_train, epochs=1)\n",
    "out = qmc_dig.predict(X_test)\n",
    "print(accuracy_score(y_test, np.argmax(out, axis=1)))"
   ]
  },
  {
   "cell_type": "code",
   "execution_count": 5,
   "metadata": {},
   "outputs": [
    {
     "output_type": "stream",
     "name": "stdout",
     "text": [
      "Epoch 1/10\n",
      "38/38 [==============================] - 0s 1ms/step - loss: 1.4909\n",
      "Epoch 2/10\n",
      "38/38 [==============================] - 0s 1ms/step - loss: 0.4057\n",
      "Epoch 3/10\n",
      "38/38 [==============================] - 0s 1ms/step - loss: 0.2784\n",
      "Epoch 4/10\n",
      "38/38 [==============================] - 0s 1ms/step - loss: 0.2234\n",
      "Epoch 5/10\n",
      "38/38 [==============================] - 0s 1ms/step - loss: 0.1894\n",
      "Epoch 6/10\n",
      "38/38 [==============================] - 0s 1ms/step - loss: 0.1553\n",
      "Epoch 7/10\n",
      "38/38 [==============================] - 0s 1ms/step - loss: 0.1302\n",
      "Epoch 8/10\n",
      "38/38 [==============================] - 0s 1ms/step - loss: 0.1178\n",
      "Epoch 9/10\n",
      "38/38 [==============================] - 0s 1ms/step - loss: 0.1096\n",
      "Epoch 10/10\n",
      "38/38 [==============================] - 0s 1ms/step - loss: 0.0938\n",
      "0.9797979797979798\n"
     ]
    }
   ],
   "source": [
    "qmc_sgd_dig = models.QMClassifierSGD(input_dim=64, dim_x=150, dim_y=10,\n",
    "                                     num_eig=10, gamma=0.375, random_state=17)\n",
    "optimizer = tf.keras.optimizers.Adam(learning_rate=0.01)\n",
    "qmc_sgd_dig.compile(optimizer, loss=tf.keras.losses.CategoricalCrossentropy())\n",
    "qmc_sgd_dig.fit(X_train, y_train_bin, epochs=10)\n",
    "out = qmc_sgd_dig.predict(X_test)\n",
    "print(accuracy_score(y_test, np.argmax(out, axis=1)))"
   ]
  },
  {
   "cell_type": "code",
   "execution_count": 9,
   "metadata": {},
   "outputs": [],
   "source": [
    "inputs = tf.keras.Input(shape=(64,))\n",
    "fm_x = layers.QFeatureMapRFF(64, dim=150, gamma=0.375, random_state=17)\n",
    "psi_x = fm_x(inputs)\n",
    "ones = tf.fill((tf.shape(inputs)[0], 1), 1.0)\n",
    "rho_x = tf.keras.layers.concatenate((ones, psi_x), axis=1)\n",
    "rho_x = tf.expand_dims(rho_x, axis=-1)\n",
    "qmdmc = layers.QMeasureDMClassifEig(dim_x=150, dim_y=10, eig_out=10, num_eig=10)\n",
    "rho_y = qmdmc(rho_x)\n",
    "y_w = rho_y[:, 0, :] # shape (b, d_in)\n",
    "y_v = rho_y[:, 1:, :] # shape (b, dim_x, d_in)\n",
    "probs = tf.einsum('...j,...ij,...ij->...i', y_w, y_v, tf.math.conj(y_v))\n",
    "qmdmc = tf.keras.Model(inputs=inputs, outputs=probs)"
   ]
  },
  {
   "cell_type": "code",
   "execution_count": 10,
   "metadata": {},
   "outputs": [
    {
     "output_type": "stream",
     "name": "stdout",
     "text": [
      "Epoch 1/10\n",
      "38/38 [==============================] - 1s 2ms/step - loss: 1.1872\n",
      "Epoch 2/10\n",
      "38/38 [==============================] - 0s 2ms/step - loss: 0.3227\n",
      "Epoch 3/10\n",
      "38/38 [==============================] - 0s 2ms/step - loss: 0.1833\n",
      "Epoch 4/10\n",
      "38/38 [==============================] - 0s 2ms/step - loss: 0.1331\n",
      "Epoch 5/10\n",
      "38/38 [==============================] - 0s 2ms/step - loss: 0.1142\n",
      "Epoch 6/10\n",
      "38/38 [==============================] - 0s 2ms/step - loss: 0.0910\n",
      "Epoch 7/10\n",
      "38/38 [==============================] - 0s 2ms/step - loss: 0.0823\n",
      "Epoch 8/10\n",
      "38/38 [==============================] - 0s 2ms/step - loss: 0.0683\n",
      "Epoch 9/10\n",
      "38/38 [==============================] - 0s 2ms/step - loss: 0.0633\n",
      "Epoch 10/10\n",
      "38/38 [==============================] - 0s 2ms/step - loss: 0.0594\n",
      "0.9747474747474747\n"
     ]
    }
   ],
   "source": [
    "qmdmc.compile(optimizer, loss=tf.keras.losses.CategoricalCrossentropy())\n",
    "qmdmc.fit(X_train, y_train_bin, epochs=10)\n",
    "out = qmdmc.predict(X_test)\n",
    "print(accuracy_score(y_test, np.argmax(out, axis=1)))"
   ]
  },
  {
   "source": [
    "# MNIST"
   ],
   "cell_type": "markdown",
   "metadata": {}
  },
  {
   "cell_type": "code",
   "execution_count": 15,
   "metadata": {},
   "outputs": [
    {
     "output_type": "stream",
     "name": "stdout",
     "text": [
      "shape X_train :  (60000, 784)\nshape y_train :  (60000,)\nshape X_test :  (10000, 784)\nshape y_test :  (10000,)\n"
     ]
    }
   ],
   "source": [
    "from tensorflow.keras.datasets import mnist\n",
    "from sklearn.preprocessing import OneHotEncoder\n",
    "\n",
    "(X_train, y_train), (X_test, y_test) = mnist.load_data()\n",
    "\n",
    "X_train = X_train.reshape((60000,784))\n",
    "X_test = X_test.reshape((10000,784))\n",
    "\n",
    "\n",
    "X_train = X_train.astype('float32')\n",
    "X_test = X_test.astype('float32')\n",
    "\n",
    "print(\"shape X_train : \", X_train.shape)\n",
    "print(\"shape y_train : \", y_train.shape)\n",
    "print(\"shape X_test : \", X_test.shape)\n",
    "print(\"shape y_test : \", y_test.shape)\n",
    "transformer = OneHotEncoder(sparse=False)\n",
    "y_train_bin = transformer.fit_transform(y_train[:, np.newaxis])"
   ]
  },
  {
   "cell_type": "code",
   "execution_count": 25,
   "metadata": {},
   "outputs": [],
   "source": [
    "scaler = MinMaxScaler()\n",
    "scaler.fit(X_train)\n",
    "X_train = scaler.transform(X_train)\n",
    "X_test = scaler.transform(X_test)"
   ]
  },
  {
   "cell_type": "code",
   "execution_count": 13,
   "metadata": {},
   "outputs": [],
   "source": [
    "def create_model(input_dim, num_classes, component_dim=100, gamma=1, lr=0.01, decay=0.,\n",
    "                  random_state=None, eig_percentage=0, initialize_with_rff=False,\n",
    "                  type_of_rff=\"rff\", fix_rff=False):\n",
    "    '''This is a model generating function so that we can search over neural net\n",
    "    parameters and architecture'''\n",
    "\n",
    "    num_eig = round(eig_percentage * component_dim)\n",
    "\n",
    "    opt = tf.keras.optimizers.Adam(lr=lr, beta_1=0.9, beta_2=0.999, decay=decay)\n",
    "\n",
    "    if type_of_rff == 'rff':\n",
    "        fm_x = layers.QFeatureMapRFF(input_dim, dim=component_dim, gamma=gamma, random_state=random_state)\n",
    "    #else:\n",
    "    #    fm_x = layers.QFeatureMapORF(input_dim, dim=component_dim, gamma=gamma, random_state=random_state)\n",
    "\n",
    "    if initialize_with_rff:\n",
    "        qmkdc = models.DMKDClassifier(fm_x=fm_x, dim_x=component_dim, num_classes=num_classes)\n",
    "        qmkdc.compile()\n",
    "        qmkdc.fit(X_train, y_train, epochs=1, batch_size=batch_size)\n",
    "\n",
    "    qmkdc1 = models.DMKDClassifierSGD(input_dim=input_dim, dim_x=component_dim, num_eig=num_eig,\n",
    "                                      num_classes=num_classes, gamma=gamma, \n",
    "                                      random_state=random_state)\n",
    "\n",
    "    if fix_rff:\n",
    "        qmkdc1.layers[0].trainable = False\n",
    "\n",
    "    qmkdc1.compile(loss=tf.keras.losses.CategoricalCrossentropy(), optimizer=opt, metrics=['accuracy'])\n",
    "\n",
    "    if initialize_with_rff:\n",
    "        qmkdc1.set_rhos(qmkdc.get_rhos())\n",
    "\n",
    "    # qmkdc1.fit(X_train, y_train_bin, epochs=epochs, batch_size=batch_size)\n",
    "\n",
    "    return qmkdc1"
   ]
  },
  {
   "cell_type": "code",
   "execution_count": 26,
   "metadata": {},
   "outputs": [
    {
     "output_type": "stream",
     "name": "stderr",
     "text": [
      "/Users/fgonza/miniforge3/envs/tf_x86/lib/python3.8/site-packages/tensorflow/python/keras/optimizer_v2/optimizer_v2.py:381: UserWarning: The `lr` argument is deprecated, use `learning_rate` instead.\n  warnings.warn(\n"
     ]
    }
   ],
   "source": [
    "input_dim = 784\n",
    "component_dim = 784\n",
    "num_classes = 10\n",
    "gamma = 2**-5\n",
    "random_state=0\n",
    "num_eig=0\n",
    "batch_size=32\n",
    "epochs = 10\n",
    "model_mnist = create_model(input_dim, num_classes, component_dim=round(input_dim/2), \n",
    "                           gamma=2**-9, lr=0.00001, decay=1.000000e-06,\n",
    "                           random_state=None, eig_percentage=0.1, \n",
    "                           initialize_with_rff=False,\n",
    "                           type_of_rff=\"rff\", fix_rff=False)"
   ]
  },
  {
   "cell_type": "code",
   "execution_count": 27,
   "metadata": {},
   "outputs": [],
   "source": [
    "opt = tf.keras.optimizers.RMSprop(lr=0.00000001,  decay=1.000000e-06)\n",
    "model_mnist.compile(loss=tf.keras.losses.CategoricalCrossentropy(), optimizer=opt, metrics=['accuracy'])"
   ]
  },
  {
   "cell_type": "code",
   "execution_count": 28,
   "metadata": {},
   "outputs": [
    {
     "output_type": "stream",
     "name": "stdout",
     "text": [
      "Epoch 1/10\n",
      "1875/1875 [==============================] - 8s 3ms/step - loss: 2.3848 - accuracy: 0.0869\n",
      "Epoch 2/10\n",
      "1875/1875 [==============================] - 6s 3ms/step - loss: 2.3807 - accuracy: 0.0874\n",
      "Epoch 3/10\n",
      "1875/1875 [==============================] - 6s 3ms/step - loss: 2.3759 - accuracy: 0.0857\n",
      "Epoch 4/10\n",
      "1875/1875 [==============================] - 7s 4ms/step - loss: 2.3722 - accuracy: 0.0880\n",
      "Epoch 5/10\n",
      "1875/1875 [==============================] - 6s 3ms/step - loss: 2.3715 - accuracy: 0.0873\n",
      "Epoch 6/10\n",
      "1875/1875 [==============================] - 6s 3ms/step - loss: 2.3640 - accuracy: 0.0874\n",
      "Epoch 7/10\n",
      "1875/1875 [==============================] - 6s 3ms/step - loss: 2.3619 - accuracy: 0.0879\n",
      "Epoch 8/10\n",
      "1875/1875 [==============================] - 6s 3ms/step - loss: 2.3569 - accuracy: 0.0869\n",
      "Epoch 9/10\n",
      "1875/1875 [==============================] - 6s 3ms/step - loss: 2.3525 - accuracy: 0.0887\n",
      "Epoch 10/10\n",
      "1875/1875 [==============================] - 6s 3ms/step - loss: 2.3504 - accuracy: 0.0873\n"
     ]
    }
   ],
   "source": [
    "history = model_mnist.fit(X_train, y_train_bin, epochs=10, batch_size=32)"
   ]
  },
  {
   "cell_type": "code",
   "execution_count": 29,
   "metadata": {},
   "outputs": [],
   "source": [
    "inputs = tf.keras.Input(shape=(784,))\n",
    "fm_x = layers.QFeatureMapRFF(784, dim=784, gamma=2**-5, random_state=17)\n",
    "psi_x = fm_x(inputs)\n",
    "ones = tf.fill((tf.shape(inputs)[0], 1), 1.0)\n",
    "rho_x = tf.keras.layers.concatenate((ones, psi_x), axis=1)\n",
    "rho_x = tf.expand_dims(rho_x, axis=-1)\n",
    "qmdmc = layers.QMeasureDMClassifEig(dim_x=784, dim_y=10, eig_out=80, num_eig=80)\n",
    "rho_y = qmdmc(rho_x)\n",
    "y_w = rho_y[:, 0, :] # shape (b, d_in)\n",
    "y_v = rho_y[:, 1:, :] # shape (b, dim_x, d_in)\n",
    "probs = tf.einsum('...j,...ij,...ij->...i', y_w, y_v, tf.math.conj(y_v))\n",
    "qmdmc = tf.keras.Model(inputs=inputs, outputs=probs)"
   ]
  },
  {
   "cell_type": "code",
   "execution_count": 30,
   "metadata": {},
   "outputs": [
    {
     "output_type": "stream",
     "name": "stdout",
     "text": [
      "Epoch 1/10\n",
      "1875/1875 [==============================] - 61s 32ms/step - loss: 2.3367 - accuracy: 0.0923\n",
      "Epoch 2/10\n",
      "1875/1875 [==============================] - 61s 32ms/step - loss: 2.3368 - accuracy: 0.0931\n",
      "Epoch 3/10\n",
      "1875/1875 [==============================] - 60s 32ms/step - loss: 2.3362 - accuracy: 0.0931\n",
      "Epoch 4/10\n",
      "1875/1875 [==============================] - 60s 32ms/step - loss: 2.3368 - accuracy: 0.0942\n",
      "Epoch 5/10\n",
      "1875/1875 [==============================] - 61s 32ms/step - loss: 2.3364 - accuracy: 0.0914\n",
      "Epoch 6/10\n",
      "1875/1875 [==============================] - 61s 32ms/step - loss: 2.3335 - accuracy: 0.0953\n",
      "Epoch 7/10\n",
      "1875/1875 [==============================] - 59s 32ms/step - loss: 2.3343 - accuracy: 0.0925\n",
      "Epoch 8/10\n",
      "1875/1875 [==============================] - 60s 32ms/step - loss: 2.3345 - accuracy: 0.0957\n",
      "Epoch 9/10\n",
      "1875/1875 [==============================] - 60s 32ms/step - loss: 2.3338 - accuracy: 0.0956\n",
      "Epoch 10/10\n",
      "1875/1875 [==============================] - 62s 33ms/step - loss: 2.3353 - accuracy: 0.0924\n"
     ]
    }
   ],
   "source": [
    "qmdmc.compile(loss=tf.keras.losses.CategoricalCrossentropy(), optimizer=opt, metrics=['accuracy'])\n",
    "history = qmdmc.fit(X_train, y_train_bin, epochs=10, batch_size=32)"
   ]
  },
  {
   "cell_type": "code",
   "execution_count": null,
   "metadata": {},
   "outputs": [],
   "source": []
  }
 ]
}