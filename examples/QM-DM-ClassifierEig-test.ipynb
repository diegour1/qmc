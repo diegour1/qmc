{
 "metadata": {
  "language_info": {
   "codemirror_mode": {
    "name": "ipython",
    "version": 3
   },
   "file_extension": ".py",
   "mimetype": "text/x-python",
   "name": "python",
   "nbconvert_exporter": "python",
   "pygments_lexer": "ipython3",
   "version": "3.8.8"
  },
  "orig_nbformat": 2,
  "kernelspec": {
   "name": "python388jvsc74a57bd06f5c4f860b8b5392c9fe536844a7572c0d9b36e44085495c747ab5a91e5f3cc1",
   "display_name": "Python 3.8.8 64-bit ('tf_x86': conda)"
  },
  "metadata": {
   "interpreter": {
    "hash": "6f5c4f860b8b5392c9fe536844a7572c0d9b36e44085495c747ab5a91e5f3cc1"
   }
  }
 },
 "nbformat": 4,
 "nbformat_minor": 2,
 "cells": [
  {
   "source": [
    "<a href=\"https://colab.research.google.com/github/fagonzalezo/qmc/blob/master/examples/QM-DM-ClassifierEig-test.ipynb\" target=\"_parent\"><img src=\"https://colab.research.google.com/assets/colab-badge.svg\" alt=\"Open In Colab\"/></a>"
   ],
   "cell_type": "markdown",
   "metadata": {}
  },
  {
   "cell_type": "code",
   "execution_count": 1,
   "metadata": {},
   "outputs": [],
   "source": [
    "# Install qmc if running in Google Colab\n",
    "\n",
    "try:\n",
    "  import google.colab\n",
    "  IN_COLAB = True\n",
    "except:\n",
    "  IN_COLAB = False\n",
    "\n",
    "if IN_COLAB:\n",
    "    !pip install git+https://github.com/fagonzalezo/qmc.git\n",
    "else:\n",
    "    import sys\n",
    "    sys.path.insert(0, \"../\")"
   ]
  },
  {
   "cell_type": "code",
   "execution_count": 2,
   "metadata": {},
   "outputs": [],
   "source": [
    "from sklearn.metrics import accuracy_score\n",
    "from sklearn.datasets import make_blobs, make_moons, make_circles\n",
    "from sklearn.preprocessing import MinMaxScaler, OneHotEncoder\n",
    "from sklearn.model_selection import train_test_split\n",
    "from sklearn.datasets import load_digits\n",
    "import numpy as np\n",
    "import tensorflow as tf\n",
    "import qmc.tf.layers as layers\n",
    "import qmc.tf.models as models\n"
   ]
  },
  {
   "source": [
    "# Digits"
   ],
   "cell_type": "markdown",
   "metadata": {}
  },
  {
   "cell_type": "code",
   "execution_count": 3,
   "metadata": {},
   "outputs": [
    {
     "output_type": "stream",
     "name": "stdout",
     "text": [
      "(1203, 64)\n(1203, 1)\n(1203, 10)\n"
     ]
    }
   ],
   "source": [
    "X,y = load_digits(return_X_y=True)\n",
    "scaler = MinMaxScaler()\n",
    "X = scaler.fit_transform(X)\n",
    "X_train, X_test, y_train, y_test = train_test_split(\n",
    "        X, y, test_size=0.33, stratify=y, random_state=42)\n",
    "\n",
    "print(X_train.shape)\n",
    "y_train = y_train[:, np.newaxis]\n",
    "y_test = y_test[:, np.newaxis]\n",
    "y_train_bin = tf.reshape (tf.keras.backend.one_hot(y_train, 10), (-1,10))\n",
    "y_test_bin = tf.reshape (tf.keras.backend.one_hot(y_test, 10), (-1,10))\n",
    "print(y_train.shape)\n",
    "print(y_train_bin.shape)"
   ]
  },
  {
   "cell_type": "code",
   "execution_count": 4,
   "metadata": {},
   "outputs": [
    {
     "output_type": "stream",
     "name": "stdout",
     "text": [
      "38/38 [==============================] - 3s 79ms/step\n",
      "0.9377104377104377\n"
     ]
    }
   ],
   "source": [
    "fm_x = layers.QFeatureMapRFF(64, dim=150, gamma=0.375, random_state=17)\n",
    "fm_y = layers.QFeatureMapOneHot(num_classes=10)\n",
    "qmc_dig = models.QMClassifier(fm_x=fm_x, fm_y=fm_y, dim_x=150, dim_y=10)\n",
    "qmc_dig.compile()\n",
    "qmc_dig.fit(X_train, y_train, epochs=1)\n",
    "out = qmc_dig.predict(X_test)\n",
    "print(accuracy_score(y_test, np.argmax(out, axis=1)))"
   ]
  },
  {
   "cell_type": "code",
   "execution_count": 5,
   "metadata": {},
   "outputs": [
    {
     "output_type": "stream",
     "name": "stdout",
     "text": [
      "Epoch 1/10\n",
      "38/38 [==============================] - 0s 1ms/step - loss: 1.3829\n",
      "Epoch 2/10\n",
      "38/38 [==============================] - 0s 1ms/step - loss: 0.3436\n",
      "Epoch 3/10\n",
      "38/38 [==============================] - 0s 1ms/step - loss: 0.2404\n",
      "Epoch 4/10\n",
      "38/38 [==============================] - 0s 1ms/step - loss: 0.1909\n",
      "Epoch 5/10\n",
      "38/38 [==============================] - 0s 1ms/step - loss: 0.1529\n",
      "Epoch 6/10\n",
      "38/38 [==============================] - 0s 1ms/step - loss: 0.1316\n",
      "Epoch 7/10\n",
      "38/38 [==============================] - 0s 1ms/step - loss: 0.1170\n",
      "Epoch 8/10\n",
      "38/38 [==============================] - 0s 1ms/step - loss: 0.1038\n",
      "Epoch 9/10\n",
      "38/38 [==============================] - 0s 1ms/step - loss: 0.0883\n",
      "Epoch 10/10\n",
      "38/38 [==============================] - 0s 1ms/step - loss: 0.0844\n",
      "0.9713804713804713\n"
     ]
    }
   ],
   "source": [
    "qmc_sgd_dig = models.QMClassifierSGD(input_dim=64, dim_x=150, dim_y=10,\n",
    "                                     num_eig=10, gamma=0.375, random_state=17)\n",
    "optimizer = tf.keras.optimizers.Adam(learning_rate=0.01)\n",
    "qmc_sgd_dig.compile(optimizer, loss=tf.keras.losses.CategoricalCrossentropy())\n",
    "qmc_sgd_dig.fit(X_train, y_train_bin, epochs=10)\n",
    "out = qmc_sgd_dig.predict(X_test)\n",
    "print(accuracy_score(y_test, np.argmax(out, axis=1)))"
   ]
  },
  {
   "cell_type": "code",
   "execution_count": 6,
   "metadata": {},
   "outputs": [
    {
     "output_type": "stream",
     "name": "stdout",
     "text": [
      "WARNING:tensorflow:From /Users/fgonza/miniforge3/envs/tf_x86/lib/python3.8/site-packages/tensorflow/python/ops/array_ops.py:5043: calling gather (from tensorflow.python.ops.array_ops) with validate_indices is deprecated and will be removed in a future version.\nInstructions for updating:\nThe `validate_indices` argument has no effect. Indices are always validated on CPU and never validated on GPU.\n"
     ]
    }
   ],
   "source": [
    "inputs = tf.keras.Input(shape=(64,))\n",
    "fm_x = layers.QFeatureMapRFF(64, dim=150, gamma=0.375, random_state=17)\n",
    "psi_x = fm_x(inputs)\n",
    "ones = tf.ones_like(inputs[:, 0:1])\n",
    "rho_x = tf.keras.layers.concatenate((ones, psi_x), axis=1)\n",
    "rho_x = tf.expand_dims(rho_x, axis=-1)\n",
    "qmdmc = layers.QMeasureDMClassifEig(dim_x=150, dim_y=10, eig_out=10, num_eig=10)\n",
    "rho_y = qmdmc(rho_x)\n",
    "y_w = rho_y[:, 0, :] # shape (b, d_in)\n",
    "y_v = rho_y[:, 1:, :] # shape (b, dim_x, d_in)\n",
    "probs = tf.einsum('...j,...ij,...ij->...i', y_w, y_v, tf.math.conj(y_v))\n",
    "qmdmc = tf.keras.Model(inputs=inputs, outputs=probs)"
   ]
  },
  {
   "cell_type": "code",
   "execution_count": 7,
   "metadata": {},
   "outputs": [
    {
     "output_type": "stream",
     "name": "stdout",
     "text": [
      "Epoch 1/10\n",
      "38/38 [==============================] - 1s 2ms/step - loss: 1.2683\n",
      "Epoch 2/10\n",
      "38/38 [==============================] - 0s 2ms/step - loss: 0.3484\n",
      "Epoch 3/10\n",
      "38/38 [==============================] - 0s 2ms/step - loss: 0.2048\n",
      "Epoch 4/10\n",
      "38/38 [==============================] - 0s 2ms/step - loss: 0.1637\n",
      "Epoch 5/10\n",
      "38/38 [==============================] - 0s 3ms/step - loss: 0.1321\n",
      "Epoch 6/10\n",
      "38/38 [==============================] - 0s 2ms/step - loss: 0.1110\n",
      "Epoch 7/10\n",
      "38/38 [==============================] - 0s 2ms/step - loss: 0.0973\n",
      "Epoch 8/10\n",
      "38/38 [==============================] - 0s 2ms/step - loss: 0.0896\n",
      "Epoch 9/10\n",
      "38/38 [==============================] - 0s 2ms/step - loss: 0.0791\n",
      "Epoch 10/10\n",
      "38/38 [==============================] - 0s 2ms/step - loss: 0.0706\n",
      "0.9764309764309764\n"
     ]
    }
   ],
   "source": [
    "qmdmc.compile(optimizer, loss=tf.keras.losses.CategoricalCrossentropy())\n",
    "qmdmc.fit(X_train, y_train_bin, epochs=10)\n",
    "out = qmdmc.predict(X_test)\n",
    "print(accuracy_score(y_test, np.argmax(out, axis=1)))"
   ]
  },
  {
   "source": [
    "# MNIST"
   ],
   "cell_type": "markdown",
   "metadata": {}
  },
  {
   "cell_type": "code",
   "execution_count": 8,
   "metadata": {},
   "outputs": [
    {
     "output_type": "stream",
     "name": "stdout",
     "text": [
      "shape X_train :  (60000, 784)\nshape y_train :  (60000,)\nshape X_test :  (10000, 784)\nshape y_test :  (10000,)\n"
     ]
    }
   ],
   "source": [
    "from tensorflow.keras.datasets import mnist\n",
    "from sklearn.preprocessing import OneHotEncoder\n",
    "\n",
    "(X_train, y_train), (X_test, y_test) = mnist.load_data()\n",
    "\n",
    "X_train = X_train.reshape((60000,784))\n",
    "X_test = X_test.reshape((10000,784))\n",
    "\n",
    "\n",
    "X_train = X_train.astype('float32')\n",
    "X_test = X_test.astype('float32')\n",
    "\n",
    "print(\"shape X_train : \", X_train.shape)\n",
    "print(\"shape y_train : \", y_train.shape)\n",
    "print(\"shape X_test : \", X_test.shape)\n",
    "print(\"shape y_test : \", y_test.shape)\n",
    "transformer = OneHotEncoder(sparse=False)\n",
    "y_train_bin = transformer.fit_transform(y_train[:, np.newaxis])"
   ]
  },
  {
   "cell_type": "code",
   "execution_count": 9,
   "metadata": {},
   "outputs": [],
   "source": [
    "scaler = MinMaxScaler()\n",
    "scaler.fit(X_train)\n",
    "X_train = scaler.transform(X_train)\n",
    "X_test = scaler.transform(X_test)"
   ]
  },
  {
   "cell_type": "code",
   "execution_count": 13,
   "metadata": {},
   "outputs": [],
   "source": [
    "def create_model(input_dim, num_classes, component_dim=100, gamma=1, lr=0.01, decay=0.,\n",
    "                  random_state=None, eig_percentage=0, initialize_with_rff=False,\n",
    "                  type_of_rff=\"rff\", fix_rff=False):\n",
    "    '''This is a model generating function so that we can search over neural net\n",
    "    parameters and architecture'''\n",
    "\n",
    "    num_eig = round(eig_percentage * component_dim)\n",
    "\n",
    "    opt = tf.keras.optimizers.Adam(lr=lr, beta_1=0.9, beta_2=0.999, decay=decay)\n",
    "\n",
    "    if type_of_rff == 'rff':\n",
    "        fm_x = layers.QFeatureMapRFF(input_dim, dim=component_dim, gamma=gamma, random_state=random_state)\n",
    "    #else:\n",
    "    #    fm_x = layers.QFeatureMapORF(input_dim, dim=component_dim, gamma=gamma, random_state=random_state)\n",
    "\n",
    "    if initialize_with_rff:\n",
    "        qmkdc = models.DMKDClassifier(fm_x=fm_x, dim_x=component_dim, num_classes=num_classes)\n",
    "        qmkdc.compile()\n",
    "        qmkdc.fit(X_train, y_train, epochs=1, batch_size=batch_size)\n",
    "\n",
    "    qmkdc1 = models.DMKDClassifierSGD(input_dim=input_dim, dim_x=component_dim, num_eig=num_eig,\n",
    "                                      num_classes=num_classes, gamma=gamma, \n",
    "                                      random_state=random_state)\n",
    "\n",
    "    if fix_rff:\n",
    "        qmkdc1.layers[0].trainable = False\n",
    "\n",
    "    qmkdc1.compile(loss=tf.keras.losses.CategoricalCrossentropy(), optimizer=opt, metrics=['accuracy'])\n",
    "\n",
    "    if initialize_with_rff:\n",
    "        qmkdc1.set_rhos(qmkdc.get_rhos())\n",
    "\n",
    "    # qmkdc1.fit(X_train, y_train_bin, epochs=epochs, batch_size=batch_size)\n",
    "\n",
    "    return qmkdc1"
   ]
  },
  {
   "cell_type": "code",
   "execution_count": 58,
   "metadata": {},
   "outputs": [],
   "source": [
    "input_dim = 784\n",
    "component_dim = 128\n",
    "num_classes = 10\n",
    "gamma = 2**-5\n",
    "random_state=0\n",
    "num_eig=60\n",
    "batch_size=32\n",
    "epochs = 10\n",
    "model_mnist = models.DMKDClassifierSGD(input_dim=input_dim, dim_x=component_dim,                                                          num_eig=num_eig, \n",
    "                                       num_classes=num_classes, \n",
    "                                       gamma=gamma,random_state=random_state)\n"
   ]
  },
  {
   "cell_type": "code",
   "execution_count": 59,
   "metadata": {},
   "outputs": [],
   "source": [
    "opt = tf.keras.optimizers.Adam(learning_rate=0.001)\n",
    "model_mnist.compile(loss=tf.keras.losses.CategoricalCrossentropy(), optimizer=opt, metrics=['accuracy'])"
   ]
  },
  {
   "cell_type": "code",
   "execution_count": 60,
   "metadata": {},
   "outputs": [
    {
     "output_type": "stream",
     "name": "stdout",
     "text": [
      "Epoch 1/10\n",
      "1875/1875 [==============================] - 5s 2ms/step - loss: 0.9126 - accuracy: 0.7807\n",
      "Epoch 2/10\n",
      "1875/1875 [==============================] - 4s 2ms/step - loss: 0.3224 - accuracy: 0.9449\n",
      "Epoch 3/10\n",
      "1875/1875 [==============================] - 4s 2ms/step - loss: 0.2528 - accuracy: 0.9615\n",
      "Epoch 4/10\n",
      "1875/1875 [==============================] - 4s 2ms/step - loss: 0.2181 - accuracy: 0.9672\n",
      "Epoch 5/10\n",
      "1875/1875 [==============================] - 4s 2ms/step - loss: 0.2022 - accuracy: 0.9718\n",
      "Epoch 6/10\n",
      "1875/1875 [==============================] - 4s 2ms/step - loss: 0.1785 - accuracy: 0.9755\n",
      "Epoch 7/10\n",
      "1875/1875 [==============================] - 4s 2ms/step - loss: 0.1646 - accuracy: 0.9788\n",
      "Epoch 8/10\n",
      "1875/1875 [==============================] - 4s 2ms/step - loss: 0.1520 - accuracy: 0.9813\n",
      "Epoch 9/10\n",
      "1875/1875 [==============================] - 4s 2ms/step - loss: 0.1441 - accuracy: 0.9831\n",
      "Epoch 10/10\n",
      "1875/1875 [==============================] - 4s 2ms/step - loss: 0.1395 - accuracy: 0.9825\n"
     ]
    }
   ],
   "source": [
    "history = model_mnist.fit(X_train, y_train_bin, epochs=10, batch_size=32)"
   ]
  },
  {
   "cell_type": "code",
   "execution_count": 61,
   "metadata": {},
   "outputs": [
    {
     "output_type": "stream",
     "name": "stdout",
     "text": [
      "0.9695\n"
     ]
    }
   ],
   "source": [
    "out = model_mnist.predict(X_test, batch_size=batch_size)\n",
    "print(accuracy_score(y_test, out.argmax(axis=1)))"
   ]
  },
  {
   "cell_type": "code",
   "execution_count": 62,
   "metadata": {},
   "outputs": [],
   "source": [
    "inputs = tf.keras.Input(shape=(784,))\n",
    "fm_x = layers.QFeatureMapRFF(784, dim=component_dim , gamma=gamma, random_state=random_state)\n",
    "psi_x = fm_x(inputs)\n",
    "ones = tf.fill((tf.shape(inputs)[0], 1), 1.0)\n",
    "rho_x = tf.keras.layers.concatenate((ones, psi_x), axis=1)\n",
    "rho_x = tf.expand_dims(rho_x, axis=-1)\n",
    "qmdmc = layers.QMeasureDMClassifEig(dim_x=component_dim , dim_y=10, eig_out=num_eig * 2, num_eig=num_eig)\n",
    "rho_y = qmdmc(rho_x)\n",
    "y_w = rho_y[:, 0, :] # shape (b, d_in)\n",
    "y_v = rho_y[:, 1:, :] # shape (b, dim_x, d_in)\n",
    "probs = tf.einsum('...j,...ij,...ij->...i', y_w, y_v, tf.math.conj(y_v))\n",
    "qmdmc = tf.keras.Model(inputs=inputs, outputs=probs)"
   ]
  },
  {
   "cell_type": "code",
   "execution_count": 63,
   "metadata": {},
   "outputs": [
    {
     "output_type": "stream",
     "name": "stdout",
     "text": [
      "Epoch 1/10\n",
      "1875/1875 [==============================] - 13s 7ms/step - loss: 2.1461 - accuracy: 0.2668\n",
      "Epoch 2/10\n",
      "1875/1875 [==============================] - 12s 6ms/step - loss: 1.5701 - accuracy: 0.5781\n",
      "Epoch 3/10\n",
      "1875/1875 [==============================] - 12s 6ms/step - loss: 1.2851 - accuracy: 0.6878\n",
      "Epoch 4/10\n",
      "1875/1875 [==============================] - 12s 6ms/step - loss: 1.0990 - accuracy: 0.7506\n",
      "Epoch 5/10\n",
      "1875/1875 [==============================] - 12s 6ms/step - loss: 0.9772 - accuracy: 0.7877\n",
      "Epoch 6/10\n",
      "1875/1875 [==============================] - 12s 6ms/step - loss: 0.8807 - accuracy: 0.8099\n",
      "Epoch 7/10\n",
      "1875/1875 [==============================] - 12s 7ms/step - loss: 0.8059 - accuracy: 0.8243\n",
      "Epoch 8/10\n",
      "1875/1875 [==============================] - 12s 7ms/step - loss: 0.7429 - accuracy: 0.8347\n",
      "Epoch 9/10\n",
      "1875/1875 [==============================] - 12s 6ms/step - loss: 0.6981 - accuracy: 0.8395\n",
      "Epoch 10/10\n",
      "1875/1875 [==============================] - 12s 6ms/step - loss: 0.6547 - accuracy: 0.8504\n"
     ]
    }
   ],
   "source": [
    "opt = tf.keras.optimizers.Adam(learning_rate=0.0001, decay=1e-6)\n",
    "qmdmc.compile(loss=tf.keras.losses.CategoricalCrossentropy(), optimizer=opt, metrics=['accuracy'])\n",
    "history = qmdmc.fit(X_train, y_train_bin, epochs=10, batch_size=32)"
   ]
  },
  {
   "cell_type": "code",
   "execution_count": 64,
   "metadata": {},
   "outputs": [
    {
     "output_type": "stream",
     "name": "stdout",
     "text": [
      "0.854\n"
     ]
    }
   ],
   "source": [
    "out = qmdmc.predict(X_test, batch_size=batch_size)\n",
    "print(accuracy_score(y_test, out.argmax(axis=1)))"
   ]
  },
  {
   "cell_type": "code",
   "execution_count": null,
   "metadata": {},
   "outputs": [],
   "source": []
  }
 ]
}