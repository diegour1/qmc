{
  "nbformat": 4,
  "nbformat_minor": 0,
  "metadata": {
    "accelerator": "GPU",
    "colab": {
      "name": "Mixture of patches classification with QMC",
      "provenance": [],
      "collapsed_sections": []
    },
    "environment": {
      "name": "tf2-gpu.2-4.m61",
      "type": "gcloud",
      "uri": "gcr.io/deeplearning-platform-release/tf2-gpu.2-4:m61"
    },
    "kernelspec": {
      "display_name": "Python 3",
      "language": "python",
      "name": "python3"
    },
    "language_info": {
      "codemirror_mode": {
        "name": "ipython",
        "version": 3
      },
      "file_extension": ".py",
      "mimetype": "text/x-python",
      "name": "python",
      "nbconvert_exporter": "python",
      "pygments_lexer": "ipython3",
      "version": "3.9.7"
    }
  },
  "cells": [
    {
      "cell_type": "markdown",
      "metadata": {
        "id": "dknXtZHcM6rh"
      },
      "source": [
        "<a href=\"https://colab.research.google.com/github/fagonzalezo/qmc/blob/master/examples/Mixture_of_patches_classification_with_QMC.ipynb\" target=\"_parent\"><img src=\"https://colab.research.google.com/assets/colab-badge.svg\" alt=\"Open In Colab\"/></a>"
      ]
    },
    {
      "cell_type": "markdown",
      "metadata": {
        "id": "aQ9Ku1h_aYwR"
      },
      "source": [
        "# Mixture of patches classification with QMC\n",
        "\n",
        "Contains code from [Image classification with Vision Transformer](https://keras.io/examples/vision/image_classification_with_vision_transformer/)"
      ]
    },
    {
      "cell_type": "code",
      "metadata": {
        "colab": {
          "base_uri": "https://localhost:8080/"
        },
        "id": "6tc-zDLY4AUB",
        "outputId": "2fa9b96b-15ca-4819-923e-6c6be7af64ba"
      },
      "source": [
        "# Install qmc if running in Google Colab\n",
        "\n",
        "try:\n",
        "  import google.colab\n",
        "  IN_COLAB = True\n",
        "except:\n",
        "  IN_COLAB = False\n",
        "\n",
        "if IN_COLAB:\n",
        "    !pip install --upgrade  git+https://github.com/fagonzalezo/qmc.git\n",
        "    !pip install -U tensorflow-addons\n",
        "else:\n",
        "    import sys\n",
        "    sys.path.insert(0, \"../\")\n",
        "\n"
      ],
      "execution_count": 2,
      "outputs": [
        {
          "output_type": "stream",
          "name": "stdout",
          "text": [
            "Collecting git+https://github.com/fagonzalezo/qmc.git\n",
            "  Cloning https://github.com/fagonzalezo/qmc.git to /tmp/pip-req-build-pygruv4d\n",
            "  Running command git clone -q https://github.com/fagonzalezo/qmc.git /tmp/pip-req-build-pygruv4d\n",
            "Requirement already satisfied: scipy in /usr/local/lib/python3.7/dist-packages (from qmc==0.0.1) (1.4.1)\n",
            "Requirement already satisfied: numpy>=1.19.2 in /usr/local/lib/python3.7/dist-packages (from qmc==0.0.1) (1.19.5)\n",
            "Requirement already satisfied: scikit-learn in /usr/local/lib/python3.7/dist-packages (from qmc==0.0.1) (1.0.1)\n",
            "Requirement already satisfied: tensorflow>=2.2.0 in /usr/local/lib/python3.7/dist-packages (from qmc==0.0.1) (2.7.0)\n",
            "Requirement already satisfied: typeguard in /usr/local/lib/python3.7/dist-packages (from qmc==0.0.1) (2.7.1)\n",
            "Requirement already satisfied: astunparse>=1.6.0 in /usr/local/lib/python3.7/dist-packages (from tensorflow>=2.2.0->qmc==0.0.1) (1.6.3)\n",
            "Requirement already satisfied: grpcio<2.0,>=1.24.3 in /usr/local/lib/python3.7/dist-packages (from tensorflow>=2.2.0->qmc==0.0.1) (1.42.0)\n",
            "Requirement already satisfied: termcolor>=1.1.0 in /usr/local/lib/python3.7/dist-packages (from tensorflow>=2.2.0->qmc==0.0.1) (1.1.0)\n",
            "Requirement already satisfied: wheel<1.0,>=0.32.0 in /usr/local/lib/python3.7/dist-packages (from tensorflow>=2.2.0->qmc==0.0.1) (0.37.0)\n",
            "Requirement already satisfied: absl-py>=0.4.0 in /usr/local/lib/python3.7/dist-packages (from tensorflow>=2.2.0->qmc==0.0.1) (0.12.0)\n",
            "Requirement already satisfied: wrapt>=1.11.0 in /usr/local/lib/python3.7/dist-packages (from tensorflow>=2.2.0->qmc==0.0.1) (1.13.3)\n",
            "Requirement already satisfied: tensorflow-estimator<2.8,~=2.7.0rc0 in /usr/local/lib/python3.7/dist-packages (from tensorflow>=2.2.0->qmc==0.0.1) (2.7.0)\n",
            "Requirement already satisfied: keras<2.8,>=2.7.0rc0 in /usr/local/lib/python3.7/dist-packages (from tensorflow>=2.2.0->qmc==0.0.1) (2.7.0)\n",
            "Requirement already satisfied: protobuf>=3.9.2 in /usr/local/lib/python3.7/dist-packages (from tensorflow>=2.2.0->qmc==0.0.1) (3.17.3)\n",
            "Requirement already satisfied: six>=1.12.0 in /usr/local/lib/python3.7/dist-packages (from tensorflow>=2.2.0->qmc==0.0.1) (1.15.0)\n",
            "Requirement already satisfied: gast<0.5.0,>=0.2.1 in /usr/local/lib/python3.7/dist-packages (from tensorflow>=2.2.0->qmc==0.0.1) (0.4.0)\n",
            "Requirement already satisfied: flatbuffers<3.0,>=1.12 in /usr/local/lib/python3.7/dist-packages (from tensorflow>=2.2.0->qmc==0.0.1) (2.0)\n",
            "Requirement already satisfied: typing-extensions>=3.6.6 in /usr/local/lib/python3.7/dist-packages (from tensorflow>=2.2.0->qmc==0.0.1) (3.10.0.2)\n",
            "Requirement already satisfied: opt-einsum>=2.3.2 in /usr/local/lib/python3.7/dist-packages (from tensorflow>=2.2.0->qmc==0.0.1) (3.3.0)\n",
            "Requirement already satisfied: tensorboard~=2.6 in /usr/local/lib/python3.7/dist-packages (from tensorflow>=2.2.0->qmc==0.0.1) (2.7.0)\n",
            "Requirement already satisfied: google-pasta>=0.1.1 in /usr/local/lib/python3.7/dist-packages (from tensorflow>=2.2.0->qmc==0.0.1) (0.2.0)\n",
            "Requirement already satisfied: h5py>=2.9.0 in /usr/local/lib/python3.7/dist-packages (from tensorflow>=2.2.0->qmc==0.0.1) (3.1.0)\n",
            "Requirement already satisfied: libclang>=9.0.1 in /usr/local/lib/python3.7/dist-packages (from tensorflow>=2.2.0->qmc==0.0.1) (12.0.0)\n",
            "Requirement already satisfied: tensorflow-io-gcs-filesystem>=0.21.0 in /usr/local/lib/python3.7/dist-packages (from tensorflow>=2.2.0->qmc==0.0.1) (0.22.0)\n",
            "Requirement already satisfied: keras-preprocessing>=1.1.1 in /usr/local/lib/python3.7/dist-packages (from tensorflow>=2.2.0->qmc==0.0.1) (1.1.2)\n",
            "Requirement already satisfied: cached-property in /usr/local/lib/python3.7/dist-packages (from h5py>=2.9.0->tensorflow>=2.2.0->qmc==0.0.1) (1.5.2)\n",
            "Requirement already satisfied: google-auth<3,>=1.6.3 in /usr/local/lib/python3.7/dist-packages (from tensorboard~=2.6->tensorflow>=2.2.0->qmc==0.0.1) (1.35.0)\n",
            "Requirement already satisfied: werkzeug>=0.11.15 in /usr/local/lib/python3.7/dist-packages (from tensorboard~=2.6->tensorflow>=2.2.0->qmc==0.0.1) (1.0.1)\n",
            "Requirement already satisfied: google-auth-oauthlib<0.5,>=0.4.1 in /usr/local/lib/python3.7/dist-packages (from tensorboard~=2.6->tensorflow>=2.2.0->qmc==0.0.1) (0.4.6)\n",
            "Requirement already satisfied: requests<3,>=2.21.0 in /usr/local/lib/python3.7/dist-packages (from tensorboard~=2.6->tensorflow>=2.2.0->qmc==0.0.1) (2.23.0)\n",
            "Requirement already satisfied: tensorboard-data-server<0.7.0,>=0.6.0 in /usr/local/lib/python3.7/dist-packages (from tensorboard~=2.6->tensorflow>=2.2.0->qmc==0.0.1) (0.6.1)\n",
            "Requirement already satisfied: tensorboard-plugin-wit>=1.6.0 in /usr/local/lib/python3.7/dist-packages (from tensorboard~=2.6->tensorflow>=2.2.0->qmc==0.0.1) (1.8.0)\n",
            "Requirement already satisfied: markdown>=2.6.8 in /usr/local/lib/python3.7/dist-packages (from tensorboard~=2.6->tensorflow>=2.2.0->qmc==0.0.1) (3.3.6)\n",
            "Requirement already satisfied: setuptools>=41.0.0 in /usr/local/lib/python3.7/dist-packages (from tensorboard~=2.6->tensorflow>=2.2.0->qmc==0.0.1) (57.4.0)\n",
            "Requirement already satisfied: rsa<5,>=3.1.4 in /usr/local/lib/python3.7/dist-packages (from google-auth<3,>=1.6.3->tensorboard~=2.6->tensorflow>=2.2.0->qmc==0.0.1) (4.7.2)\n",
            "Requirement already satisfied: pyasn1-modules>=0.2.1 in /usr/local/lib/python3.7/dist-packages (from google-auth<3,>=1.6.3->tensorboard~=2.6->tensorflow>=2.2.0->qmc==0.0.1) (0.2.8)\n",
            "Requirement already satisfied: cachetools<5.0,>=2.0.0 in /usr/local/lib/python3.7/dist-packages (from google-auth<3,>=1.6.3->tensorboard~=2.6->tensorflow>=2.2.0->qmc==0.0.1) (4.2.4)\n",
            "Requirement already satisfied: requests-oauthlib>=0.7.0 in /usr/local/lib/python3.7/dist-packages (from google-auth-oauthlib<0.5,>=0.4.1->tensorboard~=2.6->tensorflow>=2.2.0->qmc==0.0.1) (1.3.0)\n",
            "Requirement already satisfied: importlib-metadata>=4.4 in /usr/local/lib/python3.7/dist-packages (from markdown>=2.6.8->tensorboard~=2.6->tensorflow>=2.2.0->qmc==0.0.1) (4.8.2)\n",
            "Requirement already satisfied: zipp>=0.5 in /usr/local/lib/python3.7/dist-packages (from importlib-metadata>=4.4->markdown>=2.6.8->tensorboard~=2.6->tensorflow>=2.2.0->qmc==0.0.1) (3.6.0)\n",
            "Requirement already satisfied: pyasn1<0.5.0,>=0.4.6 in /usr/local/lib/python3.7/dist-packages (from pyasn1-modules>=0.2.1->google-auth<3,>=1.6.3->tensorboard~=2.6->tensorflow>=2.2.0->qmc==0.0.1) (0.4.8)\n",
            "Requirement already satisfied: certifi>=2017.4.17 in /usr/local/lib/python3.7/dist-packages (from requests<3,>=2.21.0->tensorboard~=2.6->tensorflow>=2.2.0->qmc==0.0.1) (2021.10.8)\n",
            "Requirement already satisfied: urllib3!=1.25.0,!=1.25.1,<1.26,>=1.21.1 in /usr/local/lib/python3.7/dist-packages (from requests<3,>=2.21.0->tensorboard~=2.6->tensorflow>=2.2.0->qmc==0.0.1) (1.24.3)\n",
            "Requirement already satisfied: idna<3,>=2.5 in /usr/local/lib/python3.7/dist-packages (from requests<3,>=2.21.0->tensorboard~=2.6->tensorflow>=2.2.0->qmc==0.0.1) (2.10)\n",
            "Requirement already satisfied: chardet<4,>=3.0.2 in /usr/local/lib/python3.7/dist-packages (from requests<3,>=2.21.0->tensorboard~=2.6->tensorflow>=2.2.0->qmc==0.0.1) (3.0.4)\n",
            "Requirement already satisfied: oauthlib>=3.0.0 in /usr/local/lib/python3.7/dist-packages (from requests-oauthlib>=0.7.0->google-auth-oauthlib<0.5,>=0.4.1->tensorboard~=2.6->tensorflow>=2.2.0->qmc==0.0.1) (3.1.1)\n",
            "Requirement already satisfied: threadpoolctl>=2.0.0 in /usr/local/lib/python3.7/dist-packages (from scikit-learn->qmc==0.0.1) (3.0.0)\n",
            "Requirement already satisfied: joblib>=0.11 in /usr/local/lib/python3.7/dist-packages (from scikit-learn->qmc==0.0.1) (1.1.0)\n",
            "Building wheels for collected packages: qmc\n",
            "  Building wheel for qmc (setup.py) ... \u001b[?25l\u001b[?25hdone\n",
            "  Created wheel for qmc: filename=qmc-0.0.1-py3-none-any.whl size=12756 sha256=2be602c94cfe1a94d3e287c4fc1a6fc852e3e5b76ac7c5c4b160c1ce99427781\n",
            "  Stored in directory: /tmp/pip-ephem-wheel-cache-od7_b_fz/wheels/b2/d2/8d/5870208920445c46dfe694f549251e5f63d7afbee56c01f720\n",
            "Successfully built qmc\n",
            "Installing collected packages: qmc\n",
            "Successfully installed qmc-0.0.1\n",
            "Collecting tensorflow-addons\n",
            "  Downloading tensorflow_addons-0.15.0-cp37-cp37m-manylinux_2_12_x86_64.manylinux2010_x86_64.whl (1.1 MB)\n",
            "\u001b[K     |████████████████████████████████| 1.1 MB 8.2 MB/s \n",
            "\u001b[?25hRequirement already satisfied: typeguard>=2.7 in /usr/local/lib/python3.7/dist-packages (from tensorflow-addons) (2.7.1)\n",
            "Installing collected packages: tensorflow-addons\n",
            "Successfully installed tensorflow-addons-0.15.0\n"
          ]
        }
      ]
    },
    {
      "cell_type": "markdown",
      "metadata": {
        "id": "Dwx1YXdUaYwT"
      },
      "source": [
        "## Setup"
      ]
    },
    {
      "cell_type": "code",
      "metadata": {
        "id": "v0DXdtVWaYwU"
      },
      "source": [
        "import numpy as np\n",
        "import tensorflow as tf\n",
        "from tensorflow import keras\n",
        "import tensorflow_addons as tfa\n",
        "import qmc.tf.layers as layers\n",
        "import qmc.tf.models as models"
      ],
      "execution_count": 3,
      "outputs": []
    },
    {
      "cell_type": "markdown",
      "metadata": {
        "id": "J6B8j9dBaYwU"
      },
      "source": [
        "## Prepare the data\n",
        "\n",
        "Load the MNIST data set. Use one-hot encoding so that we can use label smoothing during training."
      ]
    },
    {
      "cell_type": "code",
      "metadata": {
        "colab": {
          "base_uri": "https://localhost:8080/"
        },
        "id": "Zt6i10fJaYwV",
        "outputId": "73aaa485-7211-4128-9a18-8fd2c0ed51a4"
      },
      "source": [
        "import sklearn\n",
        "\n",
        "num_classes = 10\n",
        "input_shape = (28, 28, 1)\n",
        "\n",
        "(x_train, y_train), (x_test, y_test) = keras.datasets.mnist.load_data()\n",
        "\n",
        "x_train = np.expand_dims(x_train, axis=-1)\n",
        "x_test = np.expand_dims(x_test, axis=-1)\n",
        "\n",
        "ohe = sklearn.preprocessing.OneHotEncoder(sparse=False)\n",
        "y_train = ohe.fit_transform(y_train.reshape((-1,1)))\n",
        "y_test = ohe.transform(y_test.reshape((-1,1)))\n",
        "print(f\"x_train shape: {x_train.shape} - y_train shape: {y_train.shape}\")\n",
        "print(f\"x_test shape: {x_test.shape} - y_test shape: {y_test.shape}\")\n"
      ],
      "execution_count": 4,
      "outputs": [
        {
          "output_type": "stream",
          "name": "stdout",
          "text": [
            "Downloading data from https://storage.googleapis.com/tensorflow/tf-keras-datasets/mnist.npz\n",
            "11493376/11490434 [==============================] - 0s 0us/step\n",
            "11501568/11490434 [==============================] - 0s 0us/step\n",
            "x_train shape: (60000, 28, 28, 1) - y_train shape: (60000, 10)\n",
            "x_test shape: (10000, 28, 28, 1) - y_test shape: (10000, 10)\n"
          ]
        }
      ]
    },
    {
      "cell_type": "markdown",
      "metadata": {
        "id": "X0JLTS8WaYwV"
      },
      "source": [
        "## Configure the hyperparameters"
      ]
    },
    {
      "cell_type": "code",
      "metadata": {
        "id": "B50WUbDRaYwV"
      },
      "source": [
        "# learning_rate = 0.001\n",
        "# weight_decay = 0.0001\n",
        "# batch_size = 256\n",
        "# num_epochs = 10\n",
        "image_size = 28  \n",
        "patch_size = 7  # Size of the patches to be extracted from the input images\n",
        "num_patches = (image_size // patch_size) ** 2\n",
        "# projection_dim = 64\n",
        "# input_dim = 64\n",
        "# num_rff = 512\n",
        "# gamma = 2**-5\n",
        "# n_comp = 80\n",
        "# random_state = 0\n",
        "\n",
        "# mlp_head_units = [256]  # Size of the dense layers of the final classifier\n"
      ],
      "execution_count": 105,
      "outputs": []
    },
    {
      "cell_type": "markdown",
      "metadata": {
        "id": "DD5GJabEaYwV"
      },
      "source": [
        "## Use data augmentation\n",
        "\n",
        "For the MNIST dataset we don't really do aumentation, but it could be helpful for other datasets."
      ]
    },
    {
      "cell_type": "code",
      "metadata": {
        "id": "ESXjO5kiaYwW"
      },
      "source": [
        "data_augmentation = keras.Sequential(\n",
        "    [\n",
        "        keras.layers.Normalization(),\n",
        "        #layers.Resizing(image_size, image_size),\n",
        "        #layers.RandomFlip(\"horizontal\"),\n",
        "        #keras.layers.RandomTranslation(height_factor=0.1, width_factor=0.1),\n",
        "        #keras.layers.RandomRotation(factor=0.02),\n",
        "        #layers.RandomZoom(\n",
        "        #    height_factor=0.2, width_factor=0.2\n",
        "        #),\n",
        "    ],\n",
        "    name=\"data_augmentation\",\n",
        ")\n",
        "# Compute the mean and the variance of the training data for normalization.\n",
        "data_augmentation.layers[0].adapt(x_train)\n"
      ],
      "execution_count": 106,
      "outputs": []
    },
    {
      "cell_type": "markdown",
      "metadata": {
        "id": "Me6HwOyFaYwW"
      },
      "source": [
        "## Implement multilayer perceptron (MLP)"
      ]
    },
    {
      "cell_type": "code",
      "metadata": {
        "id": "z6mukUVmaYwW"
      },
      "source": [
        "\n",
        "def mlp(x, hidden_units, dropout_rate):\n",
        "    for units in hidden_units:\n",
        "        x = keras.layers.Dense(units, activation=tf.nn.gelu)(x)\n",
        "        x = keras.layers.Dropout(dropout_rate)(x)\n",
        "    return x\n"
      ],
      "execution_count": 107,
      "outputs": []
    },
    {
      "cell_type": "markdown",
      "metadata": {
        "id": "SKNUm55DaYwW"
      },
      "source": [
        "## Implement patch creation as a layer"
      ]
    },
    {
      "cell_type": "code",
      "metadata": {
        "id": "KGUSdfNNaYwX"
      },
      "source": [
        "\n",
        "class Patches(keras.layers.Layer):\n",
        "    def __init__(self, patch_size):\n",
        "        super(Patches, self).__init__()\n",
        "        self.patch_size = patch_size\n",
        "\n",
        "    def call(self, images):\n",
        "        batch_size = tf.shape(images)[0]\n",
        "        patches = tf.image.extract_patches(\n",
        "            images=images,\n",
        "            sizes=[1, self.patch_size, self.patch_size, 1],\n",
        "            strides=[1, self.patch_size, self.patch_size, 1],\n",
        "            rates=[1, 1, 1, 1],\n",
        "            padding=\"VALID\",\n",
        "        )\n",
        "        patch_dims = patches.shape[-1]\n",
        "        patches = tf.reshape(patches, [batch_size, num_patches, patch_dims])\n",
        "        return patches\n"
      ],
      "execution_count": 108,
      "outputs": []
    },
    {
      "cell_type": "markdown",
      "metadata": {
        "id": "dqA3m5C6aYwX"
      },
      "source": [
        "Let's display patches for a sample image"
      ]
    },
    {
      "cell_type": "code",
      "metadata": {
        "colab": {
          "base_uri": "https://localhost:8080/",
          "height": 553
        },
        "id": "iytQ3v-EaYwX",
        "outputId": "b5bc44c2-9366-4a15-d916-e4b25534ebb3"
      },
      "source": [
        "import matplotlib.pyplot as plt\n",
        "\n",
        "plt.figure(figsize=(4, 4))\n",
        "image = x_train[np.random.choice(range(x_train.shape[0]))]\n",
        "plt.imshow(image.reshape([image_size, image_size]))\n",
        "plt.colorbar()\n",
        "plt.axis(\"off\")\n",
        "\n",
        "resized_image = tf.image.resize(\n",
        "    tf.convert_to_tensor([image]), size=(image_size, image_size)\n",
        ")\n",
        "patches = Patches(patch_size)(resized_image)\n",
        "print(f\"Image size: {image_size} X {image_size}\")\n",
        "print(f\"Patch size: {patch_size} X {patch_size}\")\n",
        "print(f\"Patches per image: {patches.shape[1]}\")\n",
        "print(f\"Elements per patch: {patches.shape[-1]}\")\n",
        "\n",
        "n = int(np.sqrt(patches.shape[1]))\n",
        "plt.figure(figsize=(4, 4))\n",
        "for i, patch in enumerate(patches[0]):\n",
        "    ax = plt.subplot(n, n, i + 1)\n",
        "    patch_img = tf.reshape(patch, (patch_size, patch_size, 1))\n",
        "    plt.imshow(patch_img.numpy().astype(\"uint8\").reshape([patch_size, patch_size]))\n",
        "    plt.axis(\"off\")"
      ],
      "execution_count": 136,
      "outputs": [
        {
          "output_type": "stream",
          "name": "stdout",
          "text": [
            "Image size: 28 X 28\n",
            "Patch size: 7 X 7\n",
            "Patches per image: 16\n",
            "Elements per patch: 49\n"
          ]
        },
        {
          "output_type": "display_data",
          "data": {
            "image/png": "[encoded data removed]",
            "text/plain": [
              "<Figure size 288x288 with 2 Axes>"
            ]
          },
          "metadata": {
            "needs_background": "light"
          }
        },
        {
          "output_type": "display_data",
          "data": {
            "image/png": "[encoded data removed]",
            "text/plain": [
              "<Figure size 288x288 with 16 Axes>"
            ]
          },
          "metadata": {
            "needs_background": "light"
          }
        }
      ]
    },
    {
      "cell_type": "markdown",
      "metadata": {
        "id": "Q3vrJRFsaYwX"
      },
      "source": [
        "## Implement the patch encoding layer\n",
        "\n",
        "The `PatchEncoder` layer will linearly transform a patch by projecting it into a\n",
        "vector of size `projection_dim`. In addition, it adds a learnable position\n",
        "embedding to the projected vector. `PatchEncoderFix` uses a fix positional embedding based on $\\sin$ and $\\cos$ with different frequencies. `PatchEncoderNone` doesn't have a positional encoder."
      ]
    },
    {
      "cell_type": "code",
      "metadata": {
        "id": "SlVB9myqaYwY"
      },
      "source": [
        "class PatchEncoder(keras.layers.Layer):\n",
        "    def __init__(self, num_patches, projection_dim):\n",
        "        super(PatchEncoder, self).__init__()\n",
        "        self.num_patches = num_patches\n",
        "        self.projection = keras.layers.Dense(units=projection_dim)\n",
        "        self.position_embedding = keras.layers.Embedding(\n",
        "            input_dim=num_patches, output_dim=projection_dim\n",
        "        )\n",
        "\n",
        "    def call(self, patch):\n",
        "        positions = tf.range(start=0, limit=self.num_patches, delta=1)\n",
        "        encoded = self.projection(patch) + self.position_embedding(positions)\n",
        "        return encoded\n",
        "\n",
        "class PatchEncoderFix(keras.layers.Layer):\n",
        "    def __init__(self, num_patches, projection_dim):\n",
        "        super(PatchEncoderFix, self).__init__()\n",
        "        self.num_patches = num_patches\n",
        "        self.projection = keras.layers.Dense(units=projection_dim)\n",
        "        positional_embeddings = np.zeros((num_patches, projection_dim))\n",
        "        for position in range(num_patches):\n",
        "            for i in range(0, projection_dim, 2):\n",
        "              positional_embeddings[position, i] = (\n",
        "                  np.sin(position / (10000 ** ((2*i) / projection_dim)))\n",
        "                                                    )\n",
        "              positional_embeddings[position, i + 1] = (\n",
        "                  np.cos(position / (10000 ** ((2 * (i + 1) ) / projection_dim)))\n",
        "                                                        )\n",
        "        self.position_embedding = tf.Variable(initial_value=positional_embeddings,\n",
        "                                      dtype=tf.float32, \n",
        "                                      trainable=False)\n",
        "\n",
        "\n",
        "    def call(self, patch):\n",
        "        encoded = self.projection(patch) + self.position_embedding\n",
        "        return encoded\n",
        "\n",
        "class PatchEncoderNone(keras.layers.Layer):\n",
        "    def __init__(self, num_patches, projection_dim):\n",
        "        super(PatchEncoderNone, self).__init__()\n",
        "        self.num_patches = num_patches\n",
        "        self.projection = keras.layers.Dense(units=projection_dim)\n",
        "\n",
        "    def call(self, patch):\n",
        "        encoded = self.projection(patch)\n",
        "        return encoded"
      ],
      "execution_count": 110,
      "outputs": []
    },
    {
      "cell_type": "markdown",
      "metadata": {
        "id": "1Ct37nEzaYwY"
      },
      "source": [
        "## Experiment script\n"
      ]
    },
    {
      "cell_type": "code",
      "metadata": {
        "id": "DrA5SfEhaYwY"
      },
      "source": [
        "\n",
        "def run_experiment(model, \n",
        "                   learning_rate=0.001, \n",
        "                   weight_decay=0.0001, \n",
        "                   label_smoothing=0,\n",
        "                   epochs=10, \n",
        "                   batch_size=256\n",
        "                   ):\n",
        "    optimizer = tfa.optimizers.AdamW(\n",
        "        learning_rate=learning_rate, weight_decay=weight_decay\n",
        "    )\n",
        "    model.compile(\n",
        "        optimizer=optimizer,\n",
        "        loss=keras.losses.CategoricalCrossentropy(label_smoothing=label_smoothing),\n",
        "        metrics=[\n",
        "            keras.metrics.CategoricalAccuracy(name=\"accuracy\"),\n",
        "        ],\n",
        "    )\n",
        "    checkpoint_filepath = \"/tmp/checkpoint\"\n",
        "    checkpoint_callback = keras.callbacks.ModelCheckpoint(\n",
        "        checkpoint_filepath,\n",
        "        monitor=\"val_accuracy\",\n",
        "        save_best_only=True,\n",
        "        save_weights_only=True,\n",
        "    )\n",
        "    history = model.fit(\n",
        "        x=x_train,\n",
        "        y=y_train,\n",
        "        batch_size=batch_size,\n",
        "        epochs=epochs,\n",
        "        validation_split=0.1,\n",
        "        callbacks=[checkpoint_callback],\n",
        "    )\n",
        "\n",
        "    model.load_weights(checkpoint_filepath)\n",
        "    _, accuracy = model.evaluate(x_test, y_test)\n",
        "    print(f\"Test accuracy: {round(accuracy * 100, 2)}%\")\n",
        "\n",
        "    return history\n",
        "\n"
      ],
      "execution_count": 114,
      "outputs": []
    },
    {
      "cell_type": "markdown",
      "metadata": {
        "id": "9rr1QpjnSfl0"
      },
      "source": [
        "# ViT + QMC \n",
        "\n",
        "This model applies transformer layers to the encoded patches before QMC. The number of transformer layers may be equal to zero."
      ]
    },
    {
      "cell_type": "code",
      "metadata": {
        "id": "UcnHIRvPMT0k"
      },
      "source": [
        "def create_encoder(projection_dim=64, \n",
        "            transformer_layers=1, \n",
        "            num_heads=4):\n",
        "    transformer_units = [\n",
        "    projection_dim * 2,\n",
        "    projection_dim,\n",
        "    ]\n",
        "    inputs = keras.layers.Input(shape=input_shape)\n",
        "    # Augment data.\n",
        "    augmented = data_augmentation(inputs)\n",
        "    # Create patches.\n",
        "    patches = Patches(patch_size)(augmented)\n",
        "    # Encode patches.\n",
        "    encoded_patches = PatchEncoder(num_patches, projection_dim)(patches)\n",
        "\n",
        "    # Create multiple layers of the Transformer block.\n",
        "    for _ in range(transformer_layers):\n",
        "        # Layer normalization 1.\n",
        "        x1 = keras.layers.LayerNormalization(epsilon=1e-6)(encoded_patches)\n",
        "        # Create a multi-head attention layer.\n",
        "        attention_output = keras.layers.MultiHeadAttention(\n",
        "            num_heads=num_heads, key_dim=projection_dim, dropout=0.1\n",
        "        )(x1, x1)\n",
        "        # Skip connection 1.\n",
        "        x2 = keras.layers.Add()([attention_output, encoded_patches])\n",
        "        # Layer normalization 2.\n",
        "        x3 = keras.layers.LayerNormalization(epsilon=1e-6)(x2)\n",
        "        # MLP.\n",
        "        x3 = mlp(x3, hidden_units=transformer_units, dropout_rate=0.1)\n",
        "        # Skip connection 2.\n",
        "        encoded_patches = keras.layers.Add()([x3, x2])\n",
        "\n",
        "    # Create a [batch_size, projection_dim] tensor.\n",
        "    representation = keras.layers.LayerNormalization(epsilon=1e-6)(encoded_patches)\n",
        "    model = keras.Model(inputs=inputs, outputs=representation)\n",
        "    return model\n",
        "\n",
        "def create_ViT_QMC_model(projection_dim=64, \n",
        "                         transformer_layers=1, \n",
        "                         num_heads=4, \n",
        "                         gamma=2**-5,\n",
        "                         n_comp=40,  \n",
        "                         num_rff=512):\n",
        "    inputs = keras.layers.Input(shape=input_shape)\n",
        "    encoder = create_encoder(projection_dim=projection_dim, \n",
        "                             transformer_layers=transformer_layers, \n",
        "                             num_heads=num_heads)\n",
        "    encoded_patches = encoder(inputs)\n",
        "    fm_x1 = layers.QFeatureMapRFF(projection_dim, dim=num_rff , gamma=gamma)\n",
        "    psi_x = tf.transpose(fm_x1(encoded_patches), perm=[0, 2, 1])\n",
        "    ones = tf.ones_like(psi_x[:, 0:1, :], dtype=tf.float32) / num_patches\n",
        "    rho_x = tf.keras.layers.concatenate((ones, psi_x), axis=1)\n",
        "    qmdmc = layers.QMClassifSDecompFDMatrix(dim_x=num_rff, dim_y=10, n_comp=n_comp)\n",
        "    rho_y = qmdmc(rho_x)\n",
        "    y_w = rho_y[:, 0, :] # shape (b, d_in)\n",
        "    y_v = rho_y[:, 1:, :] # shape (b, dim_x, d_in)\n",
        "    probs = tf.einsum('...j,...ij,...ij->...i', y_w, y_v, tf.math.conj(y_v))\n",
        "    # Create the Keras model.\n",
        "    model = keras.Model(inputs=inputs, outputs=probs)\n",
        "    return model"
      ],
      "execution_count": 211,
      "outputs": []
    },
    {
      "cell_type": "markdown",
      "metadata": {
        "id": "wAVQYjrwxwDC"
      },
      "source": [
        "# QMC model without transformer layers"
      ]
    },
    {
      "cell_type": "code",
      "metadata": {
        "colab": {
          "base_uri": "https://localhost:8080/"
        },
        "id": "K23bGhJhVHU4",
        "outputId": "76c547cf-7c54-447f-d080-32dea2dc8ac6"
      },
      "source": [
        "sigma = 7.\n",
        "gamma = 1 / (2 * sigma ** 2)\n",
        "QMC_model = create_ViT_QMC_model(transformer_layers=0, gamma=gamma, n_comp=40, num_rff=512)\n",
        "QMC_model.summary()"
      ],
      "execution_count": 230,
      "outputs": [
        {
          "output_type": "stream",
          "name": "stdout",
          "text": [
            "Model: \"model_76\"\n",
            "__________________________________________________________________________________________________\n",
            " Layer (type)                   Output Shape         Param #     Connected to                     \n",
            "==================================================================================================\n",
            " input_78 (InputLayer)          [(None, 28, 28, 1)]  0           []                               \n",
            "                                                                                                  \n",
            " model_75 (Functional)          (None, 16, 64)       4355        ['input_78[0][0]']               \n",
            "                                                                                                  \n",
            " q_feature_map_rff_46 (QFeature  (None, 16, 512)     33280       ['model_75[0][0]']               \n",
            " MapRFF)                                                                                          \n",
            "                                                                                                  \n",
            " tf.compat.v1.transpose_46 (TFO  (None, 512, 16)     0           ['q_feature_map_rff_46[0][0]']   \n",
            " pLambda)                                                                                         \n",
            "                                                                                                  \n",
            " tf.__operators__.getitem_134 (  (None, 1, 16)       0           ['tf.compat.v1.transpose_46[0][0]\n",
            " SlicingOpLambda)                                                ']                               \n",
            "                                                                                                  \n",
            " tf.ones_like_46 (TFOpLambda)   (None, 1, 16)        0           ['tf.__operators__.getitem_134[0]\n",
            "                                                                 [0]']                            \n",
            "                                                                                                  \n",
            " tf.math.truediv_46 (TFOpLambda  (None, 1, 16)       0           ['tf.ones_like_46[0][0]']        \n",
            " )                                                                                                \n",
            "                                                                                                  \n",
            " concatenate_85 (Concatenate)   (None, 513, 16)      0           ['tf.math.truediv_46[0][0]',     \n",
            "                                                                  'tf.compat.v1.transpose_46[0][0]\n",
            "                                                                 ']                               \n",
            "                                                                                                  \n",
            " qm_classif_s_decomp_fd_matrix_  (None, 11, 40)      20920       ['concatenate_85[0][0]']         \n",
            " 84 (QMClassifSDecompFDMatrix)                                                                    \n",
            "                                                                                                  \n",
            " tf.__operators__.getitem_136 (  (None, 10, 40)      0           ['qm_classif_s_decomp_fd_matrix_8\n",
            " SlicingOpLambda)                                                4[0][0]']                        \n",
            "                                                                                                  \n",
            " tf.__operators__.getitem_135 (  (None, 40)          0           ['qm_classif_s_decomp_fd_matrix_8\n",
            " SlicingOpLambda)                                                4[0][0]']                        \n",
            "                                                                                                  \n",
            " tf.math.conj_44 (TFOpLambda)   (None, 10, 40)       0           ['tf.__operators__.getitem_136[0]\n",
            "                                                                 [0]']                            \n",
            "                                                                                                  \n",
            " tf.einsum_44 (TFOpLambda)      (None, 10)           0           ['tf.__operators__.getitem_135[0]\n",
            "                                                                 [0]',                            \n",
            "                                                                  'tf.__operators__.getitem_136[0]\n",
            "                                                                 [0]',                            \n",
            "                                                                  'tf.math.conj_44[0][0]']        \n",
            "                                                                                                  \n",
            "==================================================================================================\n",
            "Total params: 58,555\n",
            "Trainable params: 58,552\n",
            "Non-trainable params: 3\n",
            "__________________________________________________________________________________________________\n"
          ]
        }
      ]
    },
    {
      "cell_type": "code",
      "metadata": {
        "colab": {
          "base_uri": "https://localhost:8080/"
        },
        "id": "KWL0Rcef3DsO",
        "outputId": "8f28a290-c5f3-4e07-f7d7-4f0145df6d18"
      },
      "source": [
        "history = run_experiment(QMC_model, learning_rate=0.01, epochs=15)"
      ],
      "execution_count": 231,
      "outputs": [
        {
          "output_type": "stream",
          "name": "stdout",
          "text": [
            "Epoch 1/15\n",
            "211/211 [==============================] - 4s 11ms/step - loss: 1.4152 - accuracy: 0.7402 - val_loss: 1.1288 - val_accuracy: 0.8907\n",
            "Epoch 2/15\n",
            "211/211 [==============================] - 2s 10ms/step - loss: 1.1424 - accuracy: 0.8676 - val_loss: 1.0880 - val_accuracy: 0.8963\n",
            "Epoch 3/15\n",
            "211/211 [==============================] - 2s 9ms/step - loss: 1.1151 - accuracy: 0.8749 - val_loss: 1.0716 - val_accuracy: 0.8988\n",
            "Epoch 4/15\n",
            "211/211 [==============================] - 2s 9ms/step - loss: 1.1016 - accuracy: 0.8800 - val_loss: 1.0685 - val_accuracy: 0.8915\n",
            "Epoch 5/15\n",
            "211/211 [==============================] - 2s 9ms/step - loss: 1.0933 - accuracy: 0.8803 - val_loss: 1.0542 - val_accuracy: 0.9040\n",
            "Epoch 6/15\n",
            "211/211 [==============================] - 2s 9ms/step - loss: 1.0868 - accuracy: 0.8834 - val_loss: 1.0579 - val_accuracy: 0.9007\n",
            "Epoch 7/15\n",
            "211/211 [==============================] - 2s 10ms/step - loss: 1.0817 - accuracy: 0.8844 - val_loss: 1.0469 - val_accuracy: 0.9047\n",
            "Epoch 8/15\n",
            "211/211 [==============================] - 2s 10ms/step - loss: 1.0776 - accuracy: 0.8862 - val_loss: 1.0467 - val_accuracy: 0.9060\n",
            "Epoch 9/15\n",
            "211/211 [==============================] - 2s 9ms/step - loss: 1.0745 - accuracy: 0.8863 - val_loss: 1.0453 - val_accuracy: 0.9075\n",
            "Epoch 10/15\n",
            "211/211 [==============================] - 2s 10ms/step - loss: 1.0723 - accuracy: 0.8870 - val_loss: 1.0469 - val_accuracy: 0.9048\n",
            "Epoch 11/15\n",
            "211/211 [==============================] - 2s 9ms/step - loss: 1.0704 - accuracy: 0.8858 - val_loss: 1.0429 - val_accuracy: 0.9020\n",
            "Epoch 12/15\n",
            "211/211 [==============================] - 2s 9ms/step - loss: 1.0686 - accuracy: 0.8874 - val_loss: 1.0423 - val_accuracy: 0.9063\n",
            "Epoch 13/15\n",
            "211/211 [==============================] - 2s 9ms/step - loss: 1.0679 - accuracy: 0.8884 - val_loss: 1.0435 - val_accuracy: 0.9017\n",
            "Epoch 14/15\n",
            "211/211 [==============================] - 2s 10ms/step - loss: 1.0657 - accuracy: 0.8887 - val_loss: 1.0390 - val_accuracy: 0.9032\n",
            "Epoch 15/15\n",
            "211/211 [==============================] - 2s 10ms/step - loss: 1.0645 - accuracy: 0.8886 - val_loss: 1.0398 - val_accuracy: 0.9052\n",
            "313/313 [==============================] - 1s 3ms/step - loss: 1.0694 - accuracy: 0.8942\n",
            "Test accuracy: 89.42%\n"
          ]
        }
      ]
    },
    {
      "cell_type": "markdown",
      "metadata": {
        "id": "8vFu7u1Cys92"
      },
      "source": [
        "We can check the weights of the QMC layer to see how many components have weights greater than zero."
      ]
    },
    {
      "cell_type": "code",
      "metadata": {
        "colab": {
          "base_uri": "https://localhost:8080/",
          "height": 299
        },
        "id": "56JGUCk-GlSX",
        "outputId": "dbb3e4aa-c6c3-4b56-b1cf-82f1e6ac198b"
      },
      "source": [
        "print(QMC_model.layers[8])\n",
        "lamb = np.abs(QMC_model.layers[8].weights[2].numpy())\n",
        "lamb = lamb / lamb.sum()\n",
        "plt.plot(lamb)\n",
        "num_comps = (lamb >= 0.01).sum()\n",
        "print(f'Non-zero components:{num_comps}')"
      ],
      "execution_count": 235,
      "outputs": [
        {
          "output_type": "stream",
          "name": "stdout",
          "text": [
            "<qmc.tf.layers.QMClassifSDecompFDMatrix object at 0x7f167dc57790>\n",
            "Non-zero components:11\n"
          ]
        },
        {
          "output_type": "display_data",
          "data": {
            "image/png": "[encoded data removed]",
            "text/plain": [
              "<Figure size 432x288 with 1 Axes>"
            ]
          },
          "metadata": {
            "needs_background": "light"
          }
        }
      ]
    },
    {
      "cell_type": "markdown",
      "metadata": {
        "id": "3aAofyI2zR6b"
      },
      "source": [
        "Now we train the model using label smoothing."
      ]
    },
    {
      "cell_type": "code",
      "metadata": {
        "colab": {
          "base_uri": "https://localhost:8080/"
        },
        "id": "uyXjob4VHZiP",
        "outputId": "b0600d4d-cede-4cdf-a809-b8c644ee5227"
      },
      "source": [
        "QMC_model = create_ViT_QMC_model(transformer_layers=0, gamma=gamma, n_comp=40, num_rff=512)\n",
        "history = run_experiment(QMC_model, learning_rate=0.01, epochs=15, label_smoothing=0.4)"
      ],
      "execution_count": 236,
      "outputs": [
        {
          "output_type": "stream",
          "name": "stdout",
          "text": [
            "Epoch 1/15\n",
            "211/211 [==============================] - 4s 11ms/step - loss: 1.8596 - accuracy: 0.7712 - val_loss: 1.7168 - val_accuracy: 0.9192\n",
            "Epoch 2/15\n",
            "211/211 [==============================] - 2s 10ms/step - loss: 1.7257 - accuracy: 0.9028 - val_loss: 1.7031 - val_accuracy: 0.9233\n",
            "Epoch 3/15\n",
            "211/211 [==============================] - 2s 10ms/step - loss: 1.7139 - accuracy: 0.9116 - val_loss: 1.6942 - val_accuracy: 0.9320\n",
            "Epoch 4/15\n",
            "211/211 [==============================] - 2s 9ms/step - loss: 1.7077 - accuracy: 0.9151 - val_loss: 1.6911 - val_accuracy: 0.9287\n",
            "Epoch 5/15\n",
            "211/211 [==============================] - 2s 9ms/step - loss: 1.7031 - accuracy: 0.9171 - val_loss: 1.6885 - val_accuracy: 0.9317\n",
            "Epoch 6/15\n",
            "211/211 [==============================] - 2s 9ms/step - loss: 1.7005 - accuracy: 0.9184 - val_loss: 1.6854 - val_accuracy: 0.9300\n",
            "Epoch 7/15\n",
            "211/211 [==============================] - 2s 9ms/step - loss: 1.6982 - accuracy: 0.9206 - val_loss: 1.6891 - val_accuracy: 0.9293\n",
            "Epoch 8/15\n",
            "211/211 [==============================] - 2s 10ms/step - loss: 1.6970 - accuracy: 0.9213 - val_loss: 1.6842 - val_accuracy: 0.9337\n",
            "Epoch 9/15\n",
            "211/211 [==============================] - 2s 9ms/step - loss: 1.6952 - accuracy: 0.9219 - val_loss: 1.6812 - val_accuracy: 0.9343\n",
            "Epoch 10/15\n",
            "211/211 [==============================] - 2s 10ms/step - loss: 1.6936 - accuracy: 0.9231 - val_loss: 1.6805 - val_accuracy: 0.9322\n",
            "Epoch 11/15\n",
            "211/211 [==============================] - 2s 9ms/step - loss: 1.6928 - accuracy: 0.9243 - val_loss: 1.6820 - val_accuracy: 0.9358\n",
            "Epoch 12/15\n",
            "211/211 [==============================] - 2s 9ms/step - loss: 1.6921 - accuracy: 0.9251 - val_loss: 1.6817 - val_accuracy: 0.9353\n",
            "Epoch 13/15\n",
            "211/211 [==============================] - 2s 10ms/step - loss: 1.6914 - accuracy: 0.9252 - val_loss: 1.6826 - val_accuracy: 0.9370\n",
            "Epoch 14/15\n",
            "211/211 [==============================] - 2s 10ms/step - loss: 1.6905 - accuracy: 0.9253 - val_loss: 1.6777 - val_accuracy: 0.9370\n",
            "Epoch 15/15\n",
            "211/211 [==============================] - 2s 9ms/step - loss: 1.6897 - accuracy: 0.9265 - val_loss: 1.6781 - val_accuracy: 0.9377\n",
            "313/313 [==============================] - 1s 3ms/step - loss: 1.6900 - accuracy: 0.9237\n",
            "Test accuracy: 92.37%\n"
          ]
        }
      ]
    },
    {
      "cell_type": "code",
      "metadata": {
        "colab": {
          "base_uri": "https://localhost:8080/",
          "height": 299
        },
        "id": "pNQuyzW8HvNg",
        "outputId": "c390a1c0-bb8a-4447-b9c2-1ad50dd0ce42"
      },
      "source": [
        "print(QMC_model.layers[8])\n",
        "lamb = np.abs(QMC_model.layers[8].weights[2].numpy())\n",
        "lamb = lamb / lamb.sum()\n",
        "plt.plot(lamb)\n",
        "num_comps = (lamb >= 0.01).sum()\n",
        "print(f'Non-zero components:{num_comps}')"
      ],
      "execution_count": 239,
      "outputs": [
        {
          "output_type": "stream",
          "name": "stdout",
          "text": [
            "<qmc.tf.layers.QMClassifSDecompFDMatrix object at 0x7f166b2d01d0>\n",
            "Non-zero components:10\n"
          ]
        },
        {
          "output_type": "display_data",
          "data": {
            "image/png": "[encoded data removed]",
            "text/plain": [
              "<Figure size 432x288 with 1 Axes>"
            ]
          },
          "metadata": {
            "needs_background": "light"
          }
        }
      ]
    },
    {
      "cell_type": "code",
      "metadata": {
        "colab": {
          "base_uri": "https://localhost:8080/",
          "height": 265
        },
        "id": "5qi_SytOIfAO",
        "outputId": "450b9252-e2b2-4f78-cd90-4a7b0ab5b3bf"
      },
      "source": [
        "for i in range(len(lamb)):\n",
        "  if lamb[i] >= 0.01:\n",
        "    vals = QMC_model.layers[8].weights[1][:,i] \n",
        "    plt.plot(QMC_model.layers[8].weights[1][:,i]**2)"
      ],
      "execution_count": 240,
      "outputs": [
        {
          "output_type": "display_data",
          "data": {
            "image/png": "[encoded data removed]",
            "text/plain": [
              "<Figure size 432x288 with 1 Axes>"
            ]
          },
          "metadata": {
            "needs_background": "light"
          }
        }
      ]
    },
    {
      "cell_type": "markdown",
      "metadata": {
        "id": "_Nea20Vvz53k"
      },
      "source": [
        "# Visualization of patch probabilities\n",
        "\n",
        "Since the model assigns a probability to each patch, we can visualize it for different labels to understand how the model classifies. Each possible label is propagated back to get a patch density matrix associated to the corresponding label. The patches of an image are propagated forward an the probability of each patch is calculated for each label density matrix."
      ]
    },
    {
      "cell_type": "code",
      "metadata": {
        "id": "k4UL9wG6ogKz"
      },
      "source": [
        "def attention_model(ViT_QMC_model, img_in, y_in):\n",
        "  # ViT_QMC_model layers\n",
        "  encoder = ViT_QMC_model.layers[1]\n",
        "  qmcdm_layer = ViT_QMC_model.layers[8]\n",
        "  rff_layer = ViT_QMC_model.layers[2]\n",
        "  projection_dim = rff_layer.input_dim\n",
        "  num_rff = rff_layer.dim\n",
        "  n_comp = qmcdm_layer.n_comp\n",
        "\n",
        "  # encode input image\n",
        "  encoded_patches = encoder(img_in)\n",
        "  psi_x = tf.transpose(rff_layer(encoded_patches), perm=[0, 2, 1])\n",
        "\n",
        "  # Propagate back label\n",
        "  inv_qmcdm = QMClassifSDecompFDMatrix(dim_x=y_in.shape[1], dim_y=num_rff, n_comp=n_comp)\n",
        "  ones = tf.ones_like(y_in[:, 0:1])\n",
        "  rho_y = tf.keras.layers.concatenate((ones, y_in), axis=1)\n",
        "  rho_y = tf.expand_dims(rho_y, axis=-1)\n",
        "  inv_qmcdm(rho_y)\n",
        "  qmcdm_weights = qmcdm_layer.weights\n",
        "  inv_qmcdm.set_weights([qmcdm_weights[1], qmcdm_weights[0], qmcdm_weights[2]])\n",
        "  rho_x = inv_qmcdm(rho_y)\n",
        "  x_w = rho_x[:, 0, :] # shape (b, n_comp)\n",
        "  x_v = rho_x[:, 1:, :] # shape (b, num_rff, n_comp)\n",
        "\n",
        "  # Calculate patch probabilities\n",
        "  projs = tf.einsum('...j,...ij,...ik->...jk', tf.sqrt(x_w), x_v, psi_x, \n",
        "                    optimize='optimal')\n",
        "  probs = tf.einsum('...jk,...jk->...k', tf.math.conj(projs), projs)\n",
        "  return probs\n"
      ],
      "execution_count": 241,
      "outputs": []
    },
    {
      "cell_type": "code",
      "metadata": {
        "id": "aS2i17JsinCK"
      },
      "source": [
        "def image_show(img_idx):\n",
        "  plt.figure(figsize=(4, 4))\n",
        "  image = x_test[img_idx]\n",
        "  plt.imshow(image.reshape([image_size, image_size]))\n",
        "  plt.colorbar()\n",
        "  plt.axis(\"off\")\n",
        "\n",
        "image_basis = np.zeros([num_patches, image_size, image_size])\n",
        "patch_idx = 0\n",
        "for i in range(int(np.sqrt(num_patches))):\n",
        "  for j in range(int(np.sqrt(num_patches))):\n",
        "    image_basis[patch_idx,\n",
        "                i * patch_size:(i + 1) * patch_size, \n",
        "                j * patch_size:(j + 1) * patch_size] = 1.\n",
        "    patch_idx += 1\n",
        "\n",
        "def attention_show(attention):\n",
        "  plt.figure(figsize=(12, 12))\n",
        "  vmin = np.min(attention)\n",
        "  vmax = np.max(attention)\n",
        "  for i in range(attention.shape[0]):\n",
        "    att_image = np.einsum('i,ijk->jk', attention[i], image_basis)\n",
        "    ax = plt.subplot(4, 3, i + 1)\n",
        "    plt.imshow(att_image, vmin=vmin, vmax=vmax)\n",
        "    plt.axis(\"off\")\n",
        "    plt.title(f'y = {i}')"
      ],
      "execution_count": 242,
      "outputs": []
    },
    {
      "cell_type": "code",
      "metadata": {
        "colab": {
          "base_uri": "https://localhost:8080/",
          "height": 970
        },
        "id": "glJvtNqUdfi3",
        "outputId": "75188ac0-bf2f-4b54-c591-f6d198185865"
      },
      "source": [
        "img_idx = 6\n",
        "image_show(img_idx)\n",
        "img_in = np.tile(x_test[img_idx], [10,1,1,1])\n",
        "y_in = np.eye(10)\n",
        "attention = attention_model(QMC_model, img_in, y_in)\n",
        "attention_show(attention)\n",
        "print(f'prediction:{QMC_model(x_test[img_idx:img_idx+1])}')"
      ],
      "execution_count": 244,
      "outputs": [
        {
          "output_type": "stream",
          "name": "stdout",
          "text": [
            "prediction:[[0.03131264 0.10620154 0.03549382 0.05535785 0.30869964 0.06498612\n",
            "  0.04634749 0.11415983 0.09874503 0.13869607]]\n"
          ]
        },
        {
          "output_type": "display_data",
          "data": {
            "image/png": "[encoded data removed]",
            "text/plain": [
              "<Figure size 288x288 with 2 Axes>"
            ]
          },
          "metadata": {
            "needs_background": "light"
          }
        },
        {
          "output_type": "display_data",
          "data": {
            "image/png": "[encoded data removed]",
            "text/plain": [
              "<Figure size 864x864 with 10 Axes>"
            ]
          },
          "metadata": {
            "needs_background": "light"
          }
        }
      ]
    },
    {
      "cell_type": "code",
      "metadata": {
        "colab": {
          "base_uri": "https://localhost:8080/",
          "height": 970
        },
        "id": "g4HmuiVGgz5O",
        "outputId": "8b137b0d-85fc-41ed-e7e4-1ce053432ef6"
      },
      "source": [
        "img_idx = 7\n",
        "image_show(img_idx)\n",
        "img_in = np.tile(x_test[img_idx], [10,1,1,1])\n",
        "y_in = np.eye(10)\n",
        "attention = attention_model(QMC_model, img_in, y_in)\n",
        "attention_show(attention)\n",
        "print(f'prediction:{QMC_model(x_test[img_idx:img_idx+1])}')"
      ],
      "execution_count": 246,
      "outputs": [
        {
          "output_type": "stream",
          "name": "stdout",
          "text": [
            "prediction:[[0.06742192 0.06198527 0.15887438 0.04968583 0.10351417 0.05682071\n",
            "  0.04729769 0.10641143 0.0945364  0.25345224]]\n"
          ]
        },
        {
          "output_type": "display_data",
          "data": {
            "image/png": "[encoded data removed]",
            "text/plain": [
              "<Figure size 288x288 with 2 Axes>"
            ]
          },
          "metadata": {
            "needs_background": "light"
          }
        },
        {
          "output_type": "display_data",
          "data": {
            "image/png": "[encoded data removed]",
            "text/plain": [
              "<Figure size 864x864 with 10 Axes>"
            ]
          },
          "metadata": {
            "needs_background": "light"
          }
        }
      ]
    },
    {
      "cell_type": "markdown",
      "metadata": {
        "id": "q4r5C2Kc1ije"
      },
      "source": [
        "# ViT + QMC model"
      ]
    },
    {
      "cell_type": "code",
      "metadata": {
        "id": "mr2pnbfHoOju"
      },
      "source": [
        ""
      ],
      "execution_count": null,
      "outputs": []
    },
    {
      "cell_type": "code",
      "metadata": {
        "colab": {
          "base_uri": "https://localhost:8080/"
        },
        "id": "vuBnflSn2DDv",
        "outputId": "1f5055eb-058c-4dca-a089-3744ce722a69"
      },
      "source": [
        "sigma = 7.\n",
        "gamma = 1 / (2 * sigma ** 2)\n",
        "QMC_model = create_ViT_QMC_model(transformer_layers=1, gamma=gamma, n_comp=40, num_rff=512)\n",
        "QMC_model.summary()"
      ],
      "execution_count": 247,
      "outputs": [
        {
          "output_type": "stream",
          "name": "stdout",
          "text": [
            "Model: \"model_80\"\n",
            "__________________________________________________________________________________________________\n",
            " Layer (type)                   Output Shape         Param #     Connected to                     \n",
            "==================================================================================================\n",
            " input_82 (InputLayer)          [(None, 28, 28, 1)]  0           []                               \n",
            "                                                                                                  \n",
            " model_79 (Functional)          (None, 16, 64)       87555       ['input_82[0][0]']               \n",
            "                                                                                                  \n",
            " q_feature_map_rff_48 (QFeature  (None, 16, 512)     33280       ['model_79[0][0]']               \n",
            " MapRFF)                                                                                          \n",
            "                                                                                                  \n",
            " tf.compat.v1.transpose_48 (TFO  (None, 512, 16)     0           ['q_feature_map_rff_48[0][0]']   \n",
            " pLambda)                                                                                         \n",
            "                                                                                                  \n",
            " tf.__operators__.getitem_140 (  (None, 1, 16)       0           ['tf.compat.v1.transpose_48[0][0]\n",
            " SlicingOpLambda)                                                ']                               \n",
            "                                                                                                  \n",
            " tf.ones_like_48 (TFOpLambda)   (None, 1, 16)        0           ['tf.__operators__.getitem_140[0]\n",
            "                                                                 [0]']                            \n",
            "                                                                                                  \n",
            " tf.math.truediv_48 (TFOpLambda  (None, 1, 16)       0           ['tf.ones_like_48[0][0]']        \n",
            " )                                                                                                \n",
            "                                                                                                  \n",
            " concatenate_91 (Concatenate)   (None, 513, 16)      0           ['tf.math.truediv_48[0][0]',     \n",
            "                                                                  'tf.compat.v1.transpose_48[0][0]\n",
            "                                                                 ']                               \n",
            "                                                                                                  \n",
            " qm_classif_s_decomp_fd_matrix_  (None, 11, 40)      20920       ['concatenate_91[0][0]']         \n",
            " 90 (QMClassifSDecompFDMatrix)                                                                    \n",
            "                                                                                                  \n",
            " tf.__operators__.getitem_142 (  (None, 10, 40)      0           ['qm_classif_s_decomp_fd_matrix_9\n",
            " SlicingOpLambda)                                                0[0][0]']                        \n",
            "                                                                                                  \n",
            " tf.__operators__.getitem_141 (  (None, 40)          0           ['qm_classif_s_decomp_fd_matrix_9\n",
            " SlicingOpLambda)                                                0[0][0]']                        \n",
            "                                                                                                  \n",
            " tf.math.conj_46 (TFOpLambda)   (None, 10, 40)       0           ['tf.__operators__.getitem_142[0]\n",
            "                                                                 [0]']                            \n",
            "                                                                                                  \n",
            " tf.einsum_46 (TFOpLambda)      (None, 10)           0           ['tf.__operators__.getitem_141[0]\n",
            "                                                                 [0]',                            \n",
            "                                                                  'tf.__operators__.getitem_142[0]\n",
            "                                                                 [0]',                            \n",
            "                                                                  'tf.math.conj_46[0][0]']        \n",
            "                                                                                                  \n",
            "==================================================================================================\n",
            "Total params: 141,755\n",
            "Trainable params: 141,752\n",
            "Non-trainable params: 3\n",
            "__________________________________________________________________________________________________\n"
          ]
        }
      ]
    },
    {
      "cell_type": "code",
      "metadata": {
        "colab": {
          "base_uri": "https://localhost:8080/"
        },
        "id": "ib1p_RH-2DD2",
        "outputId": "dc274570-83c1-453a-feb6-3ff2fb9a423a"
      },
      "source": [
        "history = run_experiment(QMC_model, learning_rate=0.01, epochs=15)"
      ],
      "execution_count": 248,
      "outputs": [
        {
          "output_type": "stream",
          "name": "stdout",
          "text": [
            "Epoch 1/15\n",
            "211/211 [==============================] - 6s 17ms/step - loss: 0.9736 - accuracy: 0.6490 - val_loss: 0.4084 - val_accuracy: 0.8338\n",
            "Epoch 2/15\n",
            "211/211 [==============================] - 3s 15ms/step - loss: 0.4249 - accuracy: 0.8340 - val_loss: 0.2973 - val_accuracy: 0.9123\n",
            "Epoch 3/15\n",
            "211/211 [==============================] - 3s 15ms/step - loss: 0.2767 - accuracy: 0.9250 - val_loss: 0.1918 - val_accuracy: 0.9428\n",
            "Epoch 4/15\n",
            "211/211 [==============================] - 3s 15ms/step - loss: 0.2206 - accuracy: 0.9424 - val_loss: 0.1688 - val_accuracy: 0.9522\n",
            "Epoch 5/15\n",
            "211/211 [==============================] - 3s 15ms/step - loss: 0.1870 - accuracy: 0.9516 - val_loss: 0.1601 - val_accuracy: 0.9557\n",
            "Epoch 6/15\n",
            "211/211 [==============================] - 3s 15ms/step - loss: 0.1678 - accuracy: 0.9574 - val_loss: 0.1293 - val_accuracy: 0.9665\n",
            "Epoch 7/15\n",
            "211/211 [==============================] - 3s 15ms/step - loss: 0.1526 - accuracy: 0.9609 - val_loss: 0.1222 - val_accuracy: 0.9660\n",
            "Epoch 8/15\n",
            "211/211 [==============================] - 3s 15ms/step - loss: 0.1445 - accuracy: 0.9627 - val_loss: 0.1383 - val_accuracy: 0.9637\n",
            "Epoch 9/15\n",
            "211/211 [==============================] - 3s 15ms/step - loss: 0.1391 - accuracy: 0.9642 - val_loss: 0.1218 - val_accuracy: 0.9652\n",
            "Epoch 10/15\n",
            "211/211 [==============================] - 3s 15ms/step - loss: 0.1279 - accuracy: 0.9672 - val_loss: 0.1187 - val_accuracy: 0.9683\n",
            "Epoch 11/15\n",
            "211/211 [==============================] - 3s 15ms/step - loss: 0.1249 - accuracy: 0.9677 - val_loss: 0.1117 - val_accuracy: 0.9688\n",
            "Epoch 12/15\n",
            "211/211 [==============================] - 3s 16ms/step - loss: 0.1216 - accuracy: 0.9693 - val_loss: 0.1073 - val_accuracy: 0.9707\n",
            "Epoch 13/15\n",
            "211/211 [==============================] - 3s 15ms/step - loss: 0.1145 - accuracy: 0.9710 - val_loss: 0.1267 - val_accuracy: 0.9648\n",
            "Epoch 14/15\n",
            "211/211 [==============================] - 3s 15ms/step - loss: 0.1110 - accuracy: 0.9724 - val_loss: 0.1068 - val_accuracy: 0.9720\n",
            "Epoch 15/15\n",
            "211/211 [==============================] - 3s 15ms/step - loss: 0.1089 - accuracy: 0.9726 - val_loss: 0.1134 - val_accuracy: 0.9702\n",
            "313/313 [==============================] - 1s 4ms/step - loss: 0.1151 - accuracy: 0.9665\n",
            "Test accuracy: 96.65%\n"
          ]
        }
      ]
    },
    {
      "cell_type": "markdown",
      "metadata": {
        "id": "GjWlvVjJ2DD2"
      },
      "source": [
        "We can check the weights of the QMC layer to see how many components have weights greater than zero."
      ]
    },
    {
      "cell_type": "code",
      "metadata": {
        "colab": {
          "base_uri": "https://localhost:8080/",
          "height": 299
        },
        "id": "WjqAaL3n2DD3",
        "outputId": "d2c1ed29-d82b-431e-f9cb-4eb8ed086563"
      },
      "source": [
        "print(QMC_model.layers[8])\n",
        "lamb = np.abs(QMC_model.layers[8].weights[2].numpy())\n",
        "lamb = lamb / lamb.sum()\n",
        "plt.plot(lamb)\n",
        "num_comps = (lamb >= 0.01).sum()\n",
        "print(f'Non-zero components:{num_comps}')"
      ],
      "execution_count": 249,
      "outputs": [
        {
          "output_type": "stream",
          "name": "stdout",
          "text": [
            "<qmc.tf.layers.QMClassifSDecompFDMatrix object at 0x7f16524f8610>\n",
            "Non-zero components:11\n"
          ]
        },
        {
          "output_type": "display_data",
          "data": {
            "image/png": "[encoded data removed]",
            "text/plain": [
              "<Figure size 432x288 with 1 Axes>"
            ]
          },
          "metadata": {
            "needs_background": "light"
          }
        }
      ]
    },
    {
      "cell_type": "markdown",
      "metadata": {
        "id": "-aeA1Ezz2DD4"
      },
      "source": [
        "Now we train the model using label smoothing."
      ]
    },
    {
      "cell_type": "code",
      "metadata": {
        "colab": {
          "base_uri": "https://localhost:8080/"
        },
        "id": "CmqcfpF42DD4",
        "outputId": "82ed36cf-b6e7-44b5-972f-c55826870d8c"
      },
      "source": [
        "QMC_model = create_ViT_QMC_model(transformer_layers=1, gamma=gamma, n_comp=40, num_rff=512)\n",
        "history = run_experiment(QMC_model, learning_rate=0.01, epochs=15, label_smoothing=0.4)"
      ],
      "execution_count": 251,
      "outputs": [
        {
          "output_type": "stream",
          "name": "stdout",
          "text": [
            "Epoch 1/15\n",
            "211/211 [==============================] - 6s 17ms/step - loss: 1.7918 - accuracy: 0.7064 - val_loss: 1.5708 - val_accuracy: 0.9127\n",
            "Epoch 2/15\n",
            "211/211 [==============================] - 3s 15ms/step - loss: 1.5719 - accuracy: 0.9124 - val_loss: 1.5248 - val_accuracy: 0.9488\n",
            "Epoch 3/15\n",
            "211/211 [==============================] - 3s 15ms/step - loss: 1.5388 - accuracy: 0.9373 - val_loss: 1.5137 - val_accuracy: 0.9555\n",
            "Epoch 4/15\n",
            "211/211 [==============================] - 3s 15ms/step - loss: 1.5232 - accuracy: 0.9490 - val_loss: 1.5073 - val_accuracy: 0.9592\n",
            "Epoch 5/15\n",
            "211/211 [==============================] - 3s 15ms/step - loss: 1.5137 - accuracy: 0.9570 - val_loss: 1.4977 - val_accuracy: 0.9673\n",
            "Epoch 6/15\n",
            "211/211 [==============================] - 3s 15ms/step - loss: 1.5070 - accuracy: 0.9618 - val_loss: 1.4982 - val_accuracy: 0.9667\n",
            "Epoch 7/15\n",
            "211/211 [==============================] - 3s 15ms/step - loss: 1.5028 - accuracy: 0.9650 - val_loss: 1.4912 - val_accuracy: 0.9745\n",
            "Epoch 8/15\n",
            "211/211 [==============================] - 3s 15ms/step - loss: 1.4981 - accuracy: 0.9685 - val_loss: 1.4916 - val_accuracy: 0.9700\n",
            "Epoch 9/15\n",
            "211/211 [==============================] - 3s 15ms/step - loss: 1.4959 - accuracy: 0.9710 - val_loss: 1.4864 - val_accuracy: 0.9735\n",
            "Epoch 10/15\n",
            "211/211 [==============================] - 3s 15ms/step - loss: 1.4923 - accuracy: 0.9731 - val_loss: 1.4902 - val_accuracy: 0.9730\n",
            "Epoch 11/15\n",
            "211/211 [==============================] - 3s 15ms/step - loss: 1.4907 - accuracy: 0.9739 - val_loss: 1.4856 - val_accuracy: 0.9763\n",
            "Epoch 12/15\n",
            "211/211 [==============================] - 3s 15ms/step - loss: 1.4884 - accuracy: 0.9763 - val_loss: 1.4889 - val_accuracy: 0.9723\n",
            "Epoch 13/15\n",
            "211/211 [==============================] - 3s 15ms/step - loss: 1.4864 - accuracy: 0.9779 - val_loss: 1.4858 - val_accuracy: 0.9768\n",
            "Epoch 14/15\n",
            "211/211 [==============================] - 3s 15ms/step - loss: 1.4850 - accuracy: 0.9784 - val_loss: 1.4816 - val_accuracy: 0.9793\n",
            "Epoch 15/15\n",
            "211/211 [==============================] - 3s 15ms/step - loss: 1.4834 - accuracy: 0.9796 - val_loss: 1.4834 - val_accuracy: 0.9748\n",
            "313/313 [==============================] - 1s 4ms/step - loss: 1.4901 - accuracy: 0.9694\n",
            "Test accuracy: 96.94%\n"
          ]
        }
      ]
    },
    {
      "cell_type": "code",
      "metadata": {
        "colab": {
          "base_uri": "https://localhost:8080/",
          "height": 299
        },
        "id": "zY48PLNF2DD4",
        "outputId": "a1d9c3fa-16d1-4357-a74b-a15a6f9c9c54"
      },
      "source": [
        "print(QMC_model.layers[8])\n",
        "lamb = np.abs(QMC_model.layers[8].weights[2].numpy())\n",
        "lamb = lamb / lamb.sum()\n",
        "plt.plot(lamb)\n",
        "num_comps = (lamb >= 0.01).sum()\n",
        "print(f'Non-zero components:{num_comps}')"
      ],
      "execution_count": 252,
      "outputs": [
        {
          "output_type": "stream",
          "name": "stdout",
          "text": [
            "<qmc.tf.layers.QMClassifSDecompFDMatrix object at 0x7f166a652c10>\n",
            "Non-zero components:25\n"
          ]
        },
        {
          "output_type": "display_data",
          "data": {
            "image/png": "[encoded data removed]",
            "text/plain": [
              "<Figure size 432x288 with 1 Axes>"
            ]
          },
          "metadata": {
            "needs_background": "light"
          }
        }
      ]
    },
    {
      "cell_type": "code",
      "metadata": {
        "colab": {
          "base_uri": "https://localhost:8080/",
          "height": 265
        },
        "id": "luMW1JjU2DD5",
        "outputId": "31628357-0cc0-4498-9c4e-0566995db42c"
      },
      "source": [
        "for i in range(len(lamb)):\n",
        "  if lamb[i] >= 0.02:\n",
        "    vals = QMC_model.layers[8].weights[1][:,i] \n",
        "    plt.plot(QMC_model.layers[8].weights[1][:,i]**2)"
      ],
      "execution_count": 254,
      "outputs": [
        {
          "output_type": "display_data",
          "data": {
            "image/png": "[encoded data removed]",
            "text/plain": [
              "<Figure size 432x288 with 1 Axes>"
            ]
          },
          "metadata": {
            "needs_background": "light"
          }
        }
      ]
    },
    {
      "cell_type": "code",
      "metadata": {
        "colab": {
          "base_uri": "https://localhost:8080/",
          "height": 970
        },
        "id": "CkO3dt663AjL",
        "outputId": "253783a8-f9d8-4354-be82-5dafed8439e3"
      },
      "source": [
        "img_idx = 6\n",
        "image_show(img_idx)\n",
        "img_in = np.tile(x_test[img_idx], [10,1,1,1])\n",
        "y_in = np.eye(10)\n",
        "attention = attention_model(QMC_model, img_in, y_in)\n",
        "attention_show(attention)\n",
        "print(f'prediction:{QMC_model(x_test[img_idx:img_idx+1])}')"
      ],
      "execution_count": 255,
      "outputs": [
        {
          "output_type": "stream",
          "name": "stdout",
          "text": [
            "prediction:[[0.03567615 0.0555442  0.03151075 0.06076062 0.652371   0.03169453\n",
            "  0.03257894 0.04056755 0.03336222 0.02593415]]\n"
          ]
        },
        {
          "output_type": "display_data",
          "data": {
            "image/png": "[encoded data removed]",
            "text/plain": [
              "<Figure size 288x288 with 2 Axes>"
            ]
          },
          "metadata": {
            "needs_background": "light"
          }
        },
        {
          "output_type": "display_data",
          "data": {
            "image/png": "[encoded data removed]",
            "text/plain": [
              "<Figure size 864x864 with 10 Axes>"
            ]
          },
          "metadata": {
            "needs_background": "light"
          }
        }
      ]
    },
    {
      "cell_type": "code",
      "metadata": {
        "colab": {
          "base_uri": "https://localhost:8080/",
          "height": 970
        },
        "id": "6etJ1-Ht3AjT",
        "outputId": "243549a3-812c-4fb9-ccb0-2875c7266463"
      },
      "source": [
        "img_idx = 7\n",
        "image_show(img_idx)\n",
        "img_in = np.tile(x_test[img_idx], [10,1,1,1])\n",
        "y_in = np.eye(10)\n",
        "attention = attention_model(QMC_model, img_in, y_in)\n",
        "attention_show(attention)\n",
        "print(f'prediction:{QMC_model(x_test[img_idx:img_idx+1])}')"
      ],
      "execution_count": 256,
      "outputs": [
        {
          "output_type": "stream",
          "name": "stdout",
          "text": [
            "prediction:[[0.05018276 0.04698377 0.03985599 0.03514666 0.05681115 0.0506138\n",
            "  0.04964525 0.09053002 0.03800201 0.54222864]]\n"
          ]
        },
        {
          "output_type": "display_data",
          "data": {
            "image/png": "[encoded data removed]",
            "text/plain": [
              "<Figure size 288x288 with 2 Axes>"
            ]
          },
          "metadata": {
            "needs_background": "light"
          }
        },
        {
          "output_type": "display_data",
          "data": {
            "image/png": "[encoded data removed]",
            "text/plain": [
              "<Figure size 864x864 with 10 Axes>"
            ]
          },
          "metadata": {
            "needs_background": "light"
          }
        }
      ]
    },
    {
      "cell_type": "code",
      "metadata": {
        "id": "PPVMOtbm3G1-"
      },
      "source": [
        ""
      ],
      "execution_count": null,
      "outputs": []
    }
  ]
}